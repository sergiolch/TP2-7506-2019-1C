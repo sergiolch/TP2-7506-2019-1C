{
 "cells": [
  {
   "cell_type": "code",
   "execution_count": 2,
   "metadata": {},
   "outputs": [],
   "source": [
    "import pandas as pd\n",
    "import numpy as np\n",
    "import datetime\n",
    "import gc\n"
   ]
  },
  {
   "cell_type": "code",
   "execution_count": 3,
   "metadata": {},
   "outputs": [],
   "source": [
    "## Import up sound alert dependencies\n",
    "from IPython.display import Audio, display\n",
    "\n",
    "def allDone():\n",
    "    display(Audio(url='https://sound.peal.io/ps/audios/000/000/537/original/woo_vu_luvub_dub_dub.wav', autoplay=True))\n",
    "## Insert whatever audio file you want above"
   ]
  },
  {
   "cell_type": "code",
   "execution_count": 4,
   "metadata": {},
   "outputs": [],
   "source": [
    "def fix_str_float(ds, col):\n",
    "    ds[col] = ds[col].str.replace(r'[^0-9\\.]','')\n",
    "    ds[col] = np.where(ds[col]=='',np.nan,ds[col])\n",
    "    ds[col] = ds[col].astype('float32')\n",
    "    return ds[col].astype('float32')"
   ]
  },
  {
   "cell_type": "code",
   "execution_count": 5,
   "metadata": {},
   "outputs": [
    {
     "data": {
      "text/html": [
       "\n",
       "                <audio controls=\"controls\" autoplay=\"autoplay\">\n",
       "                    <source src=\"https://sound.peal.io/ps/audios/000/000/537/original/woo_vu_luvub_dub_dub.wav\" type=\"audio/x-wav\" />\n",
       "                    Your browser does not support the audio element.\n",
       "                </audio>\n",
       "              "
      ],
      "text/plain": [
       "<IPython.lib.display.Audio object>"
      ]
     },
     "metadata": {},
     "output_type": "display_data"
    },
    {
     "name": "stdout",
     "output_type": "stream",
     "text": [
      "setup done\n"
     ]
    }
   ],
   "source": [
    "# clicks\n",
    "clicks_df = pd.read_csv('data/clicks.csv', low_memory=False,dtype={'advertiser_id':'int32','action_id':'float32','source_id':'int32','country_code':'category',\\\n",
    "                                                 'latitude':'float32','longitude':'float32','carrier_id':'float32','os_minor':'category',\\\n",
    "                                                  'os_major':'category','specs_brand':'category','timeToClick':'float32','ref_type':'category'\\\n",
    "                                                                  ,'ref_hash':'object'})\n",
    "\n",
    "clicks_df['touchX'] = fix_str_float(clicks_df,'touchX')\n",
    "clicks_df['touchY'] = fix_str_float(clicks_df,'touchY')\n",
    "clicks_df['created'] = pd.to_datetime(clicks_df['created'])\n",
    "#events\n",
    "events_df = pd.read_csv('data/events.csv', low_memory=False, dtype={'event_id':'int32','ref_type':'category','application_id':'category',\\\n",
    "                                                                                            'attributed':'bool','device_countrycode':'category','device_city':'category',\\\n",
    "                                                                                            'trans_id':'category','carrier':'category','device_os':'category',\\\n",
    "                                                                                            'connection_type':'category'})\n",
    "events_df['date'] = pd.to_datetime(events_df['date'])\n",
    "events_df['wifi'].astype('bool', inplace=True)\n",
    "events_df.drop(columns=['device_countrycode','session_user_agent','ip_address','device_language'], inplace=True)\n",
    "# installs\n",
    "installs_df = pd.read_csv('data/installs.csv', low_memory=False, dtype={'ref_type':'category','application_id':'category',\\\n",
    "                                                      'device_brand':'category','ref_hash':'object','wifi':'category'})\n",
    "installs_df['kind'] = installs_df['kind'].str.lower()\n",
    "installs_df['kind'] = installs_df['kind'].astype('category')\n",
    "installs_df.drop(columns=['session_user_agent','ip_address','device_language','device_model'], inplace=True)\n",
    "installs_df['created'] = pd.to_datetime(installs_df['created'])\n",
    "installs_df.drop(['device_countrycode'], axis=1, inplace=True)\n",
    "# auctions\n",
    "auctions_df = pd.read_csv('data/auctions.csv', low_memory=False, dtype={'country':'category','platform':'category',\\\n",
    "                                                                        'ref_type_id':'category','source_id':'category','device_id':'object'})\n",
    "\n",
    "auctions_df['date'] = pd.to_datetime(auctions_df['date'])\n",
    "allDone()\n",
    "print('setup done')\n"
   ]
  },
  {
   "cell_type": "code",
   "execution_count": 6,
   "metadata": {},
   "outputs": [],
   "source": [
    "competencia_ids = pd.read_csv('data/target_competencia_ids.csv')\n",
    "competencia_ids['ref_hash'] = competencia_ids['ref_hash'].str.replace('_sc', '')\n",
    "competencia_ids['ref_hash'] = competencia_ids['ref_hash'].str.replace('_st', '')\n",
    "competencia_ids.drop_duplicates(inplace=True)"
   ]
  },
  {
   "cell_type": "markdown",
   "metadata": {},
   "source": [
    "# Target Auctions"
   ]
  },
  {
   "cell_type": "code",
   "execution_count": 7,
   "metadata": {},
   "outputs": [],
   "source": [
    "competencia_ids = pd.read_csv('data/target_competencia_ids.csv')\n",
    "competencia_ids['ref_hash'] = competencia_ids['ref_hash'].str.replace('_sc', '')\n",
    "competencia_ids['ref_hash'] = competencia_ids['ref_hash'].str.replace('_st', '')\n",
    "competencia_ids.drop_duplicates(inplace=True)\n",
    "competencia_ids = competencia_ids['ref_hash']"
   ]
  },
  {
   "cell_type": "code",
   "execution_count": 8,
   "metadata": {},
   "outputs": [
    {
     "data": {
      "text/plain": [
       "152"
      ]
     },
     "execution_count": 8,
     "metadata": {},
     "output_type": "execute_result"
    }
   ],
   "source": [
    "auctions_sample = auctions_df.loc[auctions_df['device_id'].isin(competencia_ids)].copy()\n",
    "installs_sample = installs_df.loc[installs_df['ref_hash'].isin(competencia_ids)].copy()\n",
    "events_sample = events_df.loc[events_df['ref_hash'].isin(competencia_ids)].copy()\n",
    "del auctions_df\n",
    "gc.collect()"
   ]
  },
  {
   "cell_type": "code",
   "execution_count": 9,
   "metadata": {},
   "outputs": [],
   "source": [
    "# calculate time in seconds\n",
    "auctions_sample.drop_duplicates(inplace=True)\n",
    "auctions_sample = auctions_sample.sort_values(by=['device_id','date'])\n",
    "#calculate previous time in seconds\n",
    "auctions_sample['date_prev'] = auctions_sample['date'].shift()\n",
    "auctions_sample['date_dif_prev'] = auctions_sample['date']- auctions_sample['date_prev']\n",
    "auctions_sample['device_id_prev'] = auctions_sample['device_id'].astype('object').shift()\n",
    "auctions_sample['date_dif_prev'] = pd.to_timedelta(np.where(auctions_sample['device_id_prev']==auctions_sample['device_id'], auctions_sample['date_dif_prev'], np.where(auctions_sample['date']-pd.DateOffset(3)<'2019-04-18 00:00:00', auctions_sample['date']-datetime.datetime(2019,4,18), pd.to_timedelta(3, unit='d'))))\n",
    "auctions_sample['last_seen'] = auctions_sample['date_dif_prev'].dt.total_seconds()\n",
    "auctions_sample.drop(['device_id_prev','date_dif_prev','date_prev'], axis='columns', inplace=True)\n",
    "auctions_sample = auctions_sample.sort_values(by=['date'])\n",
    "#get last date of all devices ids\n",
    "group_1 = auctions_sample.groupby(['device_id']).agg({'date': 'max'}).reset_index()\n",
    "auctions_sample = pd.merge(auctions_sample, group_1, on=['device_id', 'date'], how='inner')\n",
    "\n"
   ]
  },
  {
   "cell_type": "code",
   "execution_count": 10,
   "metadata": {},
   "outputs": [
    {
     "name": "stdout",
     "output_type": "stream",
     "text": [
      "1\n",
      "2\n",
      "3\n",
      "4\n",
      "5\n",
      "6\n",
      "7\n",
      "8\n",
      "9\n",
      "10\n",
      "11\n",
      "12\n",
      "13\n",
      "14\n",
      "15\n"
     ]
    },
    {
     "data": {
      "text/html": [
       "<div>\n",
       "<style scoped>\n",
       "    .dataframe tbody tr th:only-of-type {\n",
       "        vertical-align: middle;\n",
       "    }\n",
       "\n",
       "    .dataframe tbody tr th {\n",
       "        vertical-align: top;\n",
       "    }\n",
       "\n",
       "    .dataframe thead th {\n",
       "        text-align: right;\n",
       "    }\n",
       "</style>\n",
       "<table border=\"1\" class=\"dataframe\">\n",
       "  <thead>\n",
       "    <tr style=\"text-align: right;\">\n",
       "      <th></th>\n",
       "      <th>dia</th>\n",
       "      <th>hora</th>\n",
       "      <th>hour_day_dist</th>\n",
       "    </tr>\n",
       "  </thead>\n",
       "  <tbody>\n",
       "    <tr>\n",
       "      <th>0</th>\n",
       "      <td>18</td>\n",
       "      <td>0</td>\n",
       "      <td>0.004796</td>\n",
       "    </tr>\n",
       "    <tr>\n",
       "      <th>1</th>\n",
       "      <td>18</td>\n",
       "      <td>1</td>\n",
       "      <td>0.011990</td>\n",
       "    </tr>\n",
       "    <tr>\n",
       "      <th>2</th>\n",
       "      <td>18</td>\n",
       "      <td>2</td>\n",
       "      <td>0.004796</td>\n",
       "    </tr>\n",
       "    <tr>\n",
       "      <th>3</th>\n",
       "      <td>18</td>\n",
       "      <td>3</td>\n",
       "      <td>0.011990</td>\n",
       "    </tr>\n",
       "    <tr>\n",
       "      <th>4</th>\n",
       "      <td>18</td>\n",
       "      <td>4</td>\n",
       "      <td>0.007194</td>\n",
       "    </tr>\n",
       "  </tbody>\n",
       "</table>\n",
       "</div>"
      ],
      "text/plain": [
       "   dia  hora  hour_day_dist\n",
       "0   18     0       0.004796\n",
       "1   18     1       0.011990\n",
       "2   18     2       0.004796\n",
       "3   18     3       0.011990\n",
       "4   18     4       0.007194"
      ]
     },
     "metadata": {},
     "output_type": "display_data"
    },
    {
     "name": "stdout",
     "output_type": "stream",
     "text": [
      "(4037, 182)\n",
      "(4037, 181)\n",
      "16\n",
      "17\n",
      "18\n",
      "19\n"
     ]
    }
   ],
   "source": [
    "#some features\n",
    "auct_cols = auctions_sample.columns.tolist()\n",
    "print(1)\n",
    "#installs and evetns\n",
    "events_sample['kind'] = 'event'\n",
    "print(2)\n",
    "installs_sample['kind'] = installs_sample['kind'].str.replace(' ', '_').str.lower()\n",
    "print(3)\n",
    "#information about last installs and events\n",
    "applications = installs_sample[['ref_hash','created','application_id','kind']].append(events_sample[['ref_hash', 'date', 'application_id','kind']].rename(columns = {'date':'created'}), ignore_index=True)\n",
    "print(4)\n",
    "data_1 = pd.merge(auctions_sample, applications, left_on='device_id', right_on='ref_hash', how='left')\n",
    "print(5)\n",
    "#only previus installs or events\n",
    "data_1 = data_1.loc[(data_1['date']>data_1['created']) | data_1['created'].isnull()]\n",
    "print(6)\n",
    "\n",
    "# application_id feature by id\n",
    "app_id_1 = data_1[['application_id','kind']].copy()\n",
    "print(7)\n",
    "app_id_1 = pd.get_dummies(app_id_1, dummy_na=True, prefix_sep='=')\n",
    "print(8)\n",
    "data_1.drop(columns=['application_id'], inplace=True)\n",
    "print(9)\n",
    "data_1 = pd.merge(data_1, app_id_1, left_index=True, right_index=True, how='inner')\n",
    "print(10)\n",
    "\n",
    "app_id_1_columns = app_id_1.columns.tolist()\n",
    "print(11)\n",
    "\n",
    "group_1 = data_1.groupby(auct_cols).agg({col:'sum' for col in app_id_1_columns})\n",
    "print(12)\n",
    "group_1.reset_index(inplace=True)\n",
    "\n",
    "del installs_sample\n",
    "del events_sample\n",
    "gc.collect()\n",
    "print(13)\n",
    "auctions_sample = pd.merge(auctions_sample, group_1, on=['date','device_id','ref_type_id','source_id', 'last_seen'], how='left')\n",
    "print(14)\n",
    "auctions_sample = auctions_sample.astype({col:'float32' for col in app_id_1_columns})\n",
    "print(15)\n",
    "\n",
    "auctions_sample['hora'] = auctions_sample['date'].dt.hour\n",
    "auctions_sample['dia'] = auctions_sample['date'].dt.day\n",
    "pivot_auctions = auctions_sample.groupby(['dia','hora']).size().reset_index()\n",
    "pivot_auctions.columns = ['dia','hora', 'hour_day_dist']\n",
    "max_auctions = pivot_auctions['hour_day_dist'].max().max()\n",
    "pivot_auctions['hour_day_dist'] = pivot_auctions['hour_day_dist']/max_auctions\n",
    "display(pivot_auctions.head(5))\n",
    "print(auctions_sample.shape)\n",
    "auctions_sample = pd.merge(auctions_sample, pivot_auctions, on=['dia','hora'], how='left')\n",
    "auctions_sample.drop(columns=['hora','dia'], inplace=True)\n",
    "print(auctions_sample.shape)\n",
    "\n",
    "auctions_sample.fillna(value={'application_id=nan':1,'kind=nan':1}, inplace=True)\n",
    "print(16)\n",
    "auctions_sample.fillna(value={col:0 for col in app_id_1_columns}, inplace=True)\n",
    "print(17)\n",
    "auctions_sample = auctions_sample.astype({col:'int32' for col in app_id_1_columns})\n",
    "print(18)\n",
    "auctions_sample.reset_index(inplace=True, drop=True)\n",
    "print(19)\n"
   ]
  },
  {
   "cell_type": "code",
   "execution_count": 11,
   "metadata": {},
   "outputs": [],
   "source": [
    "#cols from auctions sample\n",
    "auctions_cols = ['application_id=101', 'application_id=116', 'application_id=117', 'application_id=121', 'application_id=122', 'application_id=123', 'application_id=126', 'application_id=128', 'application_id=129', 'application_id=13', 'application_id=133', 'application_id=135', 'application_id=14', 'application_id=140', 'application_id=143', 'application_id=145', 'application_id=147', 'application_id=153', 'application_id=155', 'application_id=158', 'application_id=159', 'application_id=161', 'application_id=163', 'application_id=165', 'application_id=167', 'application_id=170', 'application_id=175', 'application_id=180', 'application_id=185', 'application_id=187', 'application_id=188', 'application_id=19', 'application_id=194', 'application_id=196', 'application_id=197', 'application_id=200', 'application_id=203', 'application_id=21', 'application_id=210', 'application_id=212', 'application_id=214', 'application_id=218', 'application_id=226', 'application_id=230', 'application_id=232', 'application_id=256', 'application_id=26', 'application_id=261', 'application_id=263', 'application_id=265', 'application_id=268', 'application_id=269', 'application_id=27', 'application_id=274', 'application_id=279', 'application_id=289', 'application_id=291', 'application_id=3', 'application_id=30', 'application_id=301', 'application_id=302', 'application_id=305', 'application_id=308', 'application_id=309', 'application_id=31', 'application_id=311', 'application_id=327', 'application_id=330', 'application_id=339', 'application_id=34', 'application_id=35', 'application_id=36', 'application_id=39', 'application_id=4', 'application_id=42', 'application_id=45', 'application_id=49', 'application_id=54', 'application_id=55', 'application_id=56', 'application_id=57', 'application_id=62', 'application_id=65', 'application_id=66', 'application_id=68', 'application_id=70', 'application_id=71', 'application_id=72', 'application_id=75', 'application_id=77', 'application_id=78', 'application_id=80', 'application_id=81', 'application_id=86', 'application_id=87', 'application_id=94', 'application_id=96', 'application_id=nan', 'date', 'device_id', 'hour_day_dist', 'in_seconds', 'kind=01_launch', 'kind=account_summary_first_step', 'kind=added_personal_info', 'kind=af_app_opend', 'kind=af_app_opened', 'kind=af_search', 'kind=af_view_product', 'kind=app_open', 'kind=applaunch', 'kind=deeplink', 'kind=deeplink_open', 'kind=list_view', 'kind=login_success', 'kind=mobilesignup', 'kind=nan', 'kind=open', 'kind=pax_app_open', 'kind=product_view', 'kind=registration_complete', 'kind=sessionbegin', 'kind=sign_in', 'last_seen', 'ref_type_id', 'source_id', 'status_censored']\n"
   ]
  },
  {
   "cell_type": "code",
   "execution_count": 12,
   "metadata": {},
   "outputs": [],
   "source": [
    "for col in auctions_cols:\n",
    "    if not(col in auctions_sample.columns):\n",
    "        auctions_sample[col] = 0\n",
    "auctions_sample = auctions_sample[auctions_cols]"
   ]
  },
  {
   "cell_type": "code",
   "execution_count": 13,
   "metadata": {},
   "outputs": [
    {
     "data": {
      "text/plain": [
       "(4037, 127)"
      ]
     },
     "execution_count": 13,
     "metadata": {},
     "output_type": "execute_result"
    }
   ],
   "source": [
    "auctions_sample.shape"
   ]
  },
  {
   "cell_type": "code",
   "execution_count": 14,
   "metadata": {},
   "outputs": [
    {
     "data": {
      "text/plain": [
       "(4037,)"
      ]
     },
     "execution_count": 14,
     "metadata": {},
     "output_type": "execute_result"
    }
   ],
   "source": [
    "competencia_ids.shape"
   ]
  },
  {
   "cell_type": "code",
   "execution_count": 15,
   "metadata": {},
   "outputs": [],
   "source": [
    "#export to file\n",
    "auctions_sample.to_csv('data/auctions_target.csv', index=False) "
   ]
  },
  {
   "cell_type": "code",
   "execution_count": 16,
   "metadata": {},
   "outputs": [
    {
     "data": {
      "text/plain": [
       "251"
      ]
     },
     "execution_count": 16,
     "metadata": {},
     "output_type": "execute_result"
    }
   ],
   "source": [
    "del auctions_sample\n",
    "gc.collect()"
   ]
  },
  {
   "cell_type": "markdown",
   "metadata": {},
   "source": [
    "# Target Convertions"
   ]
  },
  {
   "cell_type": "code",
   "execution_count": 17,
   "metadata": {},
   "outputs": [],
   "source": [
    "installs_sample = installs_df.loc[installs_df['ref_hash'].isin(competencia_ids)].copy()\n",
    "events_sample = events_df.loc[events_df['ref_hash'].isin(competencia_ids)].copy()"
   ]
  },
  {
   "cell_type": "code",
   "execution_count": 18,
   "metadata": {},
   "outputs": [
    {
     "data": {
      "text/html": [
       "<div>\n",
       "<style scoped>\n",
       "    .dataframe tbody tr th:only-of-type {\n",
       "        vertical-align: middle;\n",
       "    }\n",
       "\n",
       "    .dataframe tbody tr th {\n",
       "        vertical-align: top;\n",
       "    }\n",
       "\n",
       "    .dataframe thead th {\n",
       "        text-align: right;\n",
       "    }\n",
       "</style>\n",
       "<table border=\"1\" class=\"dataframe\">\n",
       "  <thead>\n",
       "    <tr style=\"text-align: right;\">\n",
       "      <th></th>\n",
       "      <th>dia</th>\n",
       "      <th>hora</th>\n",
       "      <th>hour_day_dist</th>\n",
       "    </tr>\n",
       "  </thead>\n",
       "  <tbody>\n",
       "    <tr>\n",
       "      <th>0</th>\n",
       "      <td>18</td>\n",
       "      <td>0</td>\n",
       "      <td>0.514706</td>\n",
       "    </tr>\n",
       "    <tr>\n",
       "      <th>1</th>\n",
       "      <td>18</td>\n",
       "      <td>1</td>\n",
       "      <td>0.529412</td>\n",
       "    </tr>\n",
       "    <tr>\n",
       "      <th>2</th>\n",
       "      <td>18</td>\n",
       "      <td>2</td>\n",
       "      <td>0.823529</td>\n",
       "    </tr>\n",
       "    <tr>\n",
       "      <th>3</th>\n",
       "      <td>18</td>\n",
       "      <td>3</td>\n",
       "      <td>0.720588</td>\n",
       "    </tr>\n",
       "    <tr>\n",
       "      <th>4</th>\n",
       "      <td>18</td>\n",
       "      <td>4</td>\n",
       "      <td>0.397059</td>\n",
       "    </tr>\n",
       "  </tbody>\n",
       "</table>\n",
       "</div>"
      ],
      "text/plain": [
       "   dia  hora  hour_day_dist\n",
       "0   18     0       0.514706\n",
       "1   18     1       0.529412\n",
       "2   18     2       0.823529\n",
       "3   18     3       0.720588\n",
       "4   18     4       0.397059"
      ]
     },
     "metadata": {},
     "output_type": "display_data"
    }
   ],
   "source": [
    "#calculate previous time in seconds\n",
    "installs_sample = installs_sample.sort_values(by=['ref_hash','created'])\n",
    "installs_sample['date_prev'] = installs_sample['created'].shift()\n",
    "installs_sample['date_dif_prev'] = installs_sample['created']- installs_sample['date_prev']\n",
    "installs_sample['device_id_prev'] = installs_sample['ref_hash'].astype('object').shift()\n",
    "installs_sample['date_dif_prev'] = pd.to_timedelta(np.where(installs_sample['device_id_prev']==installs_sample['ref_hash'], installs_sample['date_dif_prev'], np.where(installs_sample['created']-pd.DateOffset(3)<'2019-04-18 00:00:00', installs_sample['created']-datetime.datetime(2019,4,18), pd.to_timedelta(3, unit='d'))))\n",
    "installs_sample['last_seen'] = installs_sample['date_dif_prev'].dt.total_seconds()\n",
    "installs_sample.drop(['device_id_prev','date_dif_prev','date_prev'], axis='columns', inplace=True)\n",
    "installs_sample = installs_sample.sort_values(by=['created'])\n",
    "\n",
    "#average time\n",
    "installs_sample['hora'] = installs_sample['created'].dt.hour\n",
    "installs_sample['dia'] = installs_sample['created'].dt.day\n",
    "pivot_auctions = installs_sample.groupby(['dia','hora']).size().reset_index()\n",
    "pivot_auctions.columns = ['dia','hora', 'hour_day_dist']\n",
    "max_auctions = pivot_auctions['hour_day_dist'].max().max()\n",
    "pivot_auctions['hour_day_dist'] = pivot_auctions['hour_day_dist']/max_auctions\n",
    "display(pivot_auctions.head(5))\n",
    "installs_sample = pd.merge(installs_sample, pivot_auctions, on=['dia','hora'], how='left')\n",
    "installs_sample.drop(columns=['hora','dia'], inplace=True)\n",
    "\n",
    "\n"
   ]
  },
  {
   "cell_type": "code",
   "execution_count": 19,
   "metadata": {},
   "outputs": [
    {
     "data": {
      "text/html": [
       "<div>\n",
       "<style scoped>\n",
       "    .dataframe tbody tr th:only-of-type {\n",
       "        vertical-align: middle;\n",
       "    }\n",
       "\n",
       "    .dataframe tbody tr th {\n",
       "        vertical-align: top;\n",
       "    }\n",
       "\n",
       "    .dataframe thead th {\n",
       "        text-align: right;\n",
       "    }\n",
       "</style>\n",
       "<table border=\"1\" class=\"dataframe\">\n",
       "  <thead>\n",
       "    <tr style=\"text-align: right;\">\n",
       "      <th></th>\n",
       "      <th>dia</th>\n",
       "      <th>hora</th>\n",
       "      <th>hour_day_dist</th>\n",
       "    </tr>\n",
       "  </thead>\n",
       "  <tbody>\n",
       "    <tr>\n",
       "      <th>0</th>\n",
       "      <td>18</td>\n",
       "      <td>0</td>\n",
       "      <td>0.332133</td>\n",
       "    </tr>\n",
       "    <tr>\n",
       "      <th>1</th>\n",
       "      <td>18</td>\n",
       "      <td>1</td>\n",
       "      <td>0.377138</td>\n",
       "    </tr>\n",
       "    <tr>\n",
       "      <th>2</th>\n",
       "      <td>18</td>\n",
       "      <td>2</td>\n",
       "      <td>0.504050</td>\n",
       "    </tr>\n",
       "    <tr>\n",
       "      <th>3</th>\n",
       "      <td>18</td>\n",
       "      <td>3</td>\n",
       "      <td>0.383438</td>\n",
       "    </tr>\n",
       "    <tr>\n",
       "      <th>4</th>\n",
       "      <td>18</td>\n",
       "      <td>4</td>\n",
       "      <td>0.372637</td>\n",
       "    </tr>\n",
       "  </tbody>\n",
       "</table>\n",
       "</div>"
      ],
      "text/plain": [
       "   dia  hora  hour_day_dist\n",
       "0   18     0       0.332133\n",
       "1   18     1       0.377138\n",
       "2   18     2       0.504050\n",
       "3   18     3       0.383438\n",
       "4   18     4       0.372637"
      ]
     },
     "metadata": {},
     "output_type": "display_data"
    }
   ],
   "source": [
    "#calculate previous time in seconds\n",
    "events_sample = events_sample.rename(columns = {'date':'created'}).sort_values(by=['ref_hash','created'])\n",
    "events_sample['date_prev'] = events_sample['created'].shift()\n",
    "events_sample['date_dif_prev'] = events_sample['created']- events_sample['date_prev']\n",
    "events_sample['device_id_prev'] = events_sample['ref_hash'].astype('object').shift()\n",
    "events_sample['date_dif_prev'] = pd.to_timedelta(np.where(events_sample['device_id_prev']==events_sample['ref_hash'], events_sample['date_dif_prev'], np.where(events_sample['created']-pd.DateOffset(3)<'2019-04-18 00:00:00', events_sample['created']-datetime.datetime(2019,4,18), pd.to_timedelta(3, unit='d'))))\n",
    "events_sample['last_seen'] = events_sample['date_dif_prev'].dt.total_seconds()\n",
    "events_sample.drop(['device_id_prev','date_dif_prev','date_prev'], axis='columns', inplace=True)\n",
    "events_sample = events_sample.sort_values(by=['created'])\n",
    "events_sample['user_agent']=np.nan\n",
    "events_sample['kind']='event' #it is hashed\n",
    "\n",
    "#average time\n",
    "events_sample['hora'] = events_sample['created'].dt.hour\n",
    "events_sample['dia'] = events_sample['created'].dt.day\n",
    "pivot_auctions = events_sample.groupby(['dia','hora']).size().reset_index()\n",
    "pivot_auctions.columns = ['dia','hora', 'hour_day_dist']\n",
    "max_auctions = pivot_auctions['hour_day_dist'].max().max()\n",
    "pivot_auctions['hour_day_dist'] = pivot_auctions['hour_day_dist']/max_auctions\n",
    "display(pivot_auctions.head(5))\n",
    "events_sample = pd.merge(events_sample, pivot_auctions, on=['dia','hora'], how='left')\n",
    "events_sample.drop(columns=['hora','dia'], inplace=True)\n",
    "\n"
   ]
  },
  {
   "cell_type": "code",
   "execution_count": 20,
   "metadata": {},
   "outputs": [
    {
     "name": "stdout",
     "output_type": "stream",
     "text": [
      "1\n",
      "2\n",
      "3\n",
      "4\n",
      "6\n",
      "7\n",
      "8\n",
      "9\n"
     ]
    }
   ],
   "source": [
    "#some features\n",
    "install_cols = installs_sample.columns.tolist()\n",
    "print(1)\n",
    "#information about last installs and events\n",
    "convertions = installs_sample[['ref_hash','created','application_id','user_agent','wifi','kind','last_seen','hour_day_dist']].append(events_sample[['ref_hash', 'created', 'application_id','user_agent','wifi','kind','last_seen','hour_day_dist']], ignore_index=True)\n",
    "\n",
    "print(2)\n",
    "\n",
    "#user agent\n",
    "convertions['user_agent'] = np.where(convertions['user_agent'].str.contains('Android', regex=False),'Android',convertions['user_agent'])\n",
    "convertions['user_agent'] = np.where(convertions['user_agent'].str.contains('Darwin', regex=False) | convertions['user_agent'].str.contains('iOS', regex=False),'iOS',convertions['user_agent'])\n",
    "print(3)\n",
    "\n",
    "# previus applications\n",
    "\n",
    "app_id_1 = convertions[['application_id','created','ref_hash']].copy()\n",
    "group_1 = pd.merge(convertions, app_id_1, on='ref_hash', how='inner')\n",
    "group_1 = group_1.loc[(group_1['created_x']>group_1['created_y']) | group_1['created_y'].isnull()]\n",
    "group_1['application_id'] = group_1['application_id_y']\n",
    "group_1['created'] = group_1['created_x']\n",
    "group_1.drop(columns=['application_id_y','created_x', 'application_id_x'], inplace=True)\n",
    "group_1 = group_1.loc[group_1['created_y']>group_1['created']-pd.DateOffset(7)]\n",
    "group_1 = pd.get_dummies(group_1,prefix_sep='=', dummy_na=True,columns=['application_id'],drop_first=True)\n",
    "app_id_1_columns = []\n",
    "for col in group_1.columns.tolist():\n",
    "    if col.startswith('application_id'):\n",
    "        app_id_1_columns.append(col)\n",
    "group_1 = group_1.groupby(['created','ref_hash']).agg({col:'sum' for col in app_id_1_columns})\n",
    "convertions = pd.merge(convertions, group_1, on=['created','ref_hash'], how='left')\n",
    "convertions['curr_app_id'] = convertions['application_id']\n",
    "convertions.drop(columns=['application_id'], inplace=True)\n",
    "print(4)\n",
    "\n",
    "\n",
    "\n",
    "convertions = pd.get_dummies(convertions,prefix_sep='=', dummy_na=True,columns=['curr_app_id','wifi', 'kind', 'user_agent'],drop_first=True)\n",
    "\n",
    "convertions.fillna(value={'application_id=nan':1,'kind=nan':1,'curr_app_id=nan':1}, inplace=True)\n",
    "print(6)\n",
    "convertions.fillna(value={col:0 for col in app_id_1_columns}, inplace=True)\n",
    "print(7)\n",
    "convertions = convertions.astype({col:'int32' for col in app_id_1_columns})\n",
    "print(8)\n",
    "convertions.reset_index(inplace=True, drop=True)\n",
    "print(9)\n"
   ]
  },
  {
   "cell_type": "code",
   "execution_count": 21,
   "metadata": {},
   "outputs": [
    {
     "name": "stdout",
     "output_type": "stream",
     "text": [
      "(83967, 315)\n",
      "(4037, 2)\n",
      "(4037, 315)\n"
     ]
    }
   ],
   "source": [
    "print(convertions.shape)\n",
    "\n",
    "# only last info\n",
    "convertions['ref_hash'] = convertions['ref_hash'].map(str)\n",
    "group_1 = convertions.groupby(['ref_hash']).agg({'created': 'max'}).reset_index()\n",
    "print(group_1.shape)\n",
    "convertions2 = pd.merge(convertions, group_1, on=['ref_hash','created'], how='inner')\n",
    "\n",
    "## delete duplicates\n",
    "convertions2=convertions2.sort_values('last_seen', ascending=False).drop_duplicates('ref_hash').sort_index()\n",
    "\n",
    "print(convertions2.shape)"
   ]
  },
  {
   "cell_type": "code",
   "execution_count": 22,
   "metadata": {},
   "outputs": [],
   "source": [
    "#cols from convertions sample\n",
    "convertions_cols = ['application_id=116', 'application_id=117', 'application_id=121', 'application_id=122', 'application_id=123', 'application_id=124', 'application_id=126', 'application_id=128', 'application_id=13', 'application_id=133', 'application_id=135', 'application_id=136', 'application_id=14', 'application_id=140', 'application_id=145', 'application_id=147', 'application_id=148', 'application_id=149', 'application_id=150', 'application_id=154', 'application_id=155', 'application_id=157', 'application_id=158', 'application_id=159', 'application_id=16', 'application_id=161', 'application_id=163', 'application_id=164', 'application_id=167', 'application_id=170', 'application_id=178', 'application_id=182', 'application_id=185', 'application_id=187', 'application_id=19', 'application_id=190', 'application_id=194', 'application_id=195', 'application_id=196', 'application_id=197', 'application_id=200', 'application_id=204', 'application_id=21', 'application_id=210', 'application_id=213', 'application_id=214', 'application_id=218', 'application_id=219', 'application_id=221', 'application_id=226', 'application_id=230', 'application_id=231', 'application_id=235', 'application_id=239', 'application_id=243', 'application_id=248', 'application_id=256', 'application_id=26', 'application_id=263', 'application_id=265', 'application_id=268', 'application_id=269', 'application_id=274', 'application_id=279', 'application_id=289', 'application_id=291', 'application_id=3', 'application_id=302', 'application_id=305', 'application_id=308', 'application_id=309', 'application_id=31', 'application_id=311', 'application_id=320', 'application_id=323', 'application_id=327', 'application_id=339', 'application_id=34', 'application_id=344', 'application_id=35', 'application_id=36', 'application_id=39', 'application_id=41', 'application_id=45', 'application_id=48', 'application_id=49', 'application_id=54', 'application_id=55', 'application_id=56', 'application_id=57', 'application_id=62', 'application_id=65', 'application_id=68', 'application_id=70', 'application_id=71', 'application_id=75', 'application_id=77', 'application_id=78', 'application_id=79', 'application_id=80', 'application_id=86', 'application_id=87', 'application_id=93', 'application_id=94', 'application_id=97', 'application_id=99', 'application_id=nan', 'created', 'curr_app_id=112', 'curr_app_id=116', 'curr_app_id=117', 'curr_app_id=121', 'curr_app_id=122', 'curr_app_id=123', 'curr_app_id=124', 'curr_app_id=126', 'curr_app_id=128', 'curr_app_id=129', 'curr_app_id=13', 'curr_app_id=133', 'curr_app_id=135', 'curr_app_id=136', 'curr_app_id=14', 'curr_app_id=140', 'curr_app_id=143', 'curr_app_id=145', 'curr_app_id=146', 'curr_app_id=147', 'curr_app_id=148', 'curr_app_id=149', 'curr_app_id=150', 'curr_app_id=154', 'curr_app_id=155', 'curr_app_id=157', 'curr_app_id=158', 'curr_app_id=159', 'curr_app_id=16', 'curr_app_id=161', 'curr_app_id=163', 'curr_app_id=164', 'curr_app_id=165', 'curr_app_id=167', 'curr_app_id=170', 'curr_app_id=174', 'curr_app_id=175', 'curr_app_id=178', 'curr_app_id=180', 'curr_app_id=182', 'curr_app_id=185', 'curr_app_id=187', 'curr_app_id=19', 'curr_app_id=190', 'curr_app_id=191', 'curr_app_id=194', 'curr_app_id=195', 'curr_app_id=196', 'curr_app_id=197', 'curr_app_id=200', 'curr_app_id=203', 'curr_app_id=204', 'curr_app_id=205', 'curr_app_id=21', 'curr_app_id=210', 'curr_app_id=212', 'curr_app_id=213', 'curr_app_id=214', 'curr_app_id=218', 'curr_app_id=219', 'curr_app_id=221', 'curr_app_id=226', 'curr_app_id=230', 'curr_app_id=231', 'curr_app_id=232', 'curr_app_id=234', 'curr_app_id=235', 'curr_app_id=237', 'curr_app_id=239', 'curr_app_id=243', 'curr_app_id=247', 'curr_app_id=248', 'curr_app_id=256', 'curr_app_id=26', 'curr_app_id=261', 'curr_app_id=263', 'curr_app_id=265', 'curr_app_id=267', 'curr_app_id=268', 'curr_app_id=269', 'curr_app_id=27', 'curr_app_id=274', 'curr_app_id=279', 'curr_app_id=282', 'curr_app_id=289', 'curr_app_id=291', 'curr_app_id=3', 'curr_app_id=30', 'curr_app_id=301', 'curr_app_id=302', 'curr_app_id=304', 'curr_app_id=305', 'curr_app_id=308', 'curr_app_id=309', 'curr_app_id=31', 'curr_app_id=311', 'curr_app_id=320', 'curr_app_id=323', 'curr_app_id=327', 'curr_app_id=336', 'curr_app_id=339', 'curr_app_id=34', 'curr_app_id=341', 'curr_app_id=344', 'curr_app_id=35', 'curr_app_id=36', 'curr_app_id=39', 'curr_app_id=4', 'curr_app_id=41', 'curr_app_id=45', 'curr_app_id=47', 'curr_app_id=48', 'curr_app_id=49', 'curr_app_id=54', 'curr_app_id=55', 'curr_app_id=56', 'curr_app_id=57', 'curr_app_id=62', 'curr_app_id=65', 'curr_app_id=66', 'curr_app_id=68', 'curr_app_id=70', 'curr_app_id=71', 'curr_app_id=72', 'curr_app_id=75', 'curr_app_id=77', 'curr_app_id=78', 'curr_app_id=79', 'curr_app_id=80', 'curr_app_id=81', 'curr_app_id=86', 'curr_app_id=87', 'curr_app_id=89', 'curr_app_id=93', 'curr_app_id=94', 'curr_app_id=96', 'curr_app_id=97', 'curr_app_id=99', 'curr_app_id=nan', 'hour_day_dist', 'in_seconds', 'kind=account_summary_first_step', 'kind=add_payment', 'kind=add_to_cart', 'kind=adjust_reinstall', 'kind=adjust_uninstall', 'kind=af app open', 'kind=af_app_opend', 'kind=af_app_opened', 'kind=af_content_view', 'kind=af_search', 'kind=af_view_list', 'kind=af_view_product', 'kind=app first start', 'kind=app launch', 'kind=app open', 'kind=app_alive', 'kind=app_launch', 'kind=app_open', 'kind=app_opened', 'kind=background_session', 'kind=content view', 'kind=deeplink', 'kind=deeplink_open', 'kind=event', 'kind=event_listingview_flight', 'kind=event_open_app', 'kind=install', 'kind=list view', 'kind=login', 'kind=login_success', 'kind=mobilesignup', 'kind=nan', 'kind=open', 'kind=opened_app', 'kind=pax_app_open', 'kind=pre_checkout', 'kind=product view', 'kind=product_open', 'kind=product_preview', 'kind=reattribution', 'kind=reengagement', 'kind=registration_complete', 'kind=session begin', 'kind=sessionbegin', 'kind=sign in', 'kind=startsessionplayback', 'kind=terms_agree_split', 'last_seen', 'ref_hash', 'status_censored', 'user_agent=iOS', 'user_agent=nan', 'wifi=True', 'wifi=false', 'wifi=nan', 'wifi=true']\n"
   ]
  },
  {
   "cell_type": "code",
   "execution_count": 23,
   "metadata": {},
   "outputs": [],
   "source": [
    "for col in convertions_cols:\n",
    "    if not(col in convertions2.columns):\n",
    "        convertions2[col] = 0\n",
    "convertions2 = convertions2[convertions_cols]"
   ]
  },
  {
   "cell_type": "code",
   "execution_count": 24,
   "metadata": {},
   "outputs": [],
   "source": [
    "#export to file\n",
    "convertions2.to_csv('data/convertions_target.csv', index=False) "
   ]
  },
  {
   "cell_type": "code",
   "execution_count": null,
   "metadata": {},
   "outputs": [],
   "source": []
  },
  {
   "cell_type": "code",
   "execution_count": null,
   "metadata": {},
   "outputs": [],
   "source": []
  }
 ],
 "metadata": {
  "kernelspec": {
   "display_name": "Python 3",
   "language": "python",
   "name": "python3"
  },
  "language_info": {
   "codemirror_mode": {
    "name": "ipython",
    "version": 3
   },
   "file_extension": ".py",
   "mimetype": "text/x-python",
   "name": "python",
   "nbconvert_exporter": "python",
   "pygments_lexer": "ipython3",
   "version": "3.7.3"
  }
 },
 "nbformat": 4,
 "nbformat_minor": 2
}
