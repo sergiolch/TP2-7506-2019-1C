{
 "cells": [
  {
   "cell_type": "code",
   "execution_count": 1,
   "metadata": {},
   "outputs": [],
   "source": [
    "import pandas as pd\n",
    "import numpy as np\n",
    "import datetime\n",
    "import gc\n",
    "from sksurv.preprocessing import OneHotEncoder\n",
    "from sksurv.linear_model import CoxPHSurvivalAnalysis\n",
    "from sklearn.feature_selection import SelectKBest\n",
    "from sklearn.pipeline import Pipeline\n",
    "from sklearn.base import BaseEstimator, TransformerMixin\n",
    "from sklearn.model_selection import GridSearchCV, RandomizedSearchCV\n",
    "from sklearn.decomposition import NMF, PCA\n",
    "from sklearn.externals import joblib\n",
    "from tempfile import mkdtemp\n",
    "from shutil import rmtree\n",
    "from sklearn.externals.joblib import Memory\n",
    "import random\n",
    "# graphics TP1\n",
    "import seaborn as sns\n",
    "import matplotlib.pyplot as plt\n",
    "from matplotlib_venn import venn2"
   ]
  },
  {
   "cell_type": "code",
   "execution_count": 2,
   "metadata": {},
   "outputs": [],
   "source": [
    "## Import up sound alert dependencies\n",
    "from IPython.display import Audio, display\n",
    "\n",
    "def allDone():\n",
    "    display(Audio(url='https://sound.peal.io/ps/audios/000/000/537/original/woo_vu_luvub_dub_dub.wav', autoplay=True))\n",
    "## Insert whatever audio file you want above"
   ]
  },
  {
   "cell_type": "markdown",
   "metadata": {},
   "source": [
    "# Sampling\n",
    "---\n",
    "\n",
    "## objetivo\n",
    "\n",
    "Escoger suficientes device IDs para que auctions sean 100,000 registros.\n",
    "\n",
    "## Hipotesis\n",
    "\n",
    "Un sample de device IDs obteniendo todos sus registros relacionados en los diferentes datasets al device ID conservan las propiedades de la distribucion de los datos.\n",
    "\n",
    "## Pasos\n",
    "\n",
    "1. Procesar con el TP1 los nuevos datos\n",
    "2. Hacer un archivo con todos los device IDs de Auctions\n",
    "3. Seleccionar al azar device IDs del archivo y buscar todos sus registros en auctions hasta que sean 100,000 registros\n",
    "4. Procesar el sample como el TP1 para ver que la muestra sea valida. Es decir los graficos tienen que ser parecidos"
   ]
  },
  {
   "cell_type": "markdown",
   "metadata": {},
   "source": [
    "### 1. Procesar con el TP1 los nuevos datos\n",
    "\n",
    "1. ¿Qué franja horaria contuvo la mayor cantidad de subastas?\n",
    "2. Una vez que la etapa de subasta terminó y se realizó la impresión en el dispositivo, ¿dónde nuestros consumidores realizaron clicks en la pantalla? ¿por qué ahí? La concentración de clicks en la pantalla al aparecer una publicidad tienen un por qué, y es lo que intentaremos definir.\n",
    "3. ¿Qué franja horaria contuvo la mayor cantidad de events?\n",
    "4. ¿Cuáles clicks generaron conversiones en events?\n",
    "5. ¿En qué franja horaria se produjo la mayor cantidad de instalaciones?¶\n",
    "6. ¿Cuáles fueron las 4 aplicaciones más instaladas?\n",
    "7. ¿Estar conectado a internet vía wifi tuvo peso a la hora de definir si el consumidor instaló ?\n",
    "8. ¿Cuáles fueron las Apps más instaladas con wifi?\n",
    "9. Si el tipo de conexión en installs tuvo gran importancia ¿tendrá un peso similar la conexión vía wifi en los eventos?\n",
    "10. ¿Cuáles clicks generaron conversiones en installs?\n",
    "11. ¿Cuáles fueron las distribuciones de los eventos de la muestra ?¿Y de los installs?\n",
    "12. ¿Cuáles fueron los tiempos de conversión ?\n",
    "13. ¿Cuál fue la distribución de los eventos de Jammp ? Los más frecuentes.\n",
    "14. Eventos por usuario.\n",
    "15. Eventos por aplicación.\n",
    "16. ¿Se intersectarán los clicks e installs según el usuario? ¿Existirá una proporción?\n",
    "17. ¿Existirá una relación entre los clientes y las aplicaciones ?"
   ]
  },
  {
   "cell_type": "code",
   "execution_count": 3,
   "metadata": {},
   "outputs": [],
   "source": [
    "def fix_str_float(ds, col):\n",
    "    ds[col] = ds[col].str.replace(r'[^0-9\\.]','')\n",
    "    ds[col] = np.where(ds[col]=='',np.nan,ds[col])\n",
    "    ds[col] = ds[col].astype('float32')\n",
    "    return ds[col].astype('float32')"
   ]
  },
  {
   "cell_type": "code",
   "execution_count": 4,
   "metadata": {},
   "outputs": [
    {
     "data": {
      "text/html": [
       "\n",
       "                <audio controls=\"controls\" autoplay=\"autoplay\">\n",
       "                    <source src=\"https://sound.peal.io/ps/audios/000/000/537/original/woo_vu_luvub_dub_dub.wav\" type=\"audio/x-wav\" />\n",
       "                    Your browser does not support the audio element.\n",
       "                </audio>\n",
       "              "
      ],
      "text/plain": [
       "<IPython.lib.display.Audio object>"
      ]
     },
     "metadata": {},
     "output_type": "display_data"
    },
    {
     "name": "stdout",
     "output_type": "stream",
     "text": [
      "setup done\n"
     ]
    }
   ],
   "source": [
    "# clicks\n",
    "clicks_df = pd.read_csv('data/clicks.csv', low_memory=False,dtype={'advertiser_id':'int32','action_id':'float32','source_id':'int32','country_code':'category',\\\n",
    "                                                 'latitude':'float32','longitude':'float32','carrier_id':'float32','os_minor':'category',\\\n",
    "                                                  'os_major':'category','specs_brand':'category','timeToClick':'float32','ref_type':'category'\\\n",
    "                                                                  ,'ref_hash':'object'})\n",
    "\n",
    "clicks_df['touchX'] = fix_str_float(clicks_df,'touchX')\n",
    "clicks_df['touchY'] = fix_str_float(clicks_df,'touchY')\n",
    "clicks_df['created'] = pd.to_datetime(clicks_df['created'])\n",
    "#events\n",
    "events_df = pd.read_csv('data/events.csv', low_memory=False, dtype={'event_id':'int32','ref_type':'category','application_id':'category',\\\n",
    "                                                                                            'attributed':'bool','device_countrycode':'category','device_city':'category',\\\n",
    "                                                                                            'trans_id':'category','carrier':'category','device_os':'category',\\\n",
    "                                                                                            'connection_type':'category'})\n",
    "events_df['date'] = pd.to_datetime(events_df['date'])\n",
    "events_df['wifi'].astype('bool', inplace=True)\n",
    "events_df.drop(columns=['device_countrycode','session_user_agent','ip_address','device_language'], inplace=True)\n",
    "# installs\n",
    "installs_df = pd.read_csv('data/installs.csv', low_memory=False, dtype={'ref_type':'category','application_id':'category',\\\n",
    "                                                      'device_brand':'category','ref_hash':'object','wifi':'category'})\n",
    "installs_df['kind'] = installs_df['kind'].str.lower()\n",
    "installs_df['kind'] = installs_df['kind'].astype('category')\n",
    "installs_df.drop(columns=['session_user_agent','ip_address','device_language','device_model'], inplace=True)\n",
    "installs_df['created'] = pd.to_datetime(installs_df['created'])\n",
    "installs_df.drop(['device_countrycode'], axis=1, inplace=True)\n",
    "# auctions\n",
    "auctions_df = pd.read_csv('data/auctions.csv', low_memory=False, dtype={'country':'category','platform':'category',\\\n",
    "                                                                        'ref_type_id':'category','source_id':'category','device_id':'object'})\n",
    "\n",
    "auctions_df['date'] = pd.to_datetime(auctions_df['date'])\n",
    "allDone()\n",
    "print('setup done')\n"
   ]
  },
  {
   "cell_type": "markdown",
   "metadata": {},
   "source": [
    "#### 1. ¿Qué franja horaria contuvo la mayor cantidad de subastas?"
   ]
  },
  {
   "cell_type": "code",
   "execution_count": 5,
   "metadata": {},
   "outputs": [
    {
     "data": {
      "text/html": [
       "\n",
       "                <audio controls=\"controls\" autoplay=\"autoplay\">\n",
       "                    <source src=\"https://sound.peal.io/ps/audios/000/000/537/original/woo_vu_luvub_dub_dub.wav\" type=\"audio/x-wav\" />\n",
       "                    Your browser does not support the audio element.\n",
       "                </audio>\n",
       "              "
      ],
      "text/plain": [
       "<IPython.lib.display.Audio object>"
      ]
     },
     "metadata": {},
     "output_type": "display_data"
    }
   ],
   "source": [
    "auctions_df.drop_duplicates(inplace=True)\n",
    "auctions_df['hora'] = auctions_df['date'].apply(lambda x: ('%02d-%02d' % (x.hour, (x.hour+1))))\n",
    "auctions_df['dia'] = auctions_df['date'].dt.day_name()+' '+auctions_df['date'].dt.day.map(str)\n",
    "pivot_auctions = auctions_df.groupby(['dia','hora']).size().reset_index()\n",
    "pivot_auctions.columns = ['dia','hora', 'count']\n",
    "pivot_auctions = pivot_auctions.pivot_table(index='hora', columns='dia', values='count',aggfunc='sum', fill_value=0, dropna=False)\n",
    "pivot_auctions = pivot_auctions[['Thursday 18', 'Friday 19', 'Saturday 20', 'Sunday 21', 'Monday 22', 'Tuesday 23', 'Wednesday 24', 'Thursday 25', 'Friday 26']]\n",
    "allDone()\n",
    "#display(pivot_auctions)\n",
    "\n"
   ]
  },
  {
   "cell_type": "code",
   "execution_count": 6,
   "metadata": {},
   "outputs": [
    {
     "data": {
      "image/png": "[encoded data removed]",
      "text/plain": [
       "<Figure size 2880x360 with 2 Axes>"
      ]
     },
     "metadata": {
      "needs_background": "light"
     },
     "output_type": "display_data"
    }
   ],
   "source": [
    "plt.figure(figsize = (40,5))\n",
    "plt.title('Auctions per hour')\n",
    "sns.heatmap(pivot_auctions.T, square = True, linewidth=1, cmap = 'Reds');\n",
    "plt.xticks(rotation = 0);\n",
    "plt.xlabel('Time');\n",
    "plt.ylabel('Day', rotation=0);"
   ]
  },
  {
   "cell_type": "markdown",
   "metadata": {},
   "source": [
    "#### 3. ¿Qué franja horaria contuvo la mayor cantidad de events?"
   ]
  },
  {
   "cell_type": "code",
   "execution_count": 7,
   "metadata": {},
   "outputs": [],
   "source": [
    "events_df['hora'] = events_df['date'].apply(lambda x: ('%02d-%02d' % (x.hour, (x.hour+1))))\n",
    "events_df['dia'] = events_df['date'].dt.day_name()+' '+events_df['date'].dt.day.map(str)\n",
    "pivot_events = events_df.groupby(['dia','hora']).size().reset_index()\n",
    "pivot_events.columns = ['dia','hora', 'count']\n",
    "pivot_events = pivot_events.pivot_table(index='hora', columns='dia', values='count',aggfunc='sum', fill_value=0, dropna=False)\n",
    "pivot_events = pivot_events[['Thursday 18', 'Friday 19', 'Saturday 20', 'Sunday 21', 'Monday 22', 'Tuesday 23', 'Wednesday 24', 'Thursday 25', 'Friday 26']]\n"
   ]
  },
  {
   "cell_type": "code",
   "execution_count": 8,
   "metadata": {},
   "outputs": [
    {
     "data": {
      "image/png": "[encoded data removed]",
      "text/plain": [
       "<Figure size 2880x360 with 2 Axes>"
      ]
     },
     "metadata": {
      "needs_background": "light"
     },
     "output_type": "display_data"
    }
   ],
   "source": [
    "plt.figure(figsize = (40,5))\n",
    "plt.title('Events per hour')\n",
    "sns.heatmap(pivot_events.T, square = True, linewidth=1, cmap = 'Blues');\n",
    "plt.xticks(rotation = 0);\n",
    "plt.xlabel('Time');\n",
    "plt.ylabel('Day', rotation=0);"
   ]
  },
  {
   "cell_type": "markdown",
   "metadata": {},
   "source": [
    "#### 5. ¿En qué franja horaria se produjo la mayor cantidad de instalaciones?"
   ]
  },
  {
   "cell_type": "code",
   "execution_count": 9,
   "metadata": {},
   "outputs": [],
   "source": [
    "installs_df['hora'] = installs_df['created'].apply(lambda x: ('%02d-%02d' % (x.hour, (x.hour+1))))\n",
    "installs_df['dia'] = installs_df['created'].dt.day_name()+' '+installs_df['created'].dt.day.map(str)\n",
    "pivot_installs = installs_df.groupby(['dia','hora']).size().reset_index()\n",
    "pivot_installs.columns = ['dia','hora', 'count']\n",
    "pivot_installs = pivot_installs.pivot_table(index='hora', columns='dia', values='count',aggfunc='sum', fill_value=0, dropna=False)\n",
    "pivot_installs = pivot_installs[['Thursday 18', 'Friday 19', 'Saturday 20', 'Sunday 21', 'Monday 22', 'Tuesday 23', 'Wednesday 24', 'Thursday 25', 'Friday 26']]\n"
   ]
  },
  {
   "cell_type": "code",
   "execution_count": 10,
   "metadata": {},
   "outputs": [
    {
     "data": {
      "image/png": "[encoded data removed]",
      "text/plain": [
       "<Figure size 2880x360 with 2 Axes>"
      ]
     },
     "metadata": {
      "needs_background": "light"
     },
     "output_type": "display_data"
    }
   ],
   "source": [
    "plt.figure(figsize = (40,5));\n",
    "plt.title('Installs per hour');\n",
    "sns.heatmap(pivot_installs.T, square = True, linewidth=1, cmap = 'Greens');\n",
    "plt.xticks(rotation = 0);\n",
    "plt.xlabel('Time');\n",
    "plt.ylabel('Day', rotation=0);"
   ]
  },
  {
   "cell_type": "markdown",
   "metadata": {},
   "source": [
    "#### 11. ¿Cuáles fueron las distribuciones de los eventos de la muestra ?¿Y de los installs?"
   ]
  },
  {
   "cell_type": "code",
   "execution_count": 11,
   "metadata": {},
   "outputs": [
    {
     "data": {
      "image/png": "[encoded data removed]",
      "text/plain": [
       "<Figure size 504x360 with 1 Axes>"
      ]
     },
     "metadata": {
      "needs_background": "light"
     },
     "output_type": "display_data"
    }
   ],
   "source": [
    "plt.figure(figsize = (7,5));\n",
    "device_freq = events_df['ref_hash'].value_counts().to_frame().reset_index().reset_index()\n",
    "device_freq.columns = ['x', 'ref_hash', 'count']\n",
    "\n",
    "ax = sns.regplot(x=device_freq['x'], y=device_freq['count'], fit_reg=False);\n",
    "ax.set_xlabel('Quantity of devices');\n",
    "ax.set_ylabel('Events per device');\n",
    "ax.set_title('Distribution of events per device');"
   ]
  },
  {
   "cell_type": "code",
   "execution_count": 12,
   "metadata": {},
   "outputs": [
    {
     "data": {
      "image/png": "[encoded data removed]",
      "text/plain": [
       "<Figure size 432x288 with 1 Axes>"
      ]
     },
     "metadata": {
      "needs_background": "light"
     },
     "output_type": "display_data"
    }
   ],
   "source": [
    "ax = device_freq.plot(x='x',y='count',loglog=True, legend=False);\n",
    "ax.set_xlabel('Log scale of: Quantity of Devices');\n",
    "ax.set_ylabel('log scale of: Quantyty of Events');\n",
    "ax.set_title('Distribution of events per device');"
   ]
  },
  {
   "cell_type": "markdown",
   "metadata": {},
   "source": [
    "### 2. Hacer un archivo con todos los device IDs de Auctions\n",
    "\n",
    "Los IDs no pueden permanecer al target"
   ]
  },
  {
   "cell_type": "code",
   "execution_count": 5,
   "metadata": {},
   "outputs": [],
   "source": [
    "sample_percentage = 5/100; # 0.5% -> auctions, 50% -> convertions"
   ]
  },
  {
   "cell_type": "code",
   "execution_count": 6,
   "metadata": {},
   "outputs": [
    {
     "data": {
      "text/plain": [
       "0.05"
      ]
     },
     "execution_count": 6,
     "metadata": {},
     "output_type": "execute_result"
    }
   ],
   "source": [
    "sample_percentage"
   ]
  },
  {
   "cell_type": "markdown",
   "metadata": {},
   "source": [
    "#### IDs con auctions"
   ]
  },
  {
   "cell_type": "code",
   "execution_count": 86,
   "metadata": {},
   "outputs": [],
   "source": [
    "competencia_ids = pd.read_csv('data/target_competencia_ids.csv')\n",
    "competencia_ids['ref_hash'] = competencia_ids['ref_hash'].str.replace('_sc', '')\n",
    "competencia_ids['ref_hash'] = competencia_ids['ref_hash'].str.replace('_st', '')\n",
    "competencia_ids.drop_duplicates(inplace=True)\n",
    "pd.DataFrame(auctions_df.loc[~auctions_df['device_id'].isin(competencia_ids['ref_hash'])]['device_id'].unique(), columns=['device_id'], dtype='object').to_csv('data/auctions_ids.csv', index=False)\n",
    "\n"
   ]
  },
  {
   "cell_type": "markdown",
   "metadata": {},
   "source": [
    "#### IDs con conversiones"
   ]
  },
  {
   "cell_type": "code",
   "execution_count": 7,
   "metadata": {},
   "outputs": [],
   "source": [
    "competencia_ids = pd.read_csv('data/target_competencia_ids.csv')\n",
    "competencia_ids['ref_hash'] = competencia_ids['ref_hash'].str.replace('_sc', '')\n",
    "competencia_ids['ref_hash'] = competencia_ids['ref_hash'].str.replace('_st', '')\n",
    "competencia_ids.drop_duplicates(inplace=True)\n",
    "convertions = installs_df[['ref_hash']].append(events_df[['ref_hash']], ignore_index=True)\n",
    "pd.DataFrame(convertions.loc[~convertions['ref_hash'].isin(competencia_ids['ref_hash'])]['ref_hash'].unique(), columns=['ref_hash'], dtype='object').to_csv('data/convertions_ids.csv', index=False)\n",
    "\n"
   ]
  },
  {
   "cell_type": "markdown",
   "metadata": {},
   "source": [
    "### 3. Seleccionar al azar device IDs del archivo y buscar todos sus registros en auctions hasta que sean 100,000 registros\n",
    "\n",
    "Al menos 100,000 registros por ventana\n",
    "\n",
    "#### Sample IDs"
   ]
  },
  {
   "cell_type": "code",
   "execution_count": 87,
   "metadata": {},
   "outputs": [],
   "source": [
    "auctions_ids = pd.read_csv('data/auctions_ids.csv', dtype={'device_id':'object'})\n",
    "sample_size = auctions_ids.shape[0]\n",
    "\n",
    "auctions_ids_sample = auctions_ids['device_id'].sample(n=int(sample_size*sample_percentage), random_state=3)\n",
    "#save sample ids\n",
    "auctions_ids_sample.to_frame().to_csv('data/auctions_ids_sample.csv', index=False)\n"
   ]
  },
  {
   "cell_type": "code",
   "execution_count": 88,
   "metadata": {},
   "outputs": [
    {
     "data": {
      "text/plain": [
       "2356"
      ]
     },
     "execution_count": 88,
     "metadata": {},
     "output_type": "execute_result"
    }
   ],
   "source": [
    "int(sample_size*sample_percentage)"
   ]
  },
  {
   "cell_type": "code",
   "execution_count": 8,
   "metadata": {},
   "outputs": [],
   "source": [
    "convertions_ids = pd.read_csv('data/convertions_ids.csv', dtype={'ref_hash':'object'})\n",
    "sample_size = convertions_ids.shape[0]\n",
    "convertions_ids_sample = convertions_ids['ref_hash'].sample(n=int(sample_size*sample_percentage), random_state=3)\n",
    "#save sample ids\n",
    "convertions_ids_sample.to_frame().to_csv('data/convertions_ids_sample.csv', index=False)"
   ]
  },
  {
   "cell_type": "code",
   "execution_count": 9,
   "metadata": {},
   "outputs": [
    {
     "data": {
      "text/plain": [
       "37607"
      ]
     },
     "execution_count": 9,
     "metadata": {},
     "output_type": "execute_result"
    }
   ],
   "source": [
    "int(sample_size*sample_percentage)"
   ]
  },
  {
   "cell_type": "markdown",
   "metadata": {},
   "source": [
    "#### Auctions"
   ]
  },
  {
   "cell_type": "code",
   "execution_count": 22,
   "metadata": {},
   "outputs": [
    {
     "data": {
      "text/plain": [
       "(47409528, 4)"
      ]
     },
     "metadata": {},
     "output_type": "display_data"
    },
    {
     "data": {
      "text/plain": [
       "(241085, 4)"
      ]
     },
     "execution_count": 22,
     "metadata": {},
     "output_type": "execute_result"
    }
   ],
   "source": [
    "#auctions sample\n",
    "auctions_sample = auctions_df.loc[auctions_df['device_id'].isin(auctions_ids_sample)].copy()\n",
    "auctions_sample.to_csv('data/auctions_sample.csv', index=False)\n",
    "display(auctions_df.shape)\n",
    "auctions_sample.shape"
   ]
  },
  {
   "cell_type": "code",
   "execution_count": 23,
   "metadata": {},
   "outputs": [
    {
     "data": {
      "text/plain": [
       "2356"
      ]
     },
     "execution_count": 23,
     "metadata": {},
     "output_type": "execute_result"
    }
   ],
   "source": [
    "n = sum(1 for line in open('data/auctions_ids_sample.csv'))-1  # Calculate number of rows in file\n",
    "n"
   ]
  },
  {
   "cell_type": "markdown",
   "metadata": {},
   "source": [
    "#### Installs"
   ]
  },
  {
   "cell_type": "code",
   "execution_count": 24,
   "metadata": {},
   "outputs": [],
   "source": [
    "installs_sample = installs_df.loc[installs_df['ref_hash'].isin(auctions_ids_sample)].copy()\n",
    "installs_sample.to_csv('data/installs_sample.csv', index=False)"
   ]
  },
  {
   "cell_type": "markdown",
   "metadata": {},
   "source": [
    "#### Events"
   ]
  },
  {
   "cell_type": "code",
   "execution_count": 25,
   "metadata": {},
   "outputs": [],
   "source": [
    "events_sample = events_df.loc[events_df['ref_hash'].isin(auctions_ids_sample)].copy()\n",
    "events_sample.to_csv('data/events_sample.csv', index=False)"
   ]
  },
  {
   "cell_type": "markdown",
   "metadata": {},
   "source": [
    "### 4. Procesar el sample como el TP1 para ver que la muestra sea valida. Es decir los graficos tienen que ser parecidos\n",
    "\n",
    "#### Auctions"
   ]
  },
  {
   "cell_type": "code",
   "execution_count": 33,
   "metadata": {},
   "outputs": [],
   "source": [
    "auctions_sample['hora'] = auctions_sample['date'].apply(lambda x: ('%02d-%02d' % (x.hour, (x.hour+1))))\n",
    "auctions_sample['dia'] = auctions_sample['date'].dt.day_name()+' '+auctions_sample['date'].dt.day.map(str)\n",
    "pivot_auctions = auctions_sample.groupby(['dia','hora']).size().reset_index()\n",
    "pivot_auctions.columns = ['dia','hora', 'count']\n",
    "pivot_auctions = pivot_auctions.pivot_table(index='hora', columns='dia', values='count',aggfunc='sum', fill_value=0, dropna=False)\n",
    "pivot_auctions = pivot_auctions[['Thursday 18', 'Friday 19', 'Saturday 20', 'Sunday 21', 'Monday 22', 'Tuesday 23', 'Wednesday 24', 'Thursday 25', 'Friday 26']]\n",
    "#display(pivot_auctions)\n",
    "\n"
   ]
  },
  {
   "cell_type": "code",
   "execution_count": 38,
   "metadata": {},
   "outputs": [],
   "source": [
    "max_auctions = pivot_auctions.max().max()"
   ]
  },
  {
   "cell_type": "code",
   "execution_count": 53,
   "metadata": {},
   "outputs": [
    {
     "data": {
      "text/plain": [
       "10"
      ]
     },
     "execution_count": 53,
     "metadata": {},
     "output_type": "execute_result"
    }
   ],
   "source": [
    "min(np.inf, 10)"
   ]
  },
  {
   "cell_type": "code",
   "execution_count": 37,
   "metadata": {},
   "outputs": [
    {
     "data": {
      "image/png": "[encoded data removed]",
      "text/plain": [
       "<Figure size 2880x360 with 2 Axes>"
      ]
     },
     "metadata": {
      "needs_background": "light"
     },
     "output_type": "display_data"
    }
   ],
   "source": [
    "plt.figure(figsize = (40,5))\n",
    "plt.title('Sample Auctions per hour')\n",
    "sns.heatmap(pivot_auctions.T/max_auctions, square = True, linewidth=1, cmap = 'Reds');\n",
    "plt.xticks(rotation = 0);\n",
    "plt.xlabel('Time');\n",
    "plt.ylabel('Day', rotation=0);"
   ]
  },
  {
   "cell_type": "code",
   "execution_count": 51,
   "metadata": {},
   "outputs": [
    {
     "data": {
      "text/html": [
       "<div>\n",
       "<style scoped>\n",
       "    .dataframe tbody tr th:only-of-type {\n",
       "        vertical-align: middle;\n",
       "    }\n",
       "\n",
       "    .dataframe tbody tr th {\n",
       "        vertical-align: top;\n",
       "    }\n",
       "\n",
       "    .dataframe thead th {\n",
       "        text-align: right;\n",
       "    }\n",
       "</style>\n",
       "<table border=\"1\" class=\"dataframe\">\n",
       "  <thead>\n",
       "    <tr style=\"text-align: right;\">\n",
       "      <th></th>\n",
       "      <th>dia</th>\n",
       "      <th>hora</th>\n",
       "      <th>count</th>\n",
       "    </tr>\n",
       "  </thead>\n",
       "  <tbody>\n",
       "    <tr>\n",
       "      <th>0</th>\n",
       "      <td>18</td>\n",
       "      <td>0</td>\n",
       "      <td>0.720353</td>\n",
       "    </tr>\n",
       "    <tr>\n",
       "      <th>1</th>\n",
       "      <td>18</td>\n",
       "      <td>1</td>\n",
       "      <td>0.625736</td>\n",
       "    </tr>\n",
       "    <tr>\n",
       "      <th>2</th>\n",
       "      <td>18</td>\n",
       "      <td>2</td>\n",
       "      <td>0.664424</td>\n",
       "    </tr>\n",
       "    <tr>\n",
       "      <th>3</th>\n",
       "      <td>18</td>\n",
       "      <td>3</td>\n",
       "      <td>0.651388</td>\n",
       "    </tr>\n",
       "    <tr>\n",
       "      <th>4</th>\n",
       "      <td>18</td>\n",
       "      <td>4</td>\n",
       "      <td>0.660219</td>\n",
       "    </tr>\n",
       "    <tr>\n",
       "      <th>5</th>\n",
       "      <td>18</td>\n",
       "      <td>5</td>\n",
       "      <td>0.451220</td>\n",
       "    </tr>\n",
       "    <tr>\n",
       "      <th>6</th>\n",
       "      <td>18</td>\n",
       "      <td>6</td>\n",
       "      <td>0.423465</td>\n",
       "    </tr>\n",
       "    <tr>\n",
       "      <th>7</th>\n",
       "      <td>18</td>\n",
       "      <td>7</td>\n",
       "      <td>0.277544</td>\n",
       "    </tr>\n",
       "    <tr>\n",
       "      <th>8</th>\n",
       "      <td>18</td>\n",
       "      <td>8</td>\n",
       "      <td>0.190076</td>\n",
       "    </tr>\n",
       "    <tr>\n",
       "      <th>9</th>\n",
       "      <td>18</td>\n",
       "      <td>9</td>\n",
       "      <td>0.145500</td>\n",
       "    </tr>\n",
       "    <tr>\n",
       "      <th>10</th>\n",
       "      <td>18</td>\n",
       "      <td>10</td>\n",
       "      <td>0.187973</td>\n",
       "    </tr>\n",
       "    <tr>\n",
       "      <th>11</th>\n",
       "      <td>18</td>\n",
       "      <td>11</td>\n",
       "      <td>0.118587</td>\n",
       "    </tr>\n",
       "    <tr>\n",
       "      <th>12</th>\n",
       "      <td>18</td>\n",
       "      <td>12</td>\n",
       "      <td>0.162321</td>\n",
       "    </tr>\n",
       "    <tr>\n",
       "      <th>13</th>\n",
       "      <td>18</td>\n",
       "      <td>13</td>\n",
       "      <td>0.337679</td>\n",
       "    </tr>\n",
       "    <tr>\n",
       "      <th>14</th>\n",
       "      <td>18</td>\n",
       "      <td>14</td>\n",
       "      <td>0.433137</td>\n",
       "    </tr>\n",
       "    <tr>\n",
       "      <th>15</th>\n",
       "      <td>18</td>\n",
       "      <td>15</td>\n",
       "      <td>0.484020</td>\n",
       "    </tr>\n",
       "    <tr>\n",
       "      <th>16</th>\n",
       "      <td>18</td>\n",
       "      <td>16</td>\n",
       "      <td>0.485702</td>\n",
       "    </tr>\n",
       "    <tr>\n",
       "      <th>17</th>\n",
       "      <td>18</td>\n",
       "      <td>17</td>\n",
       "      <td>0.485702</td>\n",
       "    </tr>\n",
       "    <tr>\n",
       "      <th>18</th>\n",
       "      <td>18</td>\n",
       "      <td>18</td>\n",
       "      <td>0.634987</td>\n",
       "    </tr>\n",
       "    <tr>\n",
       "      <th>19</th>\n",
       "      <td>18</td>\n",
       "      <td>19</td>\n",
       "      <td>0.549201</td>\n",
       "    </tr>\n",
       "    <tr>\n",
       "      <th>20</th>\n",
       "      <td>18</td>\n",
       "      <td>20</td>\n",
       "      <td>0.582002</td>\n",
       "    </tr>\n",
       "    <tr>\n",
       "      <th>21</th>\n",
       "      <td>18</td>\n",
       "      <td>21</td>\n",
       "      <td>0.735913</td>\n",
       "    </tr>\n",
       "    <tr>\n",
       "      <th>22</th>\n",
       "      <td>18</td>\n",
       "      <td>22</td>\n",
       "      <td>0.590412</td>\n",
       "    </tr>\n",
       "    <tr>\n",
       "      <th>23</th>\n",
       "      <td>18</td>\n",
       "      <td>23</td>\n",
       "      <td>0.565601</td>\n",
       "    </tr>\n",
       "    <tr>\n",
       "      <th>24</th>\n",
       "      <td>19</td>\n",
       "      <td>0</td>\n",
       "      <td>0.489066</td>\n",
       "    </tr>\n",
       "    <tr>\n",
       "      <th>25</th>\n",
       "      <td>19</td>\n",
       "      <td>1</td>\n",
       "      <td>0.500841</td>\n",
       "    </tr>\n",
       "    <tr>\n",
       "      <th>26</th>\n",
       "      <td>19</td>\n",
       "      <td>2</td>\n",
       "      <td>0.603869</td>\n",
       "    </tr>\n",
       "    <tr>\n",
       "      <th>27</th>\n",
       "      <td>19</td>\n",
       "      <td>3</td>\n",
       "      <td>0.685029</td>\n",
       "    </tr>\n",
       "    <tr>\n",
       "      <th>28</th>\n",
       "      <td>19</td>\n",
       "      <td>4</td>\n",
       "      <td>1.000000</td>\n",
       "    </tr>\n",
       "    <tr>\n",
       "      <th>29</th>\n",
       "      <td>19</td>\n",
       "      <td>5</td>\n",
       "      <td>0.653490</td>\n",
       "    </tr>\n",
       "    <tr>\n",
       "      <th>...</th>\n",
       "      <td>...</td>\n",
       "      <td>...</td>\n",
       "      <td>...</td>\n",
       "    </tr>\n",
       "    <tr>\n",
       "      <th>186</th>\n",
       "      <td>25</td>\n",
       "      <td>18</td>\n",
       "      <td>0.666526</td>\n",
       "    </tr>\n",
       "    <tr>\n",
       "      <th>187</th>\n",
       "      <td>25</td>\n",
       "      <td>19</td>\n",
       "      <td>0.473507</td>\n",
       "    </tr>\n",
       "    <tr>\n",
       "      <th>188</th>\n",
       "      <td>25</td>\n",
       "      <td>20</td>\n",
       "      <td>0.492431</td>\n",
       "    </tr>\n",
       "    <tr>\n",
       "      <th>189</th>\n",
       "      <td>25</td>\n",
       "      <td>21</td>\n",
       "      <td>0.528595</td>\n",
       "    </tr>\n",
       "    <tr>\n",
       "      <th>190</th>\n",
       "      <td>25</td>\n",
       "      <td>22</td>\n",
       "      <td>0.610597</td>\n",
       "    </tr>\n",
       "    <tr>\n",
       "      <th>191</th>\n",
       "      <td>25</td>\n",
       "      <td>23</td>\n",
       "      <td>0.610597</td>\n",
       "    </tr>\n",
       "    <tr>\n",
       "      <th>192</th>\n",
       "      <td>26</td>\n",
       "      <td>0</td>\n",
       "      <td>0.514718</td>\n",
       "    </tr>\n",
       "    <tr>\n",
       "      <th>193</th>\n",
       "      <td>26</td>\n",
       "      <td>1</td>\n",
       "      <td>0.415475</td>\n",
       "    </tr>\n",
       "    <tr>\n",
       "      <th>194</th>\n",
       "      <td>26</td>\n",
       "      <td>2</td>\n",
       "      <td>0.595038</td>\n",
       "    </tr>\n",
       "    <tr>\n",
       "      <th>195</th>\n",
       "      <td>26</td>\n",
       "      <td>3</td>\n",
       "      <td>0.927670</td>\n",
       "    </tr>\n",
       "    <tr>\n",
       "      <th>196</th>\n",
       "      <td>26</td>\n",
       "      <td>4</td>\n",
       "      <td>0.899075</td>\n",
       "    </tr>\n",
       "    <tr>\n",
       "      <th>197</th>\n",
       "      <td>26</td>\n",
       "      <td>5</td>\n",
       "      <td>0.746426</td>\n",
       "    </tr>\n",
       "    <tr>\n",
       "      <th>198</th>\n",
       "      <td>26</td>\n",
       "      <td>6</td>\n",
       "      <td>0.598823</td>\n",
       "    </tr>\n",
       "    <tr>\n",
       "      <th>199</th>\n",
       "      <td>26</td>\n",
       "      <td>7</td>\n",
       "      <td>0.348192</td>\n",
       "    </tr>\n",
       "    <tr>\n",
       "      <th>200</th>\n",
       "      <td>26</td>\n",
       "      <td>8</td>\n",
       "      <td>0.230866</td>\n",
       "    </tr>\n",
       "    <tr>\n",
       "      <th>201</th>\n",
       "      <td>26</td>\n",
       "      <td>9</td>\n",
       "      <td>0.084525</td>\n",
       "    </tr>\n",
       "    <tr>\n",
       "      <th>202</th>\n",
       "      <td>26</td>\n",
       "      <td>10</td>\n",
       "      <td>0.071909</td>\n",
       "    </tr>\n",
       "    <tr>\n",
       "      <th>203</th>\n",
       "      <td>26</td>\n",
       "      <td>11</td>\n",
       "      <td>0.124895</td>\n",
       "    </tr>\n",
       "    <tr>\n",
       "      <th>204</th>\n",
       "      <td>26</td>\n",
       "      <td>12</td>\n",
       "      <td>0.229605</td>\n",
       "    </tr>\n",
       "    <tr>\n",
       "      <th>205</th>\n",
       "      <td>26</td>\n",
       "      <td>13</td>\n",
       "      <td>0.269554</td>\n",
       "    </tr>\n",
       "    <tr>\n",
       "      <th>206</th>\n",
       "      <td>26</td>\n",
       "      <td>14</td>\n",
       "      <td>0.292262</td>\n",
       "    </tr>\n",
       "    <tr>\n",
       "      <th>207</th>\n",
       "      <td>26</td>\n",
       "      <td>15</td>\n",
       "      <td>0.380151</td>\n",
       "    </tr>\n",
       "    <tr>\n",
       "      <th>208</th>\n",
       "      <td>26</td>\n",
       "      <td>16</td>\n",
       "      <td>0.424306</td>\n",
       "    </tr>\n",
       "    <tr>\n",
       "      <th>209</th>\n",
       "      <td>26</td>\n",
       "      <td>17</td>\n",
       "      <td>0.525652</td>\n",
       "    </tr>\n",
       "    <tr>\n",
       "      <th>210</th>\n",
       "      <td>26</td>\n",
       "      <td>18</td>\n",
       "      <td>0.701850</td>\n",
       "    </tr>\n",
       "    <tr>\n",
       "      <th>211</th>\n",
       "      <td>26</td>\n",
       "      <td>19</td>\n",
       "      <td>0.635828</td>\n",
       "    </tr>\n",
       "    <tr>\n",
       "      <th>212</th>\n",
       "      <td>26</td>\n",
       "      <td>20</td>\n",
       "      <td>0.478553</td>\n",
       "    </tr>\n",
       "    <tr>\n",
       "      <th>213</th>\n",
       "      <td>26</td>\n",
       "      <td>21</td>\n",
       "      <td>0.540791</td>\n",
       "    </tr>\n",
       "    <tr>\n",
       "      <th>214</th>\n",
       "      <td>26</td>\n",
       "      <td>22</td>\n",
       "      <td>0.656434</td>\n",
       "    </tr>\n",
       "    <tr>\n",
       "      <th>215</th>\n",
       "      <td>26</td>\n",
       "      <td>23</td>\n",
       "      <td>0.669050</td>\n",
       "    </tr>\n",
       "  </tbody>\n",
       "</table>\n",
       "<p>216 rows × 3 columns</p>\n",
       "</div>"
      ],
      "text/plain": [
       "     dia  hora     count\n",
       "0     18     0  0.720353\n",
       "1     18     1  0.625736\n",
       "2     18     2  0.664424\n",
       "3     18     3  0.651388\n",
       "4     18     4  0.660219\n",
       "5     18     5  0.451220\n",
       "6     18     6  0.423465\n",
       "7     18     7  0.277544\n",
       "8     18     8  0.190076\n",
       "9     18     9  0.145500\n",
       "10    18    10  0.187973\n",
       "11    18    11  0.118587\n",
       "12    18    12  0.162321\n",
       "13    18    13  0.337679\n",
       "14    18    14  0.433137\n",
       "15    18    15  0.484020\n",
       "16    18    16  0.485702\n",
       "17    18    17  0.485702\n",
       "18    18    18  0.634987\n",
       "19    18    19  0.549201\n",
       "20    18    20  0.582002\n",
       "21    18    21  0.735913\n",
       "22    18    22  0.590412\n",
       "23    18    23  0.565601\n",
       "24    19     0  0.489066\n",
       "25    19     1  0.500841\n",
       "26    19     2  0.603869\n",
       "27    19     3  0.685029\n",
       "28    19     4  1.000000\n",
       "29    19     5  0.653490\n",
       "..   ...   ...       ...\n",
       "186   25    18  0.666526\n",
       "187   25    19  0.473507\n",
       "188   25    20  0.492431\n",
       "189   25    21  0.528595\n",
       "190   25    22  0.610597\n",
       "191   25    23  0.610597\n",
       "192   26     0  0.514718\n",
       "193   26     1  0.415475\n",
       "194   26     2  0.595038\n",
       "195   26     3  0.927670\n",
       "196   26     4  0.899075\n",
       "197   26     5  0.746426\n",
       "198   26     6  0.598823\n",
       "199   26     7  0.348192\n",
       "200   26     8  0.230866\n",
       "201   26     9  0.084525\n",
       "202   26    10  0.071909\n",
       "203   26    11  0.124895\n",
       "204   26    12  0.229605\n",
       "205   26    13  0.269554\n",
       "206   26    14  0.292262\n",
       "207   26    15  0.380151\n",
       "208   26    16  0.424306\n",
       "209   26    17  0.525652\n",
       "210   26    18  0.701850\n",
       "211   26    19  0.635828\n",
       "212   26    20  0.478553\n",
       "213   26    21  0.540791\n",
       "214   26    22  0.656434\n",
       "215   26    23  0.669050\n",
       "\n",
       "[216 rows x 3 columns]"
      ]
     },
     "execution_count": 51,
     "metadata": {},
     "output_type": "execute_result"
    }
   ],
   "source": [
    "auctions_sample['hora'] = auctions_sample['date'].dt.hour\n",
    "auctions_sample['dia'] = auctions_sample['date'].dt.day\n",
    "pivot_auctions = auctions_sample.groupby(['dia','hora']).size().reset_index()\n",
    "pivot_auctions.columns = ['dia','hora', 'count']\n",
    "pivot_auctions['count'] = pivot_auctions['count']/max_auctions\n",
    "pivot_auctions"
   ]
  },
  {
   "cell_type": "code",
   "execution_count": 45,
   "metadata": {},
   "outputs": [
    {
     "data": {
      "text/html": [
       "<div>\n",
       "<style scoped>\n",
       "    .dataframe tbody tr th:only-of-type {\n",
       "        vertical-align: middle;\n",
       "    }\n",
       "\n",
       "    .dataframe tbody tr th {\n",
       "        vertical-align: top;\n",
       "    }\n",
       "\n",
       "    .dataframe thead th {\n",
       "        text-align: right;\n",
       "    }\n",
       "</style>\n",
       "<table border=\"1\" class=\"dataframe\">\n",
       "  <thead>\n",
       "    <tr style=\"text-align: right;\">\n",
       "      <th></th>\n",
       "      <th>dia</th>\n",
       "      <th>hora</th>\n",
       "      <th>0</th>\n",
       "    </tr>\n",
       "  </thead>\n",
       "  <tbody>\n",
       "    <tr>\n",
       "      <th>0</th>\n",
       "      <td>Thursday 18</td>\n",
       "      <td>00-01</td>\n",
       "      <td>1713</td>\n",
       "    </tr>\n",
       "    <tr>\n",
       "      <th>1</th>\n",
       "      <td>Thursday 18</td>\n",
       "      <td>01-02</td>\n",
       "      <td>1488</td>\n",
       "    </tr>\n",
       "    <tr>\n",
       "      <th>2</th>\n",
       "      <td>Thursday 18</td>\n",
       "      <td>02-03</td>\n",
       "      <td>1580</td>\n",
       "    </tr>\n",
       "    <tr>\n",
       "      <th>3</th>\n",
       "      <td>Thursday 18</td>\n",
       "      <td>03-04</td>\n",
       "      <td>1549</td>\n",
       "    </tr>\n",
       "    <tr>\n",
       "      <th>4</th>\n",
       "      <td>Thursday 18</td>\n",
       "      <td>04-05</td>\n",
       "      <td>1570</td>\n",
       "    </tr>\n",
       "    <tr>\n",
       "      <th>5</th>\n",
       "      <td>Thursday 18</td>\n",
       "      <td>05-06</td>\n",
       "      <td>1073</td>\n",
       "    </tr>\n",
       "    <tr>\n",
       "      <th>6</th>\n",
       "      <td>Thursday 18</td>\n",
       "      <td>06-07</td>\n",
       "      <td>1007</td>\n",
       "    </tr>\n",
       "    <tr>\n",
       "      <th>7</th>\n",
       "      <td>Thursday 18</td>\n",
       "      <td>07-08</td>\n",
       "      <td>660</td>\n",
       "    </tr>\n",
       "    <tr>\n",
       "      <th>8</th>\n",
       "      <td>Thursday 18</td>\n",
       "      <td>08-09</td>\n",
       "      <td>452</td>\n",
       "    </tr>\n",
       "    <tr>\n",
       "      <th>9</th>\n",
       "      <td>Thursday 18</td>\n",
       "      <td>09-10</td>\n",
       "      <td>346</td>\n",
       "    </tr>\n",
       "    <tr>\n",
       "      <th>10</th>\n",
       "      <td>Thursday 18</td>\n",
       "      <td>10-11</td>\n",
       "      <td>447</td>\n",
       "    </tr>\n",
       "    <tr>\n",
       "      <th>11</th>\n",
       "      <td>Thursday 18</td>\n",
       "      <td>11-12</td>\n",
       "      <td>282</td>\n",
       "    </tr>\n",
       "    <tr>\n",
       "      <th>12</th>\n",
       "      <td>Thursday 18</td>\n",
       "      <td>12-13</td>\n",
       "      <td>386</td>\n",
       "    </tr>\n",
       "    <tr>\n",
       "      <th>13</th>\n",
       "      <td>Thursday 18</td>\n",
       "      <td>13-14</td>\n",
       "      <td>803</td>\n",
       "    </tr>\n",
       "    <tr>\n",
       "      <th>14</th>\n",
       "      <td>Thursday 18</td>\n",
       "      <td>14-15</td>\n",
       "      <td>1030</td>\n",
       "    </tr>\n",
       "    <tr>\n",
       "      <th>15</th>\n",
       "      <td>Thursday 18</td>\n",
       "      <td>15-16</td>\n",
       "      <td>1151</td>\n",
       "    </tr>\n",
       "    <tr>\n",
       "      <th>16</th>\n",
       "      <td>Thursday 18</td>\n",
       "      <td>16-17</td>\n",
       "      <td>1155</td>\n",
       "    </tr>\n",
       "    <tr>\n",
       "      <th>17</th>\n",
       "      <td>Thursday 18</td>\n",
       "      <td>17-18</td>\n",
       "      <td>1155</td>\n",
       "    </tr>\n",
       "    <tr>\n",
       "      <th>18</th>\n",
       "      <td>Thursday 18</td>\n",
       "      <td>18-19</td>\n",
       "      <td>1510</td>\n",
       "    </tr>\n",
       "    <tr>\n",
       "      <th>19</th>\n",
       "      <td>Thursday 18</td>\n",
       "      <td>19-20</td>\n",
       "      <td>1306</td>\n",
       "    </tr>\n",
       "    <tr>\n",
       "      <th>20</th>\n",
       "      <td>Thursday 18</td>\n",
       "      <td>20-21</td>\n",
       "      <td>1384</td>\n",
       "    </tr>\n",
       "    <tr>\n",
       "      <th>21</th>\n",
       "      <td>Thursday 18</td>\n",
       "      <td>21-22</td>\n",
       "      <td>1750</td>\n",
       "    </tr>\n",
       "    <tr>\n",
       "      <th>22</th>\n",
       "      <td>Thursday 18</td>\n",
       "      <td>22-23</td>\n",
       "      <td>1404</td>\n",
       "    </tr>\n",
       "    <tr>\n",
       "      <th>23</th>\n",
       "      <td>Thursday 18</td>\n",
       "      <td>23-24</td>\n",
       "      <td>1345</td>\n",
       "    </tr>\n",
       "    <tr>\n",
       "      <th>24</th>\n",
       "      <td>Friday 19</td>\n",
       "      <td>00-01</td>\n",
       "      <td>1163</td>\n",
       "    </tr>\n",
       "    <tr>\n",
       "      <th>25</th>\n",
       "      <td>Friday 19</td>\n",
       "      <td>01-02</td>\n",
       "      <td>1191</td>\n",
       "    </tr>\n",
       "    <tr>\n",
       "      <th>26</th>\n",
       "      <td>Friday 19</td>\n",
       "      <td>02-03</td>\n",
       "      <td>1436</td>\n",
       "    </tr>\n",
       "    <tr>\n",
       "      <th>27</th>\n",
       "      <td>Friday 19</td>\n",
       "      <td>03-04</td>\n",
       "      <td>1629</td>\n",
       "    </tr>\n",
       "    <tr>\n",
       "      <th>28</th>\n",
       "      <td>Friday 19</td>\n",
       "      <td>04-05</td>\n",
       "      <td>2378</td>\n",
       "    </tr>\n",
       "    <tr>\n",
       "      <th>29</th>\n",
       "      <td>Friday 19</td>\n",
       "      <td>05-06</td>\n",
       "      <td>1554</td>\n",
       "    </tr>\n",
       "    <tr>\n",
       "      <th>...</th>\n",
       "      <td>...</td>\n",
       "      <td>...</td>\n",
       "      <td>...</td>\n",
       "    </tr>\n",
       "    <tr>\n",
       "      <th>186</th>\n",
       "      <td>Thursday 25</td>\n",
       "      <td>18-19</td>\n",
       "      <td>1585</td>\n",
       "    </tr>\n",
       "    <tr>\n",
       "      <th>187</th>\n",
       "      <td>Thursday 25</td>\n",
       "      <td>19-20</td>\n",
       "      <td>1126</td>\n",
       "    </tr>\n",
       "    <tr>\n",
       "      <th>188</th>\n",
       "      <td>Thursday 25</td>\n",
       "      <td>20-21</td>\n",
       "      <td>1171</td>\n",
       "    </tr>\n",
       "    <tr>\n",
       "      <th>189</th>\n",
       "      <td>Thursday 25</td>\n",
       "      <td>21-22</td>\n",
       "      <td>1257</td>\n",
       "    </tr>\n",
       "    <tr>\n",
       "      <th>190</th>\n",
       "      <td>Thursday 25</td>\n",
       "      <td>22-23</td>\n",
       "      <td>1452</td>\n",
       "    </tr>\n",
       "    <tr>\n",
       "      <th>191</th>\n",
       "      <td>Thursday 25</td>\n",
       "      <td>23-24</td>\n",
       "      <td>1452</td>\n",
       "    </tr>\n",
       "    <tr>\n",
       "      <th>192</th>\n",
       "      <td>Friday 26</td>\n",
       "      <td>00-01</td>\n",
       "      <td>1224</td>\n",
       "    </tr>\n",
       "    <tr>\n",
       "      <th>193</th>\n",
       "      <td>Friday 26</td>\n",
       "      <td>01-02</td>\n",
       "      <td>988</td>\n",
       "    </tr>\n",
       "    <tr>\n",
       "      <th>194</th>\n",
       "      <td>Friday 26</td>\n",
       "      <td>02-03</td>\n",
       "      <td>1415</td>\n",
       "    </tr>\n",
       "    <tr>\n",
       "      <th>195</th>\n",
       "      <td>Friday 26</td>\n",
       "      <td>03-04</td>\n",
       "      <td>2206</td>\n",
       "    </tr>\n",
       "    <tr>\n",
       "      <th>196</th>\n",
       "      <td>Friday 26</td>\n",
       "      <td>04-05</td>\n",
       "      <td>2138</td>\n",
       "    </tr>\n",
       "    <tr>\n",
       "      <th>197</th>\n",
       "      <td>Friday 26</td>\n",
       "      <td>05-06</td>\n",
       "      <td>1775</td>\n",
       "    </tr>\n",
       "    <tr>\n",
       "      <th>198</th>\n",
       "      <td>Friday 26</td>\n",
       "      <td>06-07</td>\n",
       "      <td>1424</td>\n",
       "    </tr>\n",
       "    <tr>\n",
       "      <th>199</th>\n",
       "      <td>Friday 26</td>\n",
       "      <td>07-08</td>\n",
       "      <td>828</td>\n",
       "    </tr>\n",
       "    <tr>\n",
       "      <th>200</th>\n",
       "      <td>Friday 26</td>\n",
       "      <td>08-09</td>\n",
       "      <td>549</td>\n",
       "    </tr>\n",
       "    <tr>\n",
       "      <th>201</th>\n",
       "      <td>Friday 26</td>\n",
       "      <td>09-10</td>\n",
       "      <td>201</td>\n",
       "    </tr>\n",
       "    <tr>\n",
       "      <th>202</th>\n",
       "      <td>Friday 26</td>\n",
       "      <td>10-11</td>\n",
       "      <td>171</td>\n",
       "    </tr>\n",
       "    <tr>\n",
       "      <th>203</th>\n",
       "      <td>Friday 26</td>\n",
       "      <td>11-12</td>\n",
       "      <td>297</td>\n",
       "    </tr>\n",
       "    <tr>\n",
       "      <th>204</th>\n",
       "      <td>Friday 26</td>\n",
       "      <td>12-13</td>\n",
       "      <td>546</td>\n",
       "    </tr>\n",
       "    <tr>\n",
       "      <th>205</th>\n",
       "      <td>Friday 26</td>\n",
       "      <td>13-14</td>\n",
       "      <td>641</td>\n",
       "    </tr>\n",
       "    <tr>\n",
       "      <th>206</th>\n",
       "      <td>Friday 26</td>\n",
       "      <td>14-15</td>\n",
       "      <td>695</td>\n",
       "    </tr>\n",
       "    <tr>\n",
       "      <th>207</th>\n",
       "      <td>Friday 26</td>\n",
       "      <td>15-16</td>\n",
       "      <td>904</td>\n",
       "    </tr>\n",
       "    <tr>\n",
       "      <th>208</th>\n",
       "      <td>Friday 26</td>\n",
       "      <td>16-17</td>\n",
       "      <td>1009</td>\n",
       "    </tr>\n",
       "    <tr>\n",
       "      <th>209</th>\n",
       "      <td>Friday 26</td>\n",
       "      <td>17-18</td>\n",
       "      <td>1250</td>\n",
       "    </tr>\n",
       "    <tr>\n",
       "      <th>210</th>\n",
       "      <td>Friday 26</td>\n",
       "      <td>18-19</td>\n",
       "      <td>1669</td>\n",
       "    </tr>\n",
       "    <tr>\n",
       "      <th>211</th>\n",
       "      <td>Friday 26</td>\n",
       "      <td>19-20</td>\n",
       "      <td>1512</td>\n",
       "    </tr>\n",
       "    <tr>\n",
       "      <th>212</th>\n",
       "      <td>Friday 26</td>\n",
       "      <td>20-21</td>\n",
       "      <td>1138</td>\n",
       "    </tr>\n",
       "    <tr>\n",
       "      <th>213</th>\n",
       "      <td>Friday 26</td>\n",
       "      <td>21-22</td>\n",
       "      <td>1286</td>\n",
       "    </tr>\n",
       "    <tr>\n",
       "      <th>214</th>\n",
       "      <td>Friday 26</td>\n",
       "      <td>22-23</td>\n",
       "      <td>1561</td>\n",
       "    </tr>\n",
       "    <tr>\n",
       "      <th>215</th>\n",
       "      <td>Friday 26</td>\n",
       "      <td>23-24</td>\n",
       "      <td>1591</td>\n",
       "    </tr>\n",
       "  </tbody>\n",
       "</table>\n",
       "<p>216 rows × 3 columns</p>\n",
       "</div>"
      ],
      "text/plain": [
       "             dia   hora     0\n",
       "0    Thursday 18  00-01  1713\n",
       "1    Thursday 18  01-02  1488\n",
       "2    Thursday 18  02-03  1580\n",
       "3    Thursday 18  03-04  1549\n",
       "4    Thursday 18  04-05  1570\n",
       "5    Thursday 18  05-06  1073\n",
       "6    Thursday 18  06-07  1007\n",
       "7    Thursday 18  07-08   660\n",
       "8    Thursday 18  08-09   452\n",
       "9    Thursday 18  09-10   346\n",
       "10   Thursday 18  10-11   447\n",
       "11   Thursday 18  11-12   282\n",
       "12   Thursday 18  12-13   386\n",
       "13   Thursday 18  13-14   803\n",
       "14   Thursday 18  14-15  1030\n",
       "15   Thursday 18  15-16  1151\n",
       "16   Thursday 18  16-17  1155\n",
       "17   Thursday 18  17-18  1155\n",
       "18   Thursday 18  18-19  1510\n",
       "19   Thursday 18  19-20  1306\n",
       "20   Thursday 18  20-21  1384\n",
       "21   Thursday 18  21-22  1750\n",
       "22   Thursday 18  22-23  1404\n",
       "23   Thursday 18  23-24  1345\n",
       "24     Friday 19  00-01  1163\n",
       "25     Friday 19  01-02  1191\n",
       "26     Friday 19  02-03  1436\n",
       "27     Friday 19  03-04  1629\n",
       "28     Friday 19  04-05  2378\n",
       "29     Friday 19  05-06  1554\n",
       "..           ...    ...   ...\n",
       "186  Thursday 25  18-19  1585\n",
       "187  Thursday 25  19-20  1126\n",
       "188  Thursday 25  20-21  1171\n",
       "189  Thursday 25  21-22  1257\n",
       "190  Thursday 25  22-23  1452\n",
       "191  Thursday 25  23-24  1452\n",
       "192    Friday 26  00-01  1224\n",
       "193    Friday 26  01-02   988\n",
       "194    Friday 26  02-03  1415\n",
       "195    Friday 26  03-04  2206\n",
       "196    Friday 26  04-05  2138\n",
       "197    Friday 26  05-06  1775\n",
       "198    Friday 26  06-07  1424\n",
       "199    Friday 26  07-08   828\n",
       "200    Friday 26  08-09   549\n",
       "201    Friday 26  09-10   201\n",
       "202    Friday 26  10-11   171\n",
       "203    Friday 26  11-12   297\n",
       "204    Friday 26  12-13   546\n",
       "205    Friday 26  13-14   641\n",
       "206    Friday 26  14-15   695\n",
       "207    Friday 26  15-16   904\n",
       "208    Friday 26  16-17  1009\n",
       "209    Friday 26  17-18  1250\n",
       "210    Friday 26  18-19  1669\n",
       "211    Friday 26  19-20  1512\n",
       "212    Friday 26  20-21  1138\n",
       "213    Friday 26  21-22  1286\n",
       "214    Friday 26  22-23  1561\n",
       "215    Friday 26  23-24  1591\n",
       "\n",
       "[216 rows x 3 columns]"
      ]
     },
     "execution_count": 45,
     "metadata": {},
     "output_type": "execute_result"
    }
   ],
   "source": [
    "\n",
    "\n",
    "\n",
    "pivot_auctions.unstack().to_frame().reset_index()"
   ]
  },
  {
   "cell_type": "markdown",
   "metadata": {},
   "source": [
    "#### Events"
   ]
  },
  {
   "cell_type": "code",
   "execution_count": 28,
   "metadata": {},
   "outputs": [],
   "source": [
    "events_sample['hora'] = events_sample['date'].apply(lambda x: ('%02d-%02d' % (x.hour, (x.hour+1))))\n",
    "events_sample['dia'] = events_sample['date'].dt.day_name()+' '+events_sample['date'].dt.day.map(str)\n",
    "pivot_events = events_sample.groupby(['dia','hora']).size().reset_index()\n",
    "pivot_events.columns = ['dia','hora', 'count']\n",
    "pivot_events = pivot_events.pivot_table(index='hora', columns='dia', values='count',aggfunc='sum', fill_value=0, dropna=False)\n",
    "pivot_events = pivot_events[['Thursday 18', 'Friday 19', 'Saturday 20', 'Sunday 21', 'Monday 22', 'Tuesday 23', 'Wednesday 24', 'Thursday 25', 'Friday 26']]\n",
    "\n"
   ]
  },
  {
   "cell_type": "code",
   "execution_count": 29,
   "metadata": {},
   "outputs": [
    {
     "data": {
      "image/png": "[encoded data removed]",
      "text/plain": [
       "<Figure size 2880x360 with 2 Axes>"
      ]
     },
     "metadata": {
      "needs_background": "light"
     },
     "output_type": "display_data"
    }
   ],
   "source": [
    "plt.figure(figsize = (40,5))\n",
    "plt.title('Sample Events per hour')\n",
    "sns.heatmap(pivot_events.T, square = True, linewidth=1, cmap = 'Blues');\n",
    "plt.xticks(rotation = 0);\n",
    "plt.xlabel('Time');\n",
    "plt.ylabel('Day', rotation=0);"
   ]
  },
  {
   "cell_type": "markdown",
   "metadata": {},
   "source": [
    "#### Installs"
   ]
  },
  {
   "cell_type": "code",
   "execution_count": 30,
   "metadata": {},
   "outputs": [],
   "source": [
    "installs_sample['hora'] = installs_sample['created'].apply(lambda x: ('%02d-%02d' % (x.hour, (x.hour+1))))\n",
    "installs_sample['dia'] = installs_sample['created'].dt.day_name()+' '+installs_sample['created'].dt.day.map(str)\n",
    "pivot_installs = installs_sample.groupby(['dia','hora']).size().reset_index()\n",
    "pivot_installs.columns = ['dia','hora', 'count']\n",
    "pivot_installs = pivot_installs.pivot_table(index='hora', columns='dia', values='count',aggfunc='sum', fill_value=0, dropna=False)\n",
    "pivot_installs = pivot_installs[['Thursday 18', 'Friday 19', 'Saturday 20', 'Sunday 21', 'Monday 22', 'Tuesday 23', 'Wednesday 24', 'Thursday 25', 'Friday 26']]\n"
   ]
  },
  {
   "cell_type": "code",
   "execution_count": 31,
   "metadata": {},
   "outputs": [
    {
     "data": {
      "image/png": "[encoded data removed]",
      "text/plain": [
       "<Figure size 2880x360 with 2 Axes>"
      ]
     },
     "metadata": {
      "needs_background": "light"
     },
     "output_type": "display_data"
    }
   ],
   "source": [
    "plt.figure(figsize = (40,5));\n",
    "plt.title('Sample Installs per hour');\n",
    "sns.heatmap(pivot_installs.T, square = True, linewidth=1, cmap = 'Greens');\n",
    "plt.xticks(rotation = 0);\n",
    "plt.xlabel('Time');\n",
    "plt.ylabel('Day', rotation=0);"
   ]
  },
  {
   "cell_type": "markdown",
   "metadata": {},
   "source": [
    "#### Distribución"
   ]
  },
  {
   "cell_type": "code",
   "execution_count": 28,
   "metadata": {},
   "outputs": [
    {
     "data": {
      "image/png": "[encoded data removed]",
      "text/plain": [
       "<Figure size 504x360 with 1 Axes>"
      ]
     },
     "metadata": {
      "needs_background": "light"
     },
     "output_type": "display_data"
    }
   ],
   "source": [
    "plt.figure(figsize = (7,5));\n",
    "device_freq = events_sample['ref_hash'].value_counts().to_frame().reset_index().reset_index()\n",
    "device_freq.columns = ['x', 'ref_hash', 'count']\n",
    "\n",
    "ax = sns.regplot(x=device_freq['x'], y=device_freq['count'], fit_reg=False);\n",
    "ax.set_xlabel('Quantity of devices');\n",
    "ax.set_ylabel('Events per device');\n",
    "ax.set_title('Sample distribution of events per device');"
   ]
  },
  {
   "cell_type": "code",
   "execution_count": 29,
   "metadata": {},
   "outputs": [
    {
     "data": {
      "image/png": "[encoded data removed]",
      "text/plain": [
       "<Figure size 432x288 with 1 Axes>"
      ]
     },
     "metadata": {
      "needs_background": "light"
     },
     "output_type": "display_data"
    }
   ],
   "source": [
    "ax = device_freq.plot(x='x',y='count',loglog=True, legend=False);\n",
    "ax.set_xlabel('Log scale of: Quantity of Devices');\n",
    "ax.set_ylabel('log scale of: Quantyty of Events');\n",
    "ax.set_title('Distribution of events per device');"
   ]
  },
  {
   "cell_type": "code",
   "execution_count": 30,
   "metadata": {},
   "outputs": [
    {
     "data": {
      "text/html": [
       "\n",
       "                <audio controls=\"controls\" autoplay=\"autoplay\">\n",
       "                    <source src=\"https://sound.peal.io/ps/audios/000/000/537/original/woo_vu_luvub_dub_dub.wav\" type=\"audio/x-wav\" />\n",
       "                    Your browser does not support the audio element.\n",
       "                </audio>\n",
       "              "
      ],
      "text/plain": [
       "<IPython.lib.display.Audio object>"
      ]
     },
     "metadata": {},
     "output_type": "display_data"
    }
   ],
   "source": [
    "allDone()"
   ]
  },
  {
   "cell_type": "code",
   "execution_count": null,
   "metadata": {},
   "outputs": [],
   "source": []
  }
 ],
 "metadata": {
  "kernelspec": {
   "display_name": "Python 3",
   "language": "python",
   "name": "python3"
  },
  "language_info": {
   "codemirror_mode": {
    "name": "ipython",
    "version": 3
   },
   "file_extension": ".py",
   "mimetype": "text/x-python",
   "name": "python",
   "nbconvert_exporter": "python",
   "pygments_lexer": "ipython3",
   "version": "3.7.3"
  }
 },
 "nbformat": 4,
 "nbformat_minor": 2
}
