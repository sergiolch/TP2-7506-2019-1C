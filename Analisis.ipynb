{
 "cells": [
  {
   "cell_type": "code",
   "execution_count": 1,
   "metadata": {},
   "outputs": [],
   "source": [
    "import pandas as pd\n",
    "import numpy as np"
   ]
  },
  {
   "cell_type": "code",
   "execution_count": 38,
   "metadata": {},
   "outputs": [],
   "source": [
    "def fix_str_float(ds, col):\n",
    "    ds[col] = ds[col].str.replace(r'[^0-9\\.]','')\n",
    "    ds[col] = np.where(ds[col]=='',np.nan,ds[col])\n",
    "    ds[col] = ds[col].astype('float32')\n",
    "    return ds[col].astype('float32')"
   ]
  },
  {
   "cell_type": "code",
   "execution_count": 40,
   "metadata": {},
   "outputs": [
    {
     "name": "stdout",
     "output_type": "stream",
     "text": [
      "setup done\n"
     ]
    }
   ],
   "source": [
    "clicks_df = pd.read_csv('data/clicks.csv',dtype={'advertiser_id':'int32','action_id':'float32','source_id':'int32','country_code':'category',\\\n",
    "                                                 'latitude':'float32','longitude':'float32','carrier_id':'float32','os_minor':'category',\\\n",
    "                                                  'os_major':'category','specs_brand':'category','timeToClick':'float32','ref_type':'category'})\n",
    "\n",
    "clicks_df['touchX'] = fix_str_float(clicks_df,'touchX')\n",
    "clicks_df['touchY'] = fix_str_float(clicks_df,'touchY')\n",
    "clicks_df['created'] = pd.to_datetime(clicks_df['created'])\n",
    "events_df = pd.read_csv('data/events.csv', low_memory=False, dtype={'event_id':'int32','ref_type':'category','application_id':'int32',\\\n",
    "                                                                                            'attributed':'bool','device_countrycode':'category','device_city':'category',\\\n",
    "                                                                                            'trans_id':'category','carrier':'category','device_os':'category',\\\n",
    "                                                                                            'connection_type':'category'})\n",
    "events_df['date'] = pd.to_datetime(events_df['date'])\n",
    "events_df['wifi'].astype('bool', inplace=True)\n",
    "installs_df = pd.read_csv('data/installs.csv', dtype={'ref_type':'category','application_id':'int32',\\\n",
    "                                                      'device_brand':'category'})\n",
    "installs_df.drop(columns=['session_user_agent'], inplace=True)\n",
    "installs_df['wifi'].astype('bool', inplace=True)\n",
    "installs_df['created'] = pd.to_datetime(installs_df['created'])\n",
    "auctions_df = pd.read_csv('data/auctions.csv', low_memory=False, dtype={'country':'category','platform':'category','ref_type_id':'category'})\n",
    "\n",
    "auctions_df['date'] = pd.to_datetime(auctions_df['date'])\n",
    "print('setup done')"
   ]
  },
  {
   "cell_type": "code",
   "execution_count": 46,
   "metadata": {},
   "outputs": [],
   "source": []
  },
  {
   "cell_type": "code",
   "execution_count": null,
   "metadata": {},
   "outputs": [],
   "source": []
  }
 ],
 "metadata": {
  "kernelspec": {
   "display_name": "Python 3",
   "language": "python",
   "name": "python3"
  },
  "language_info": {
   "codemirror_mode": {
    "name": "ipython",
    "version": 3
   },
   "file_extension": ".py",
   "mimetype": "text/x-python",
   "name": "python",
   "nbconvert_exporter": "python",
   "pygments_lexer": "ipython3",
   "version": "3.6.6"
  }
 },
 "nbformat": 4,
 "nbformat_minor": 2
}
