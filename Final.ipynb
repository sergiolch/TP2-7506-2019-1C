{
 "cells": [
  {
   "cell_type": "code",
   "execution_count": 1,
   "metadata": {},
   "outputs": [],
   "source": [
    "## Import of all libraries needed\n",
    "import pandas as pd\n",
    "import numpy as np\n",
    "import datetime\n",
    "import gc\n",
    "# graphics TP1\n",
    "import seaborn as sns\n",
    "import matplotlib.pyplot as plt\n",
    "from matplotlib_venn import venn2\n"
   ]
  },
  {
   "cell_type": "code",
   "execution_count": 2,
   "metadata": {},
   "outputs": [],
   "source": [
    "## Import up sound alert dependencies\n",
    "from IPython.display import Audio, display\n",
    "\n",
    "def allDone():\n",
    "    display(Audio(url='https://sound.peal.io/ps/audios/000/000/537/original/woo_vu_luvub_dub_dub.wav', autoplay=True))\n",
    "## Insert whatever audio file you want above"
   ]
  },
  {
   "cell_type": "markdown",
   "metadata": {},
   "source": [
    "# Sampling\n",
    "---\n",
    "\n",
    "## objetivo\n",
    "\n",
    "Escoger suficientes Device ID para que auctions contenga 100,000 registros.\n",
    "\n",
    "## Hipotesis\n",
    "\n",
    "El sample mantendrá la distribución de la muestra original.\n",
    "\n",
    "## Pasos\n",
    "\n",
    "1. Procesar con el TP1 los nuevos datos\n",
    "2. Hacer un archivo con todos los device IDs de Auctions\n",
    "3. Seleccionar al azar device IDs del archivo y buscar todos sus registros en auctions hasta que sean 100,000 registros\n",
    "4. Procesar el sample como el TP1 para ver que la muestra sea valida. Es decir los graficos tienen que ser parecidos"
   ]
  },
  {
   "cell_type": "markdown",
   "metadata": {},
   "source": [
    "### 1. Procesar con el TP1 los nuevos datos y observar los resultados para algunas de las preguntas\n",
    "\n",
    "1. ¿Qué franja horaria contuvo la mayor cantidad de subastas?\n",
    "3. ¿Qué franja horaria contuvo la mayor cantidad de events?\n",
    "5. ¿En qué franja horaria se produjo la mayor cantidad de instalaciones?¶\n",
    "11. ¿Cuáles fueron las distribuciones de los eventos de la muestra ?¿Y de los installs?\n",
    "15. Eventos por aplicación.\n",
    "17. ¿Existirá una relación entre los clientes y las aplicaciones ?"
   ]
  },
  {
   "cell_type": "code",
   "execution_count": 3,
   "metadata": {},
   "outputs": [],
   "source": [
    "def fix_str_float(ds, col):\n",
    "    ds[col] = ds[col].str.replace(r'[^0-9\\.]','')\n",
    "    ds[col] = np.where(ds[col]=='',np.nan,ds[col])\n",
    "    ds[col] = ds[col].astype('float32')\n",
    "    return ds[col].astype('float32')"
   ]
  },
  {
   "cell_type": "code",
   "execution_count": 4,
   "metadata": {},
   "outputs": [
    {
     "data": {
      "text/html": [
       "\n",
       "                <audio controls=\"controls\" autoplay=\"autoplay\">\n",
       "                    <source src=\"https://sound.peal.io/ps/audios/000/000/537/original/woo_vu_luvub_dub_dub.wav\" type=\"audio/wav\" />\n",
       "                    Your browser does not support the audio element.\n",
       "                </audio>\n",
       "              "
      ],
      "text/plain": [
       "<IPython.lib.display.Audio object>"
      ]
     },
     "metadata": {},
     "output_type": "display_data"
    },
    {
     "name": "stdout",
     "output_type": "stream",
     "text": [
      "setup done\n"
     ]
    }
   ],
   "source": [
    "# clicks\n",
    "clicks_df = pd.read_csv('data/clicks.csv', low_memory=False,dtype={'advertiser_id':'int32','action_id':'float32','source_id':'int32','country_code':'category',\\\n",
    "                                                 'latitude':'float32','longitude':'float32','carrier_id':'float32','os_minor':'category',\\\n",
    "                                                  'os_major':'category','specs_brand':'category','timeToClick':'float32','ref_type':'category'\\\n",
    "                                                                  ,'ref_hash':'object'})\n",
    "\n",
    "clicks_df['touchX'] = fix_str_float(clicks_df,'touchX')\n",
    "clicks_df['touchY'] = fix_str_float(clicks_df,'touchY')\n",
    "clicks_df['created'] = pd.to_datetime(clicks_df['created'])\n",
    "#events\n",
    "events_df = pd.read_csv('data/events.csv', low_memory=False, dtype={'event_id':'int32','ref_type':'category','application_id':'category',\\\n",
    "                                                                                            'attributed':'bool','device_countrycode':'category','device_city':'category',\\\n",
    "                                                                                            'trans_id':'category','carrier':'category','device_os':'category',\\\n",
    "                                                                                            'connection_type':'category'})\n",
    "events_df['date'] = pd.to_datetime(events_df['date'])\n",
    "events_df['wifi'].astype('bool', inplace=True)\n",
    "events_df.drop(columns=['device_countrycode','session_user_agent','ip_address','device_language'], inplace=True)\n",
    "# installs\n",
    "installs_df = pd.read_csv('data/installs.csv', low_memory=False, dtype={'ref_type':'category','application_id':'category',\\\n",
    "                                                      'device_brand':'category','ref_hash':'object','wifi':'category'})\n",
    "installs_df['kind'] = installs_df['kind'].str.lower()\n",
    "installs_df['kind'] = installs_df['kind'].astype('category')\n",
    "installs_df.drop(columns=['session_user_agent','ip_address','device_language','device_model'], inplace=True)\n",
    "installs_df['created'] = pd.to_datetime(installs_df['created'])\n",
    "installs_df.drop(['device_countrycode'], axis=1, inplace=True)\n",
    "# auctions\n",
    "auctions_df = pd.read_csv('data/auctions.csv', low_memory=False, dtype={'country':'category','platform':'category',\\\n",
    "                                                                        'ref_type_id':'category','source_id':'category','device_id':'object'})\n",
    "\n",
    "auctions_df['date'] = pd.to_datetime(auctions_df['date'])\n",
    "allDone()\n",
    "print('setup done')\n"
   ]
  },
  {
   "cell_type": "markdown",
   "metadata": {},
   "source": [
    "#### 1. ¿Qué franja horaria contuvo la mayor cantidad de subastas?"
   ]
  },
  {
   "cell_type": "code",
   "execution_count": 5,
   "metadata": {},
   "outputs": [
    {
     "data": {
      "text/html": [
       "\n",
       "                <audio controls=\"controls\" autoplay=\"autoplay\">\n",
       "                    <source src=\"https://sound.peal.io/ps/audios/000/000/537/original/woo_vu_luvub_dub_dub.wav\" type=\"audio/wav\" />\n",
       "                    Your browser does not support the audio element.\n",
       "                </audio>\n",
       "              "
      ],
      "text/plain": [
       "<IPython.lib.display.Audio object>"
      ]
     },
     "metadata": {},
     "output_type": "display_data"
    }
   ],
   "source": [
    "auctions_df.drop_duplicates(inplace=True)\n",
    "auctions_df['hora'] = auctions_df['date'].apply(lambda x: ('%02d-%02d' % (x.hour, (x.hour+1))))\n",
    "auctions_df['dia'] = auctions_df['date'].dt.day_name()+' '+auctions_df['date'].dt.day.map(str)\n",
    "pivot_auctions = auctions_df.groupby(['dia','hora']).size().reset_index()\n",
    "pivot_auctions.columns = ['dia','hora', 'count']\n",
    "pivot_auctions = pivot_auctions.pivot_table(index='hora', columns='dia', values='count',aggfunc='sum', fill_value=0, dropna=False)\n",
    "pivot_auctions = pivot_auctions[['Thursday 18', 'Friday 19', 'Saturday 20', 'Sunday 21', 'Monday 22', 'Tuesday 23', 'Wednesday 24', 'Thursday 25', 'Friday 26']]\n",
    "allDone()\n",
    "#display(pivot_auctions)\n",
    "\n"
   ]
  },
  {
   "cell_type": "code",
   "execution_count": 6,
   "metadata": {},
   "outputs": [
    {
     "data": {
      "image/png": "[encoded data removed]",
      "text/plain": [
       "<Figure size 2880x360 with 2 Axes>"
      ]
     },
     "metadata": {
      "needs_background": "light"
     },
     "output_type": "display_data"
    }
   ],
   "source": [
    "plt.figure(figsize = (40,5))\n",
    "plt.title('Auctions per hour')\n",
    "sns.heatmap(pivot_auctions.T, square = True, linewidth=1, cmap = 'Reds');\n",
    "plt.xticks(rotation = 0);\n",
    "plt.xlabel('Time');\n",
    "plt.ylabel('Day', rotation=0);"
   ]
  },
  {
   "cell_type": "code",
   "execution_count": 7,
   "metadata": {},
   "outputs": [
    {
     "data": {
      "text/plain": [
       "367583"
      ]
     },
     "execution_count": 7,
     "metadata": {},
     "output_type": "execute_result"
    }
   ],
   "source": [
    "pivot_auctions.max().max() #275362"
   ]
  },
  {
   "cell_type": "markdown",
   "metadata": {},
   "source": [
    "#### 3. ¿Qué franja horaria contuvo la mayor cantidad de events?"
   ]
  },
  {
   "cell_type": "code",
   "execution_count": 8,
   "metadata": {},
   "outputs": [],
   "source": [
    "events_df['hora'] = events_df['date'].apply(lambda x: ('%02d-%02d' % (x.hour, (x.hour+1))))\n",
    "events_df['dia'] = events_df['date'].dt.day_name()+' '+events_df['date'].dt.day.map(str)\n",
    "pivot_events = events_df.groupby(['dia','hora']).size().reset_index()\n",
    "pivot_events.columns = ['dia','hora', 'count']\n",
    "pivot_events = pivot_events.pivot_table(index='hora', columns='dia', values='count',aggfunc='sum', fill_value=0, dropna=False)\n",
    "pivot_events = pivot_events[['Thursday 18', 'Friday 19', 'Saturday 20', 'Sunday 21', 'Monday 22', 'Tuesday 23', 'Wednesday 24', 'Thursday 25', 'Friday 26']]\n"
   ]
  },
  {
   "cell_type": "code",
   "execution_count": 9,
   "metadata": {},
   "outputs": [
    {
     "data": {
      "image/png": "[encoded data removed]",
      "text/plain": [
       "<Figure size 2880x360 with 2 Axes>"
      ]
     },
     "metadata": {
      "needs_background": "light"
     },
     "output_type": "display_data"
    }
   ],
   "source": [
    "plt.figure(figsize = (40,5))\n",
    "plt.title('Events per hour')\n",
    "sns.heatmap(pivot_events.T, square = True, linewidth=1, cmap = 'Blues');\n",
    "plt.xticks(rotation = 0);\n",
    "plt.xlabel('Time');\n",
    "plt.ylabel('Day', rotation=0);"
   ]
  },
  {
   "cell_type": "markdown",
   "metadata": {},
   "source": [
    "#### 5. ¿En qué franja horaria se produjo la mayor cantidad de instalaciones?"
   ]
  },
  {
   "cell_type": "code",
   "execution_count": 10,
   "metadata": {},
   "outputs": [],
   "source": [
    "installs_df['hora'] = installs_df['created'].apply(lambda x: ('%02d-%02d' % (x.hour, (x.hour+1))))\n",
    "installs_df['dia'] = installs_df['created'].dt.day_name()+' '+installs_df['created'].dt.day.map(str)\n",
    "pivot_installs = installs_df.groupby(['dia','hora']).size().reset_index()\n",
    "pivot_installs.columns = ['dia','hora', 'count']\n",
    "pivot_installs = pivot_installs.pivot_table(index='hora', columns='dia', values='count',aggfunc='sum', fill_value=0, dropna=False)\n",
    "pivot_installs = pivot_installs[['Thursday 18', 'Friday 19', 'Saturday 20', 'Sunday 21', 'Monday 22', 'Tuesday 23', 'Wednesday 24', 'Thursday 25', 'Friday 26']]\n"
   ]
  },
  {
   "cell_type": "code",
   "execution_count": null,
   "metadata": {},
   "outputs": [],
   "source": []
  },
  {
   "cell_type": "code",
   "execution_count": 11,
   "metadata": {},
   "outputs": [
    {
     "data": {
      "image/png": "[encoded data removed]",
      "text/plain": [
       "<Figure size 2880x360 with 2 Axes>"
      ]
     },
     "metadata": {
      "needs_background": "light"
     },
     "output_type": "display_data"
    }
   ],
   "source": [
    "plt.figure(figsize = (40,5));\n",
    "plt.title('Installs per hour');\n",
    "sns.heatmap(pivot_installs.T, square = True, linewidth=1, cmap = 'Greens');\n",
    "plt.xticks(rotation = 0);\n",
    "plt.xlabel('Time');\n",
    "plt.ylabel('Day', rotation=0);"
   ]
  },
  {
   "cell_type": "markdown",
   "metadata": {},
   "source": [
    "#### 11. ¿Cuáles fueron las distribuciones de los eventos de la muestra ?¿Y de los installs?"
   ]
  },
  {
   "cell_type": "code",
   "execution_count": 14,
   "metadata": {},
   "outputs": [
    {
     "data": {
      "image/png": "[encoded data removed]",
      "text/plain": [
       "<Figure size 504x360 with 1 Axes>"
      ]
     },
     "metadata": {
      "needs_background": "light"
     },
     "output_type": "display_data"
    }
   ],
   "source": [
    "plt.figure(figsize = (7,5));\n",
    "device_freq = events_df['ref_hash'].value_counts().to_frame().reset_index().reset_index()\n",
    "device_freq.columns = ['x', 'ref_hash', 'count']\n",
    "\n",
    "ax = sns.regplot(x=device_freq['x'], y=device_freq['count'], fit_reg=False);\n",
    "ax.set_xlabel('Quantity of devices');\n",
    "ax.set_ylabel('Events per device');\n",
    "ax.set_title('Distribution of events per device');"
   ]
  },
  {
   "cell_type": "code",
   "execution_count": 13,
   "metadata": {},
   "outputs": [
    {
     "data": {
      "image/png": "[encoded data removed]",
      "text/plain": [
       "<Figure size 432x288 with 1 Axes>"
      ]
     },
     "metadata": {
      "needs_background": "light"
     },
     "output_type": "display_data"
    }
   ],
   "source": [
    "ax = device_freq.plot(x='x',y='count',loglog=True, legend=False);\n",
    "ax.set_xlabel('Log scale of: Quantity of Devices');\n",
    "ax.set_ylabel('log scale of: Quantyty of Events');\n",
    "ax.set_title('Distribution of events per device');"
   ]
  },
  {
   "cell_type": "markdown",
   "metadata": {},
   "source": [
    "### 2. Hacer un archivo con todos los device IDs de Auctions\n",
    "\n",
    "Los IDs no pueden permanecer al target"
   ]
  },
  {
   "cell_type": "code",
   "execution_count": null,
   "metadata": {},
   "outputs": [],
   "source": [
    "sample_percentage = 0.5/100; # 0.5% -> auctions, 50% -> convertions"
   ]
  },
  {
   "cell_type": "code",
   "execution_count": null,
   "metadata": {},
   "outputs": [],
   "source": [
    "sample_percentage"
   ]
  },
  {
   "cell_type": "markdown",
   "metadata": {},
   "source": [
    "#### IDs con auctions"
   ]
  },
  {
   "cell_type": "code",
   "execution_count": null,
   "metadata": {},
   "outputs": [],
   "source": [
    "competencia_ids = pd.read_csv('data/target_competencia_ids.csv')\n",
    "competencia_ids['ref_hash'] = competencia_ids['ref_hash'].str.replace('_sc', '')\n",
    "competencia_ids['ref_hash'] = competencia_ids['ref_hash'].str.replace('_st', '')\n",
    "competencia_ids.drop_duplicates(inplace=True)\n",
    "pd.DataFrame(auctions_df.loc[~auctions_df['device_id'].isin(competencia_ids['ref_hash'])]['device_id'].unique(), columns=['device_id'], dtype='object').to_csv('data/auctions_ids.csv', index=False)\n",
    "\n"
   ]
  },
  {
   "cell_type": "markdown",
   "metadata": {},
   "source": [
    "#### IDs con conversiones"
   ]
  },
  {
   "cell_type": "code",
   "execution_count": null,
   "metadata": {},
   "outputs": [],
   "source": [
    "competencia_ids = pd.read_csv('data/target_competencia_ids.csv')\n",
    "competencia_ids['ref_hash'] = competencia_ids['ref_hash'].str.replace('_sc', '')\n",
    "competencia_ids['ref_hash'] = competencia_ids['ref_hash'].str.replace('_st', '')\n",
    "competencia_ids.drop_duplicates(inplace=True)\n",
    "convertions = installs_df[['ref_hash']].append(events_df[['ref_hash']], ignore_index=True)\n",
    "pd.DataFrame(convertions.loc[~convertions['ref_hash'].isin(competencia_ids['ref_hash'])]['ref_hash'].unique(), columns=['ref_hash'], dtype='object').to_csv('data/convertions_ids.csv', index=False)\n",
    "\n"
   ]
  },
  {
   "cell_type": "markdown",
   "metadata": {},
   "source": [
    "### 3. Seleccionar al azar device IDs del archivo y buscar todos sus registros en auctions hasta que sean 100,000 registros\n",
    "\n",
    "Al menos 100,000 registros por ventana\n",
    "\n",
    "#### Sample IDs"
   ]
  },
  {
   "cell_type": "code",
   "execution_count": null,
   "metadata": {},
   "outputs": [],
   "source": [
    "auctions_ids = pd.read_csv('data/auctions_ids.csv', dtype={'device_id':'object'})\n",
    "sample_size = auctions_ids.shape[0]\n",
    "\n",
    "auctions_ids_sample = auctions_ids['device_id'].sample(n=int(sample_size*sample_percentage), random_state=3)\n",
    "#save sample ids\n",
    "auctions_ids_sample.to_frame().to_csv('data/auctions_ids_sample.csv', index=False)\n"
   ]
  },
  {
   "cell_type": "code",
   "execution_count": null,
   "metadata": {},
   "outputs": [],
   "source": [
    "int(sample_size*sample_percentage)"
   ]
  },
  {
   "cell_type": "code",
   "execution_count": null,
   "metadata": {},
   "outputs": [],
   "source": [
    "convertions_ids = pd.read_csv('data/convertions_ids.csv', dtype={'ref_hash':'object'})\n",
    "sample_size = convertions_ids.shape[0]\n",
    "convertions_ids_sample = convertions_ids['ref_hash'].sample(n=int(sample_size*sample_percentage), random_state=3)\n",
    "#save sample ids\n",
    "convertions_ids_sample.to_frame().to_csv('data/convertions_ids_sample.csv', index=False)"
   ]
  },
  {
   "cell_type": "code",
   "execution_count": null,
   "metadata": {},
   "outputs": [],
   "source": [
    "int(sample_size*sample_percentage)"
   ]
  },
  {
   "cell_type": "markdown",
   "metadata": {},
   "source": [
    "#### Auctions"
   ]
  },
  {
   "cell_type": "code",
   "execution_count": null,
   "metadata": {},
   "outputs": [],
   "source": [
    "#auctions sample\n",
    "auctions_sample = auctions_df.loc[auctions_df['device_id'].isin(auctions_ids_sample)].copy()\n",
    "auctions_sample.to_csv('data/auctions_sample.csv', index=False)\n",
    "display(auctions_df.shape)\n",
    "auctions_sample.shape"
   ]
  },
  {
   "cell_type": "code",
   "execution_count": null,
   "metadata": {},
   "outputs": [],
   "source": [
    "n = sum(1 for line in open('data/auctions_ids_sample.csv'))-1  # Calculate number of rows in file\n",
    "n"
   ]
  },
  {
   "cell_type": "markdown",
   "metadata": {},
   "source": [
    "#### Installs"
   ]
  },
  {
   "cell_type": "code",
   "execution_count": null,
   "metadata": {},
   "outputs": [],
   "source": [
    "installs_sample = installs_df.loc[installs_df['ref_hash'].isin(auctions_ids_sample)].copy()\n",
    "installs_sample.to_csv('data/installs_sample.csv', index=False)"
   ]
  },
  {
   "cell_type": "markdown",
   "metadata": {},
   "source": [
    "#### Events"
   ]
  },
  {
   "cell_type": "code",
   "execution_count": null,
   "metadata": {},
   "outputs": [],
   "source": [
    "events_sample = events_df.loc[events_df['ref_hash'].isin(auctions_ids_sample)].copy()\n",
    "events_sample.to_csv('data/events_sample.csv', index=False)"
   ]
  },
  {
   "cell_type": "code",
   "execution_count": null,
   "metadata": {},
   "outputs": [],
   "source": []
  },
  {
   "cell_type": "markdown",
   "metadata": {},
   "source": [
    "### 4. Procesar el sample como el TP1 para ver que la muestra sea valida. Es decir los graficos tienen que ser parecidos\n",
    "\n",
    "#### Auctions"
   ]
  },
  {
   "cell_type": "code",
   "execution_count": null,
   "metadata": {},
   "outputs": [],
   "source": [
    "auctions_sample['hora'] = auctions_sample['date'].apply(lambda x: ('%02d-%02d' % (x.hour, (x.hour+1))))\n",
    "auctions_sample['dia'] = auctions_sample['date'].dt.day_name()+' '+auctions_sample['date'].dt.day.map(str)\n",
    "pivot_auctions = auctions_sample.groupby(['dia','hora']).size().reset_index()\n",
    "pivot_auctions.columns = ['dia','hora', 'count']\n",
    "pivot_auctions = pivot_auctions.pivot_table(index='hora', columns='dia', values='count',aggfunc='sum', fill_value=0, dropna=False)\n",
    "pivot_auctions = pivot_auctions[['Thursday 18', 'Friday 19', 'Saturday 20', 'Sunday 21', 'Monday 22', 'Tuesday 23', 'Wednesday 24', 'Thursday 25', 'Friday 26']]\n",
    "#display(pivot_auctions)\n",
    "\n"
   ]
  },
  {
   "cell_type": "code",
   "execution_count": null,
   "metadata": {},
   "outputs": [],
   "source": [
    "max_auctions = pivot_auctions.max().max()"
   ]
  },
  {
   "cell_type": "code",
   "execution_count": null,
   "metadata": {},
   "outputs": [],
   "source": [
    "min(np.inf, 10)"
   ]
  },
  {
   "cell_type": "code",
   "execution_count": null,
   "metadata": {},
   "outputs": [],
   "source": [
    "plt.figure(figsize = (40,5))\n",
    "plt.title('Sample Auctions per hour')\n",
    "sns.heatmap(pivot_auctions.T/max_auctions, square = True, linewidth=1, cmap = 'Reds');\n",
    "plt.xticks(rotation = 0);\n",
    "plt.xlabel('Time');\n",
    "plt.ylabel('Day', rotation=0);"
   ]
  },
  {
   "cell_type": "code",
   "execution_count": null,
   "metadata": {},
   "outputs": [],
   "source": [
    "auctions_sample['hora'] = auctions_sample['date'].dt.hour\n",
    "auctions_sample['dia'] = auctions_sample['date'].dt.day\n",
    "pivot_auctions = auctions_sample.groupby(['dia','hora']).size().reset_index()\n",
    "pivot_auctions.columns = ['dia','hora', 'count']\n",
    "pivot_auctions['count'] = pivot_auctions['count']/max_auctions\n",
    "pivot_auctions"
   ]
  },
  {
   "cell_type": "code",
   "execution_count": null,
   "metadata": {},
   "outputs": [],
   "source": [
    "pivot_auctions.unstack().to_frame().reset_index()"
   ]
  },
  {
   "cell_type": "markdown",
   "metadata": {},
   "source": [
    "#### Events"
   ]
  },
  {
   "cell_type": "code",
   "execution_count": null,
   "metadata": {},
   "outputs": [],
   "source": [
    "events_sample['hora'] = events_sample['date'].apply(lambda x: ('%02d-%02d' % (x.hour, (x.hour+1))))\n",
    "events_sample['dia'] = events_sample['date'].dt.day_name()+' '+events_sample['date'].dt.day.map(str)\n",
    "pivot_events = events_sample.groupby(['dia','hora']).size().reset_index()\n",
    "pivot_events.columns = ['dia','hora', 'count']\n",
    "pivot_events = pivot_events.pivot_table(index='hora', columns='dia', values='count',aggfunc='sum', fill_value=0, dropna=False)\n",
    "pivot_events = pivot_events[['Thursday 18', 'Friday 19', 'Saturday 20', 'Sunday 21', 'Monday 22', 'Tuesday 23', 'Wednesday 24', 'Thursday 25', 'Friday 26']]\n",
    "\n"
   ]
  },
  {
   "cell_type": "code",
   "execution_count": null,
   "metadata": {},
   "outputs": [],
   "source": [
    "plt.figure(figsize = (40,5))\n",
    "plt.title('Sample Events per hour')\n",
    "sns.heatmap(pivot_events.T, square = True, linewidth=1, cmap = 'Blues');\n",
    "plt.xticks(rotation = 0);\n",
    "plt.xlabel('Time');\n",
    "plt.ylabel('Day', rotation=0);"
   ]
  },
  {
   "cell_type": "markdown",
   "metadata": {},
   "source": [
    "#### Installs"
   ]
  },
  {
   "cell_type": "code",
   "execution_count": null,
   "metadata": {},
   "outputs": [],
   "source": [
    "installs_sample['hora'] = installs_sample['created'].apply(lambda x: ('%02d-%02d' % (x.hour, (x.hour+1))))\n",
    "installs_sample['dia'] = installs_sample['created'].dt.day_name()+' '+installs_sample['created'].dt.day.map(str)\n",
    "pivot_installs = installs_sample.groupby(['dia','hora']).size().reset_index()\n",
    "pivot_installs.columns = ['dia','hora', 'count']\n",
    "pivot_installs = pivot_installs.pivot_table(index='hora', columns='dia', values='count',aggfunc='sum', fill_value=0, dropna=False)\n",
    "pivot_installs = pivot_installs[['Thursday 18', 'Friday 19', 'Saturday 20', 'Sunday 21', 'Monday 22', 'Tuesday 23', 'Wednesday 24', 'Thursday 25', 'Friday 26']]\n"
   ]
  },
  {
   "cell_type": "code",
   "execution_count": null,
   "metadata": {},
   "outputs": [],
   "source": [
    "plt.figure(figsize = (40,5));\n",
    "plt.title('Sample Installs per hour');\n",
    "sns.heatmap(pivot_installs.T, square = True, linewidth=1, cmap = 'Greens');\n",
    "plt.xticks(rotation = 0);\n",
    "plt.xlabel('Time');\n",
    "plt.ylabel('Day', rotation=0);"
   ]
  },
  {
   "cell_type": "markdown",
   "metadata": {},
   "source": [
    "#### Distribución"
   ]
  },
  {
   "cell_type": "code",
   "execution_count": null,
   "metadata": {},
   "outputs": [],
   "source": [
    "plt.figure(figsize = (7,5));\n",
    "device_freq = events_sample['ref_hash'].value_counts().to_frame().reset_index().reset_index()\n",
    "device_freq.columns = ['x', 'ref_hash', 'count']\n",
    "\n",
    "ax = sns.regplot(x=device_freq['x'], y=device_freq['count'], fit_reg=False);\n",
    "ax.set_xlabel('Quantity of devices');\n",
    "ax.set_ylabel('Events per device');\n",
    "ax.set_title('Sample distribution of events per device');"
   ]
  },
  {
   "cell_type": "code",
   "execution_count": null,
   "metadata": {},
   "outputs": [],
   "source": [
    "ax = device_freq.plot(x='x',y='count',loglog=True, legend=False);\n",
    "ax.set_xlabel('Log scale of: Quantity of Devices');\n",
    "ax.set_ylabel('log scale of: Quantyty of Events');\n",
    "ax.set_title('Distribution of events per device');"
   ]
  },
  {
   "cell_type": "code",
   "execution_count": null,
   "metadata": {},
   "outputs": [],
   "source": [
    "allDone()"
   ]
  },
  {
   "cell_type": "markdown",
   "metadata": {},
   "source": [
    "# Process Dataset for Auctions"
   ]
  },
  {
   "cell_type": "code",
   "execution_count": 4,
   "metadata": {},
   "outputs": [],
   "source": [
    "def fit_and_score_features(X, y, alpha=0.1):\n",
    "    n_features = X.shape[1]\n",
    "    scores = np.empty(n_features)\n",
    "    m = CoxPHSurvivalAnalysis(alpha=alpha)\n",
    "    for j in range(n_features):\n",
    "        Xj = X[:, j:j+1]\n",
    "        m.fit(Xj, y)\n",
    "        scores[j] = m.score(Xj, y)\n",
    "    return scores\n"
   ]
  },
  {
   "cell_type": "code",
   "execution_count": 5,
   "metadata": {},
   "outputs": [],
   "source": [
    "def remove_unused_cols(X):\n",
    "    #remove empty columns\n",
    "    to_drop = []\n",
    "    for col in X.select_dtypes(include='number').columns:\n",
    "        if X[col].sum()==0:\n",
    "            to_drop.append(col)\n",
    "    if len(to_drop)>0:\n",
    "        X = X.drop(columns=to_drop)\n",
    "    return X"
   ]
  },
  {
   "cell_type": "code",
   "execution_count": 6,
   "metadata": {},
   "outputs": [],
   "source": [
    "class preprocess( BaseEstimator, TransformerMixin ): \n",
    "    #Return self nothing else to do here\n",
    "    def fit( self, X, y = None  ):\n",
    "        return self\n",
    "    #Transformer method we wrote for this transformer \n",
    "    def transform(self, X , y = None ):\n",
    "        # X = X.copy() # do we need this line\n",
    "        # boolean transformations\n",
    "        if 'event_uuid' in X.columns:\n",
    "            X['event_uuid'] = np.where(X['event_uuid'].isnull(), 0,1)\n",
    "        if 'click_hash' in X.columns:\n",
    "            X['click_hash'] = np.where(X['click_hash'].isnull(), 0,1)\n",
    "        if 'Android' in X.columns:\n",
    "            X['Android'] = np.where(X['user_agent'].str.contains('Android', regex=False),1,0)\n",
    "        if 'iOS' in X.columns:\n",
    "            X['iOS'] = np.where(X['user_agent'].str.contains('Darwin', regex=False) | X['user_agent'].str.contains('iOS', regex=False),1,0)\n",
    "        if 'trans_id' in X.columns:\n",
    "            X['trans_id'] = np.where(X['trans_id'].isnull(), 0,1)\n",
    "        # date transformations\n",
    "        if 'created' in X.columns:\n",
    "            X['created_weekday'] = X['created'].dt.weekday\n",
    "            X['created_hour'] = X['created'].dt.hour\n",
    "            X['created_minute'] = X['created'].dt.minute\n",
    "        if 'date' in X.columns:\n",
    "            X['date_weekday'] = X['date'].dt.weekday\n",
    "            X['date_hour'] = X['date'].dt.hour\n",
    "            X['date_minute'] = X['date'].dt.minute\n",
    "            X['date_second'] = X['date'].dt.second\n",
    "        #remove unused columns\n",
    "        to_drop = []\n",
    "        for col in ['date','created', 'install_diff','device_brand','install_seconds','user_agent','device_id']:\n",
    "            if col in X.columns:\n",
    "                to_drop.append(col)\n",
    "        X = X.drop(columns=to_drop)\n",
    "        X = pd.get_dummies(X, dummy_na=True, prefix_sep='=')\n",
    "        #returns numpy array\n",
    "        return X\n",
    "\n",
    "    "
   ]
  },
  {
   "cell_type": "code",
   "execution_count": 7,
   "metadata": {},
   "outputs": [],
   "source": [
    "def custom_cv_folds(X):\n",
    "    myCViterator = []\n",
    "    trainIndices = X.loc[X['date']<'2019-04-21 00:00:00'].index.values.astype(int)\n",
    "    testIndices =  X.loc[('2019-04-21 00:00:00'<=X['date']) & (X['date']<'2019-04-24 00:00:00')].index.values.astype(int)\n",
    "    myCViterator.append( (trainIndices, testIndices) )\n",
    "    trainIndices = X.loc[('2019-04-19 00:00:00'<=X['date']) & (X['date']<'2019-04-22 00:00:00')].index.values.astype(int)\n",
    "    testIndices =  X.loc[('2019-04-22 00:00:00'<=X['date']) & (X['date']<'2019-04-25 00:00:00')].index.values.astype(int)\n",
    "    myCViterator.append( (trainIndices, testIndices) )\n",
    "    trainIndices = X.loc[('2019-04-20 00:00:00'<=X['date']) & (X['date']<'2019-04-23 00:00:00')].index.values.astype(int)\n",
    "    testIndices =  X.loc[('2019-04-23 00:00:00'<=X['date']) & (X['date']<'2019-04-26 00:00:00')].index.values.astype(int)\n",
    "    myCViterator.append( (trainIndices, testIndices) )\n",
    "    trainIndices = X.loc[('2019-04-21 00:00:00'<=X['date']) & (X['date']<'2019-04-24 00:00:00')].index.values.astype(int)\n",
    "    testIndices =  X.loc[('2019-04-24 00:00:00'<=X['date']) & (X['date']<'2019-04-27 00:00:00')].index.values.astype(int)\n",
    "    myCViterator.append( (trainIndices, testIndices) )\n",
    "    return myCViterator\n"
   ]
  },
  {
   "cell_type": "code",
   "execution_count": 8,
   "metadata": {},
   "outputs": [],
   "source": [
    "import warnings\n",
    "from pandas.core.common import SettingWithCopyWarning\n",
    "warnings.filterwarnings(\"ignore\", category=SettingWithCopyWarning)"
   ]
  },
  {
   "cell_type": "code",
   "execution_count": 9,
   "metadata": {},
   "outputs": [],
   "source": [
    "#read from sample\n",
    "auctions_ids_sample = pd.read_csv('data/auctions_ids_sample.csv', dtype={'device_id':'object'})['device_id']"
   ]
  },
  {
   "cell_type": "code",
   "execution_count": 10,
   "metadata": {},
   "outputs": [
    {
     "data": {
      "text/html": [
       "\n",
       "                <audio controls=\"controls\" autoplay=\"autoplay\">\n",
       "                    <source src=\"https://sound.peal.io/ps/audios/000/000/537/original/woo_vu_luvub_dub_dub.wav\" type=\"audio/x-wav\" />\n",
       "                    Your browser does not support the audio element.\n",
       "                </audio>\n",
       "              "
      ],
      "text/plain": [
       "<IPython.lib.display.Audio object>"
      ]
     },
     "metadata": {},
     "output_type": "display_data"
    },
    {
     "name": "stdout",
     "output_type": "stream",
     "text": [
      "setup done\n"
     ]
    }
   ],
   "source": [
    "# auctions\n",
    "auctions_df = pd.read_csv('data/auctions.csv', low_memory=False, dtype={'country':'category','platform':'category',\\\n",
    "                                                                        'ref_type_id':'category','source_id':'category','device_id':'object'})\n",
    "auctions_df['date'] = pd.to_datetime(auctions_df['date'])\n",
    "auctions_sample = auctions_df.loc[auctions_df['device_id'].isin(auctions_ids_sample)].copy()\n",
    "# installs\n",
    "installs_df = pd.read_csv('data/installs.csv', low_memory=False, dtype={'ref_type':'category','application_id':'category',\\\n",
    "                                                      'device_brand':'category','ref_hash':'object','wifi':'category'})\n",
    "installs_df['kind'] = installs_df['kind'].str.lower()\n",
    "installs_df['kind'] = installs_df['kind'].astype('category')\n",
    "installs_df.drop(columns=['session_user_agent','ip_address','device_language','device_model'], inplace=True)\n",
    "installs_df['created'] = pd.to_datetime(installs_df['created'])\n",
    "installs_df.drop(['device_countrycode'], axis=1, inplace=True)\n",
    "installs_sample = installs_df.loc[installs_df['ref_hash'].isin(auctions_ids_sample)].copy()\n",
    "#installs_sample.to_csv('data/installs_sample.csv', index=False)\n",
    "#events\n",
    "events_df = pd.read_csv('data/events.csv', low_memory=False, dtype={'event_id':'int32','ref_type':'category','application_id':'category',\\\n",
    "                                                                                            'attributed':'bool','device_countrycode':'category','device_city':'category',\\\n",
    "                                                                                            'trans_id':'category','carrier':'category','device_os':'category',\\\n",
    "                                                                                            'connection_type':'category'})\n",
    "events_df['date'] = pd.to_datetime(events_df['date'])\n",
    "events_df['wifi'].astype('bool', inplace=True)\n",
    "events_df.drop(columns=['device_countrycode','session_user_agent','ip_address','device_language'], inplace=True)\n",
    "events_sample = events_df.loc[events_df['ref_hash'].isin(auctions_ids_sample)].copy()\n",
    "#events_sample.to_csv('data/events_sample.csv', index=False) \n",
    "del events_df\n",
    "del auctions_df\n",
    "del installs_df\n",
    "gc.collect()\n",
    "allDone()\n",
    "print('setup done')"
   ]
  },
  {
   "cell_type": "code",
   "execution_count": 12,
   "metadata": {},
   "outputs": [
    {
     "data": {
      "text/plain": [
       "(241085, 4)"
      ]
     },
     "execution_count": 12,
     "metadata": {},
     "output_type": "execute_result"
    }
   ],
   "source": [
    "auctions_sample.shape"
   ]
  },
  {
   "cell_type": "code",
   "execution_count": 221,
   "metadata": {},
   "outputs": [],
   "source": [
    "# calculate time in seconds\n",
    "auctions_sample.drop_duplicates(inplace=True)\n",
    "auctions_sample = auctions_sample.sort_values(by=['device_id','date'])\n",
    "auctions_sample['date_dif'] = auctions_sample['date'].shift(periods=-1) - auctions_sample['date']\n",
    "auctions_sample['device_id_next'] = auctions_sample['device_id'].astype('object').shift(periods=-1)\n",
    "auctions_sample['date_dif'] = pd.to_timedelta(np.where(auctions_sample['device_id_next']==auctions_sample['device_id'], auctions_sample['date_dif'], np.where(auctions_sample['date']+pd.DateOffset(3)>'2019-04-27 00:00:00', datetime.datetime(2019,4,27)-auctions_sample['date'], pd.to_timedelta(3, unit='d'))))\n",
    "auctions_sample['in_seconds'] = auctions_sample['date_dif'].dt.total_seconds()\n",
    "auctions_sample['status_censored'] = ((auctions_sample['device_id_next']==auctions_sample['device_id']) & (auctions_sample['in_seconds']<259200.0))\n",
    "auctions_sample.drop(['device_id_next','date_dif'], axis='columns', inplace=True)\n",
    "auctions_sample['device_id'] = auctions_sample['device_id'].astype('object')\n",
    "#calculate previous time in seconds\n",
    "auctions_sample['date_prev'] = auctions_sample['date'].shift()\n",
    "auctions_sample['date_dif_prev'] = auctions_sample['date']- auctions_sample['date_prev']\n",
    "auctions_sample['device_id_prev'] = auctions_sample['device_id'].astype('object').shift()\n",
    "auctions_sample['date_dif_prev'] = pd.to_timedelta(np.where(auctions_sample['device_id_prev']==auctions_sample['device_id'], auctions_sample['date_dif_prev'], np.where(auctions_sample['date']-pd.DateOffset(3)<'2019-04-18 00:00:00', auctions_sample['date']-datetime.datetime(2019,4,18), pd.to_timedelta(3, unit='d'))))\n",
    "auctions_sample['last_seen'] = auctions_sample['date_dif_prev'].dt.total_seconds()\n",
    "auctions_sample.drop(['device_id_prev','date_dif_prev','date_prev'], axis='columns', inplace=True)\n",
    "auctions_sample = auctions_sample.sort_values(by=['date'])\n",
    "\n"
   ]
  },
  {
   "cell_type": "code",
   "execution_count": 222,
   "metadata": {},
   "outputs": [],
   "source": [
    "auct_cols = auctions_sample.columns.tolist()"
   ]
  },
  {
   "cell_type": "code",
   "execution_count": 224,
   "metadata": {},
   "outputs": [
    {
     "name": "stdout",
     "output_type": "stream",
     "text": [
      "1\n",
      "2\n",
      "3\n",
      "4\n",
      "5\n",
      "6\n",
      "7\n",
      "8\n",
      "9\n",
      "10\n",
      "11\n",
      "12\n",
      "13\n",
      "14\n",
      "15\n"
     ]
    },
    {
     "data": {
      "text/html": [
       "<div>\n",
       "<style scoped>\n",
       "    .dataframe tbody tr th:only-of-type {\n",
       "        vertical-align: middle;\n",
       "    }\n",
       "\n",
       "    .dataframe tbody tr th {\n",
       "        vertical-align: top;\n",
       "    }\n",
       "\n",
       "    .dataframe thead th {\n",
       "        text-align: right;\n",
       "    }\n",
       "</style>\n",
       "<table border=\"1\" class=\"dataframe\">\n",
       "  <thead>\n",
       "    <tr style=\"text-align: right;\">\n",
       "      <th></th>\n",
       "      <th>dia</th>\n",
       "      <th>hora</th>\n",
       "      <th>hour_day_dist</th>\n",
       "    </tr>\n",
       "  </thead>\n",
       "  <tbody>\n",
       "    <tr>\n",
       "      <th>0</th>\n",
       "      <td>18</td>\n",
       "      <td>0</td>\n",
       "      <td>0.720353</td>\n",
       "    </tr>\n",
       "    <tr>\n",
       "      <th>1</th>\n",
       "      <td>18</td>\n",
       "      <td>1</td>\n",
       "      <td>0.625736</td>\n",
       "    </tr>\n",
       "    <tr>\n",
       "      <th>2</th>\n",
       "      <td>18</td>\n",
       "      <td>2</td>\n",
       "      <td>0.664424</td>\n",
       "    </tr>\n",
       "    <tr>\n",
       "      <th>3</th>\n",
       "      <td>18</td>\n",
       "      <td>3</td>\n",
       "      <td>0.651388</td>\n",
       "    </tr>\n",
       "    <tr>\n",
       "      <th>4</th>\n",
       "      <td>18</td>\n",
       "      <td>4</td>\n",
       "      <td>0.660219</td>\n",
       "    </tr>\n",
       "  </tbody>\n",
       "</table>\n",
       "</div>"
      ],
      "text/plain": [
       "   dia  hora  hour_day_dist\n",
       "0   18     0       0.720353\n",
       "1   18     1       0.625736\n",
       "2   18     2       0.664424\n",
       "3   18     3       0.651388\n",
       "4   18     4       0.660219"
      ]
     },
     "metadata": {},
     "output_type": "display_data"
    },
    {
     "name": "stdout",
     "output_type": "stream",
     "text": [
      "(241085, 128)\n",
      "(241085, 127)\n",
      "16\n",
      "17\n",
      "18\n",
      "19\n"
     ]
    }
   ],
   "source": [
    "#some features\n",
    "auct_cols = auctions_sample.columns.tolist()\n",
    "print(1)\n",
    "#installs and evetns\n",
    "events_sample['kind'] = 'event'\n",
    "print(2)\n",
    "installs_sample['kind'] = installs_sample['kind'].str.replace(' ', '_').str.lower()\n",
    "print(3)\n",
    "#information about last installs and events\n",
    "applications = installs_sample[['ref_hash','created','application_id','kind']].append(events_sample[['ref_hash', 'date', 'application_id','kind']].rename(columns = {'date':'created'}), ignore_index=True)\n",
    "print(4)\n",
    "data_1 = pd.merge(auctions_sample, applications, left_on='device_id', right_on='ref_hash', how='left')\n",
    "print(5)\n",
    "#only previus installs or events\n",
    "data_1 = data_1.loc[(data_1['date']>data_1['created']) | data_1['created'].isnull()]\n",
    "print(6)\n",
    "\n",
    "# application_id feature by id\n",
    "app_id_1 = data_1[['application_id','kind']].copy()\n",
    "print(7)\n",
    "app_id_1 = pd.get_dummies(app_id_1, dummy_na=True, prefix_sep='=')\n",
    "print(8)\n",
    "data_1.drop(columns=['application_id'], inplace=True)\n",
    "print(9)\n",
    "data_1 = pd.merge(data_1, app_id_1, left_index=True, right_index=True, how='inner')\n",
    "print(10)\n",
    "\n",
    "app_id_1_columns = app_id_1.columns.tolist()\n",
    "print(11)\n",
    "\n",
    "group_1 = data_1.groupby(auct_cols).agg({col:'sum' for col in app_id_1_columns})\n",
    "print(12)\n",
    "group_1.reset_index(inplace=True)\n",
    "\n",
    "del installs_sample\n",
    "del events_sample\n",
    "gc.collect()\n",
    "print(13)\n",
    "auctions_sample = pd.merge(auctions_sample, group_1, on=['date','device_id','ref_type_id','source_id','in_seconds','status_censored', 'last_seen'], how='left')\n",
    "print(14)\n",
    "auctions_sample = auctions_sample.astype({col:'float32' for col in app_id_1_columns})\n",
    "print(15)\n",
    "\n",
    "auctions_sample['hora'] = auctions_sample['date'].dt.hour\n",
    "auctions_sample['dia'] = auctions_sample['date'].dt.day\n",
    "pivot_auctions = auctions_sample.groupby(['dia','hora']).size().reset_index()\n",
    "pivot_auctions.columns = ['dia','hora', 'hour_day_dist']\n",
    "max_auctions = pivot_auctions['hour_day_dist'].max().max()\n",
    "pivot_auctions['hour_day_dist'] = pivot_auctions['hour_day_dist']/max_auctions\n",
    "display(pivot_auctions.head(5))\n",
    "print(auctions_sample.shape)\n",
    "auctions_sample = pd.merge(auctions_sample, pivot_auctions, on=['dia','hora'], how='left')\n",
    "auctions_sample.drop(columns=['hora','dia'], inplace=True)\n",
    "print(auctions_sample.shape)\n",
    "\n",
    "auctions_sample.fillna(value={'application_id=nan':1,'kind=nan':1}, inplace=True)\n",
    "print(16)\n",
    "auctions_sample.fillna(value={col:0 for col in app_id_1_columns}, inplace=True)\n",
    "print(17)\n",
    "auctions_sample = auctions_sample.astype({col:'int32' for col in app_id_1_columns})\n",
    "print(18)\n",
    "auctions_sample.reset_index(inplace=True, drop=True)\n",
    "print(19)\n"
   ]
  },
  {
   "cell_type": "code",
   "execution_count": null,
   "metadata": {},
   "outputs": [],
   "source": []
  },
  {
   "cell_type": "code",
   "execution_count": 225,
   "metadata": {},
   "outputs": [
    {
     "data": {
      "text/plain": [
       "125123691"
      ]
     },
     "execution_count": 225,
     "metadata": {},
     "output_type": "execute_result"
    }
   ],
   "source": [
    "auctions_sample.memory_usage(index=True).sum()"
   ]
  },
  {
   "cell_type": "code",
   "execution_count": 226,
   "metadata": {},
   "outputs": [
    {
     "name": "stdout",
     "output_type": "stream",
     "text": [
      "[]\n"
     ]
    }
   ],
   "source": [
    "new_dtypes = {col: ('datetime64' if col=='date' else ('object' if col=='device_id' else ('category' if col=='ref_type_id' or col=='source_id' else ('float64' if col=='in_seconds' or col=='last_seen' or col=='hour_day_dist' else ('bool' if col=='status_censored' else 'int16'))))) for col in auctions_sample.columns}\n",
    "auctions_sample = auctions_sample.astype(new_dtypes, copy=False)\n",
    "features = np.setdiff1d(auctions_sample.columns, ['in_seconds', 'status_censored'] ).tolist()\n",
    "corr = auctions_sample[features].corr()\n",
    "#remove uncorrelated columns (less than: -0.95)\n",
    "corr = pd.DataFrame(np.tril(corr), columns=corr.columns, index=corr.index) #triangular inferior\n",
    "removed_corr = corr.loc[(corr<-0.95).any()].index.tolist()\n",
    "print(removed_corr)\n",
    "corr_columns = np.setdiff1d(auctions_sample.columns, removed_corr ).tolist()\n",
    "if not('date' in corr_columns):\n",
    "    corr_columns.append('date')\n",
    "if not('device_id' in corr_columns):\n",
    "    corr_columns.append('device_id')\n",
    "if not('ref_type_id' in corr_columns):\n",
    "    corr_columns.append('ref_type_id')\n",
    "if not('source_id' in corr_columns):\n",
    "    corr_columns.append('source_id')\n",
    "if not('in_seconds' in corr_columns):\n",
    "    corr_columns.append('in_seconds')\n",
    "if not('last_seen' in corr_columns):\n",
    "    corr_columns.append('last_seen')\n",
    "if not('status_censored' in corr_columns):\n",
    "    corr_columns.append('status_censored')\n",
    "if not('hour_day_dist' in corr_columns):\n",
    "    corr_columns.append('hour_day_dist')\n",
    "\n",
    "auctions_sample = auctions_sample[corr_columns]\n",
    "new_dtypes = {col: ('datetime64' if col=='date' else ('object' if col=='device_id' else ('category' if col=='ref_type_id' or col=='source_id' else ('float64' if col=='in_seconds' or col=='last_seen' or col=='hour_day_dist' else ('bool' if col=='status_censored' else 'int16'))))) for col in auctions_sample.columns}\n",
    "auctions_sample.to_csv('data/auctions_sample_merged_05.csv', index=False) \n",
    "\n"
   ]
  },
  {
   "cell_type": "code",
   "execution_count": 227,
   "metadata": {},
   "outputs": [
    {
     "data": {
      "text/html": [
       "\n",
       "                <audio controls=\"controls\" autoplay=\"autoplay\">\n",
       "                    <source src=\"https://sound.peal.io/ps/audios/000/000/537/original/woo_vu_luvub_dub_dub.wav\" type=\"audio/x-wav\" />\n",
       "                    Your browser does not support the audio element.\n",
       "                </audio>\n",
       "              "
      ],
      "text/plain": [
       "<IPython.lib.display.Audio object>"
      ]
     },
     "metadata": {},
     "output_type": "display_data"
    },
    {
     "data": {
      "text/plain": [
       "{'application_id=101': 'int16',\n",
       " 'application_id=116': 'int16',\n",
       " 'application_id=117': 'int16',\n",
       " 'application_id=121': 'int16',\n",
       " 'application_id=122': 'int16',\n",
       " 'application_id=123': 'int16',\n",
       " 'application_id=126': 'int16',\n",
       " 'application_id=128': 'int16',\n",
       " 'application_id=129': 'int16',\n",
       " 'application_id=13': 'int16',\n",
       " 'application_id=133': 'int16',\n",
       " 'application_id=135': 'int16',\n",
       " 'application_id=14': 'int16',\n",
       " 'application_id=140': 'int16',\n",
       " 'application_id=143': 'int16',\n",
       " 'application_id=145': 'int16',\n",
       " 'application_id=147': 'int16',\n",
       " 'application_id=153': 'int16',\n",
       " 'application_id=155': 'int16',\n",
       " 'application_id=158': 'int16',\n",
       " 'application_id=159': 'int16',\n",
       " 'application_id=161': 'int16',\n",
       " 'application_id=163': 'int16',\n",
       " 'application_id=165': 'int16',\n",
       " 'application_id=167': 'int16',\n",
       " 'application_id=170': 'int16',\n",
       " 'application_id=175': 'int16',\n",
       " 'application_id=180': 'int16',\n",
       " 'application_id=185': 'int16',\n",
       " 'application_id=187': 'int16',\n",
       " 'application_id=188': 'int16',\n",
       " 'application_id=19': 'int16',\n",
       " 'application_id=194': 'int16',\n",
       " 'application_id=196': 'int16',\n",
       " 'application_id=197': 'int16',\n",
       " 'application_id=200': 'int16',\n",
       " 'application_id=203': 'int16',\n",
       " 'application_id=21': 'int16',\n",
       " 'application_id=210': 'int16',\n",
       " 'application_id=212': 'int16',\n",
       " 'application_id=214': 'int16',\n",
       " 'application_id=218': 'int16',\n",
       " 'application_id=226': 'int16',\n",
       " 'application_id=230': 'int16',\n",
       " 'application_id=232': 'int16',\n",
       " 'application_id=256': 'int16',\n",
       " 'application_id=26': 'int16',\n",
       " 'application_id=261': 'int16',\n",
       " 'application_id=263': 'int16',\n",
       " 'application_id=265': 'int16',\n",
       " 'application_id=268': 'int16',\n",
       " 'application_id=269': 'int16',\n",
       " 'application_id=27': 'int16',\n",
       " 'application_id=274': 'int16',\n",
       " 'application_id=279': 'int16',\n",
       " 'application_id=289': 'int16',\n",
       " 'application_id=291': 'int16',\n",
       " 'application_id=3': 'int16',\n",
       " 'application_id=30': 'int16',\n",
       " 'application_id=301': 'int16',\n",
       " 'application_id=302': 'int16',\n",
       " 'application_id=305': 'int16',\n",
       " 'application_id=308': 'int16',\n",
       " 'application_id=309': 'int16',\n",
       " 'application_id=31': 'int16',\n",
       " 'application_id=311': 'int16',\n",
       " 'application_id=327': 'int16',\n",
       " 'application_id=330': 'int16',\n",
       " 'application_id=339': 'int16',\n",
       " 'application_id=34': 'int16',\n",
       " 'application_id=35': 'int16',\n",
       " 'application_id=36': 'int16',\n",
       " 'application_id=39': 'int16',\n",
       " 'application_id=4': 'int16',\n",
       " 'application_id=42': 'int16',\n",
       " 'application_id=45': 'int16',\n",
       " 'application_id=49': 'int16',\n",
       " 'application_id=54': 'int16',\n",
       " 'application_id=55': 'int16',\n",
       " 'application_id=56': 'int16',\n",
       " 'application_id=57': 'int16',\n",
       " 'application_id=62': 'int16',\n",
       " 'application_id=65': 'int16',\n",
       " 'application_id=66': 'int16',\n",
       " 'application_id=68': 'int16',\n",
       " 'application_id=70': 'int16',\n",
       " 'application_id=71': 'int16',\n",
       " 'application_id=72': 'int16',\n",
       " 'application_id=75': 'int16',\n",
       " 'application_id=77': 'int16',\n",
       " 'application_id=78': 'int16',\n",
       " 'application_id=80': 'int16',\n",
       " 'application_id=81': 'int16',\n",
       " 'application_id=86': 'int16',\n",
       " 'application_id=87': 'int16',\n",
       " 'application_id=94': 'int16',\n",
       " 'application_id=96': 'int16',\n",
       " 'application_id=nan': 'int16',\n",
       " 'date': 'datetime64',\n",
       " 'device_id': 'object',\n",
       " 'hour_day_dist': 'float64',\n",
       " 'in_seconds': 'float64',\n",
       " 'kind=01_launch': 'int16',\n",
       " 'kind=account_summary_first_step': 'int16',\n",
       " 'kind=added_personal_info': 'int16',\n",
       " 'kind=af_app_opend': 'int16',\n",
       " 'kind=af_app_opened': 'int16',\n",
       " 'kind=af_search': 'int16',\n",
       " 'kind=af_view_product': 'int16',\n",
       " 'kind=app_open': 'int16',\n",
       " 'kind=applaunch': 'int16',\n",
       " 'kind=deeplink': 'int16',\n",
       " 'kind=deeplink_open': 'int16',\n",
       " 'kind=list_view': 'int16',\n",
       " 'kind=login_success': 'int16',\n",
       " 'kind=mobilesignup': 'int16',\n",
       " 'kind=nan': 'int16',\n",
       " 'kind=open': 'int16',\n",
       " 'kind=pax_app_open': 'int16',\n",
       " 'kind=product_view': 'int16',\n",
       " 'kind=registration_complete': 'int16',\n",
       " 'kind=sessionbegin': 'int16',\n",
       " 'kind=sign_in': 'int16',\n",
       " 'last_seen': 'float64',\n",
       " 'ref_type_id': 'category',\n",
       " 'source_id': 'category',\n",
       " 'status_censored': 'bool'}"
      ]
     },
     "execution_count": 227,
     "metadata": {},
     "output_type": "execute_result"
    }
   ],
   "source": [
    "allDone()\n",
    "new_dtypes"
   ]
  },
  {
   "cell_type": "code",
   "execution_count": null,
   "metadata": {},
   "outputs": [],
   "source": [
    "auctions_sample.shape"
   ]
  },
  {
   "cell_type": "markdown",
   "metadata": {},
   "source": [
    "# Process for Convertions"
   ]
  },
  {
   "cell_type": "code",
   "execution_count": 5,
   "metadata": {},
   "outputs": [],
   "source": [
    "def preprocess(self, X , y = None ):\n",
    "    # X = X.copy() # do we need this line\n",
    "    # boolean transformations\n",
    "    if 'event_uuid' in X.columns:\n",
    "        X['event_uuid'] = np.where(X['event_uuid'].isnull(), 0,1)\n",
    "    if 'click_hash' in X.columns:\n",
    "        X['click_hash'] = np.where(X['click_hash'].isnull(), 0,1)\n",
    "    if 'Android' in X.columns:\n",
    "        X['Android'] = np.where(X['user_agent'].str.contains('Android', regex=False),1,0)\n",
    "    if 'iOS' in X.columns:\n",
    "        X['iOS'] = np.where(X['user_agent'].str.contains('Darwin', regex=False) | X['user_agent'].str.contains('iOS', regex=False),1,0)\n",
    "    if 'trans_id' in X.columns:\n",
    "        X['trans_id'] = np.where(X['trans_id'].isnull(), 0,1)\n",
    "    # date transformations\n",
    "    if 'created' in X.columns:\n",
    "        X['created_weekday'] = X['created'].dt.weekday\n",
    "        X['created_hour'] = X['created'].dt.hour\n",
    "        X['created_minute'] = X['created'].dt.minute\n",
    "    if 'date' in X.columns:\n",
    "        X['date_weekday'] = X['date'].dt.weekday\n",
    "        X['date_hour'] = X['date'].dt.hour\n",
    "        X['date_minute'] = X['date'].dt.minute\n",
    "        X['date_second'] = X['date'].dt.second\n",
    "    #remove unused columns\n",
    "    to_drop = []\n",
    "    for col in ['date','created', 'install_diff','device_brand','install_seconds','user_agent','device_id']:\n",
    "        if col in X.columns:\n",
    "            to_drop.append(col)\n",
    "    X = X.drop(columns=to_drop)\n",
    "    X = pd.get_dummies(X, dummy_na=True, prefix_sep='=')\n",
    "    #returns numpy array\n",
    "    return X\n",
    "\n",
    "    "
   ]
  },
  {
   "cell_type": "code",
   "execution_count": 6,
   "metadata": {},
   "outputs": [],
   "source": [
    "#read from sample\n",
    "convertions_ids_sample = pd.read_csv('data/convertions_ids_sample.csv', dtype={'ref_hash':'object'})['ref_hash']"
   ]
  },
  {
   "cell_type": "code",
   "execution_count": 7,
   "metadata": {},
   "outputs": [
    {
     "data": {
      "text/html": [
       "\n",
       "                <audio controls=\"controls\" autoplay=\"autoplay\">\n",
       "                    <source src=\"https://sound.peal.io/ps/audios/000/000/537/original/woo_vu_luvub_dub_dub.wav\" type=\"audio/x-wav\" />\n",
       "                    Your browser does not support the audio element.\n",
       "                </audio>\n",
       "              "
      ],
      "text/plain": [
       "<IPython.lib.display.Audio object>"
      ]
     },
     "metadata": {},
     "output_type": "display_data"
    },
    {
     "name": "stdout",
     "output_type": "stream",
     "text": [
      "setup done\n"
     ]
    }
   ],
   "source": [
    "# auctions\n",
    "#auctions_df = pd.read_csv('data/auctions.csv', low_memory=False, dtype={'country':'category','platform':'category',\\\n",
    "#                                                                        'ref_type_id':'category','source_id':'category','device_id':'object'})\n",
    "#auctions_df['date'] = pd.to_datetime(auctions_df['date'])\n",
    "#auctions_sample = auctions_df.loc[auctions_df['device_id'].isin(auctions_ids_sample)].copy()\n",
    "# installs\n",
    "installs_df = pd.read_csv('data/installs.csv', low_memory=False, dtype={'ref_type':'category','application_id':'category',\\\n",
    "                                                      'device_brand':'category','ref_hash':'object','wifi':'category'})\n",
    "installs_df['kind'] = installs_df['kind'].str.lower()\n",
    "installs_df['kind'] = installs_df['kind'].astype('category')\n",
    "installs_df.drop(columns=['session_user_agent','ip_address','device_language','device_model'], inplace=True)\n",
    "installs_df['created'] = pd.to_datetime(installs_df['created'])\n",
    "installs_df.drop(['device_countrycode'], axis=1, inplace=True)\n",
    "installs_sample = installs_df.loc[installs_df['ref_hash'].isin(convertions_ids_sample)].copy()\n",
    "#events\n",
    "events_df = pd.read_csv('data/events.csv', low_memory=False, dtype={'event_id':'int32','ref_type':'category','application_id':'category',\\\n",
    "                                                                                            'attributed':'bool','device_countrycode':'category','device_city':'category',\\\n",
    "                                                                                            'trans_id':'category','carrier':'category','device_os':'category',\\\n",
    "                                                                                            'connection_type':'category'})\n",
    "events_df['date'] = pd.to_datetime(events_df['date'])\n",
    "events_df['wifi'].astype('bool', inplace=True)\n",
    "events_df.drop(columns=['device_countrycode','session_user_agent','ip_address','device_language'], inplace=True)\n",
    "events_sample = events_df.loc[events_df['ref_hash'].isin(convertions_ids_sample)].copy()\n",
    "del events_df\n",
    "#del auctions_df\n",
    "del installs_df\n",
    "gc.collect()\n",
    "allDone()\n",
    "print('setup done')"
   ]
  },
  {
   "cell_type": "code",
   "execution_count": 8,
   "metadata": {},
   "outputs": [
    {
     "data": {
      "text/plain": [
       "(4151, 13)"
      ]
     },
     "execution_count": 8,
     "metadata": {},
     "output_type": "execute_result"
    }
   ],
   "source": [
    "installs_sample.shape"
   ]
  },
  {
   "cell_type": "code",
   "execution_count": 9,
   "metadata": {},
   "outputs": [
    {
     "data": {
      "text/plain": [
       "(67422, 19)"
      ]
     },
     "execution_count": 9,
     "metadata": {},
     "output_type": "execute_result"
    }
   ],
   "source": [
    "events_sample.shape"
   ]
  },
  {
   "cell_type": "code",
   "execution_count": 10,
   "metadata": {},
   "outputs": [
    {
     "data": {
      "text/plain": [
       "created           datetime64[ns]\n",
       "application_id          category\n",
       "ref_type                category\n",
       "ref_hash                  object\n",
       "click_hash                object\n",
       "attributed                  bool\n",
       "implicit                    bool\n",
       "device_brand            category\n",
       "user_agent                object\n",
       "event_uuid                object\n",
       "kind                    category\n",
       "wifi                    category\n",
       "trans_id                  object\n",
       "dtype: object"
      ]
     },
     "execution_count": 10,
     "metadata": {},
     "output_type": "execute_result"
    }
   ],
   "source": [
    "installs_sample.dtypes"
   ]
  },
  {
   "cell_type": "code",
   "execution_count": 11,
   "metadata": {},
   "outputs": [
    {
     "data": {
      "text/plain": [
       "created           datetime64[ns]\n",
       "application_id          category\n",
       "ref_type                category\n",
       "ref_hash                  object\n",
       "click_hash                object\n",
       "attributed                  bool\n",
       "implicit                    bool\n",
       "device_brand            category\n",
       "user_agent                object\n",
       "event_uuid                object\n",
       "kind                    category\n",
       "wifi                    category\n",
       "trans_id                  object\n",
       "dtype: object"
      ]
     },
     "execution_count": 11,
     "metadata": {},
     "output_type": "execute_result"
    }
   ],
   "source": [
    "installs_sample.dtypes"
   ]
  },
  {
   "cell_type": "code",
   "execution_count": 12,
   "metadata": {},
   "outputs": [
    {
     "data": {
      "text/html": [
       "<div>\n",
       "<style scoped>\n",
       "    .dataframe tbody tr th:only-of-type {\n",
       "        vertical-align: middle;\n",
       "    }\n",
       "\n",
       "    .dataframe tbody tr th {\n",
       "        vertical-align: top;\n",
       "    }\n",
       "\n",
       "    .dataframe thead th {\n",
       "        text-align: right;\n",
       "    }\n",
       "</style>\n",
       "<table border=\"1\" class=\"dataframe\">\n",
       "  <thead>\n",
       "    <tr style=\"text-align: right;\">\n",
       "      <th></th>\n",
       "      <th>dia</th>\n",
       "      <th>hora</th>\n",
       "      <th>hour_day_dist</th>\n",
       "    </tr>\n",
       "  </thead>\n",
       "  <tbody>\n",
       "    <tr>\n",
       "      <th>0</th>\n",
       "      <td>18</td>\n",
       "      <td>0</td>\n",
       "      <td>0.479167</td>\n",
       "    </tr>\n",
       "    <tr>\n",
       "      <th>1</th>\n",
       "      <td>18</td>\n",
       "      <td>1</td>\n",
       "      <td>0.791667</td>\n",
       "    </tr>\n",
       "    <tr>\n",
       "      <th>2</th>\n",
       "      <td>18</td>\n",
       "      <td>2</td>\n",
       "      <td>0.687500</td>\n",
       "    </tr>\n",
       "    <tr>\n",
       "      <th>3</th>\n",
       "      <td>18</td>\n",
       "      <td>3</td>\n",
       "      <td>0.416667</td>\n",
       "    </tr>\n",
       "    <tr>\n",
       "      <th>4</th>\n",
       "      <td>18</td>\n",
       "      <td>4</td>\n",
       "      <td>0.395833</td>\n",
       "    </tr>\n",
       "  </tbody>\n",
       "</table>\n",
       "</div>"
      ],
      "text/plain": [
       "   dia  hora  hour_day_dist\n",
       "0   18     0       0.479167\n",
       "1   18     1       0.791667\n",
       "2   18     2       0.687500\n",
       "3   18     3       0.416667\n",
       "4   18     4       0.395833"
      ]
     },
     "metadata": {},
     "output_type": "display_data"
    }
   ],
   "source": [
    "# calculate time in seconds\n",
    "installs_sample.drop_duplicates(inplace=True)\n",
    "installs_sample = installs_sample.sort_values(by=['ref_hash','created'])\n",
    "installs_sample['date_dif'] = installs_sample['created'].shift(periods=-1) - installs_sample['created']\n",
    "installs_sample['device_id_next'] = installs_sample['ref_hash'].astype('object').shift(periods=-1)\n",
    "installs_sample['date_dif'] = pd.to_timedelta(np.where(installs_sample['device_id_next']==installs_sample['ref_hash'], installs_sample['date_dif'], np.where(installs_sample['created']+pd.DateOffset(3)>'2019-04-27 00:00:00', datetime.datetime(2019,4,27)-installs_sample['created'], pd.to_timedelta(3, unit='d'))))\n",
    "installs_sample['in_seconds'] = installs_sample['date_dif'].dt.total_seconds()\n",
    "installs_sample['status_censored'] = ((installs_sample['device_id_next']==installs_sample['ref_hash']) & (installs_sample['in_seconds']<259200.0))\n",
    "installs_sample.drop(['device_id_next','date_dif'], axis='columns', inplace=True)\n",
    "installs_sample['ref_hash'] = installs_sample['ref_hash'].astype('object')\n",
    "#calculate previous time in seconds\n",
    "installs_sample['date_prev'] = installs_sample['created'].shift()\n",
    "installs_sample['date_dif_prev'] = installs_sample['created']- installs_sample['date_prev']\n",
    "installs_sample['device_id_prev'] = installs_sample['ref_hash'].astype('object').shift()\n",
    "installs_sample['date_dif_prev'] = pd.to_timedelta(np.where(installs_sample['device_id_prev']==installs_sample['ref_hash'], installs_sample['date_dif_prev'], np.where(installs_sample['created']-pd.DateOffset(3)<'2019-04-18 00:00:00', installs_sample['created']-datetime.datetime(2019,4,18), pd.to_timedelta(3, unit='d'))))\n",
    "installs_sample['last_seen'] = installs_sample['date_dif_prev'].dt.total_seconds()\n",
    "installs_sample.drop(['device_id_prev','date_dif_prev','date_prev'], axis='columns', inplace=True)\n",
    "installs_sample = installs_sample.sort_values(by=['created'])\n",
    "\n",
    "#average time\n",
    "installs_sample['hora'] = installs_sample['created'].dt.hour\n",
    "installs_sample['dia'] = installs_sample['created'].dt.day\n",
    "pivot_auctions = installs_sample.groupby(['dia','hora']).size().reset_index()\n",
    "pivot_auctions.columns = ['dia','hora', 'hour_day_dist']\n",
    "max_auctions = pivot_auctions['hour_day_dist'].max().max()\n",
    "pivot_auctions['hour_day_dist'] = pivot_auctions['hour_day_dist']/max_auctions\n",
    "display(pivot_auctions.head(5))\n",
    "installs_sample = pd.merge(installs_sample, pivot_auctions, on=['dia','hora'], how='left')\n",
    "installs_sample.drop(columns=['hora','dia'], inplace=True)\n",
    "\n",
    "\n"
   ]
  },
  {
   "cell_type": "code",
   "execution_count": 13,
   "metadata": {},
   "outputs": [
    {
     "data": {
      "text/html": [
       "<div>\n",
       "<style scoped>\n",
       "    .dataframe tbody tr th:only-of-type {\n",
       "        vertical-align: middle;\n",
       "    }\n",
       "\n",
       "    .dataframe tbody tr th {\n",
       "        vertical-align: top;\n",
       "    }\n",
       "\n",
       "    .dataframe thead th {\n",
       "        text-align: right;\n",
       "    }\n",
       "</style>\n",
       "<table border=\"1\" class=\"dataframe\">\n",
       "  <thead>\n",
       "    <tr style=\"text-align: right;\">\n",
       "      <th></th>\n",
       "      <th>dia</th>\n",
       "      <th>hora</th>\n",
       "      <th>hour_day_dist</th>\n",
       "    </tr>\n",
       "  </thead>\n",
       "  <tbody>\n",
       "    <tr>\n",
       "      <th>0</th>\n",
       "      <td>18</td>\n",
       "      <td>0</td>\n",
       "      <td>0.302979</td>\n",
       "    </tr>\n",
       "    <tr>\n",
       "      <th>1</th>\n",
       "      <td>18</td>\n",
       "      <td>1</td>\n",
       "      <td>0.292766</td>\n",
       "    </tr>\n",
       "    <tr>\n",
       "      <th>2</th>\n",
       "      <td>18</td>\n",
       "      <td>2</td>\n",
       "      <td>0.340426</td>\n",
       "    </tr>\n",
       "    <tr>\n",
       "      <th>3</th>\n",
       "      <td>18</td>\n",
       "      <td>3</td>\n",
       "      <td>0.379574</td>\n",
       "    </tr>\n",
       "    <tr>\n",
       "      <th>4</th>\n",
       "      <td>18</td>\n",
       "      <td>4</td>\n",
       "      <td>0.213617</td>\n",
       "    </tr>\n",
       "  </tbody>\n",
       "</table>\n",
       "</div>"
      ],
      "text/plain": [
       "   dia  hora  hour_day_dist\n",
       "0   18     0       0.302979\n",
       "1   18     1       0.292766\n",
       "2   18     2       0.340426\n",
       "3   18     3       0.379574\n",
       "4   18     4       0.213617"
      ]
     },
     "metadata": {},
     "output_type": "display_data"
    }
   ],
   "source": [
    "# calculate time in seconds\n",
    "events_sample.drop_duplicates(inplace=True)\n",
    "events_sample = events_sample.rename(columns = {'date':'created'}).sort_values(by=['ref_hash','created'])\n",
    "events_sample['date_dif'] = events_sample['created'].shift(periods=-1) - events_sample['created']\n",
    "events_sample['device_id_next'] = events_sample['ref_hash'].astype('object').shift(periods=-1)\n",
    "events_sample['date_dif'] = pd.to_timedelta(np.where(events_sample['device_id_next']==events_sample['ref_hash'], events_sample['date_dif'], np.where(events_sample['created']+pd.DateOffset(3)>'2019-04-27 00:00:00', datetime.datetime(2019,4,27)-events_sample['created'], pd.to_timedelta(3, unit='d'))))\n",
    "events_sample['in_seconds'] = events_sample['date_dif'].dt.total_seconds()\n",
    "events_sample['status_censored'] = ((events_sample['device_id_next']==events_sample['ref_hash']) & (events_sample['in_seconds']<259200.0))\n",
    "events_sample.drop(['device_id_next','date_dif'], axis='columns', inplace=True)\n",
    "events_sample['ref_hash'] = events_sample['ref_hash'].astype('object')\n",
    "#calculate previous time in seconds\n",
    "events_sample['date_prev'] = events_sample['created'].shift()\n",
    "events_sample['date_dif_prev'] = events_sample['created']- events_sample['date_prev']\n",
    "events_sample['device_id_prev'] = events_sample['ref_hash'].astype('object').shift()\n",
    "events_sample['date_dif_prev'] = pd.to_timedelta(np.where(events_sample['device_id_prev']==events_sample['ref_hash'], events_sample['date_dif_prev'], np.where(events_sample['created']-pd.DateOffset(3)<'2019-04-18 00:00:00', events_sample['created']-datetime.datetime(2019,4,18), pd.to_timedelta(3, unit='d'))))\n",
    "events_sample['last_seen'] = events_sample['date_dif_prev'].dt.total_seconds()\n",
    "events_sample.drop(['device_id_prev','date_dif_prev','date_prev'], axis='columns', inplace=True)\n",
    "events_sample = events_sample.sort_values(by=['created'])\n",
    "events_sample['user_agent']=np.nan\n",
    "events_sample['kind']='event' #it is hashed\n",
    "\n",
    "#average time\n",
    "events_sample['hora'] = events_sample['created'].dt.hour\n",
    "events_sample['dia'] = events_sample['created'].dt.day\n",
    "pivot_auctions = events_sample.groupby(['dia','hora']).size().reset_index()\n",
    "pivot_auctions.columns = ['dia','hora', 'hour_day_dist']\n",
    "max_auctions = pivot_auctions['hour_day_dist'].max().max()\n",
    "pivot_auctions['hour_day_dist'] = pivot_auctions['hour_day_dist']/max_auctions\n",
    "display(pivot_auctions.head(5))\n",
    "events_sample = pd.merge(events_sample, pivot_auctions, on=['dia','hora'], how='left')\n",
    "events_sample.drop(columns=['hora','dia'], inplace=True)\n",
    "\n"
   ]
  },
  {
   "cell_type": "code",
   "execution_count": 14,
   "metadata": {},
   "outputs": [
    {
     "data": {
      "text/html": [
       "<div>\n",
       "<style scoped>\n",
       "    .dataframe tbody tr th:only-of-type {\n",
       "        vertical-align: middle;\n",
       "    }\n",
       "\n",
       "    .dataframe tbody tr th {\n",
       "        vertical-align: top;\n",
       "    }\n",
       "\n",
       "    .dataframe thead th {\n",
       "        text-align: right;\n",
       "    }\n",
       "</style>\n",
       "<table border=\"1\" class=\"dataframe\">\n",
       "  <thead>\n",
       "    <tr style=\"text-align: right;\">\n",
       "      <th></th>\n",
       "      <th>index</th>\n",
       "      <th>created</th>\n",
       "      <th>event_id</th>\n",
       "      <th>ref_type</th>\n",
       "      <th>ref_hash</th>\n",
       "      <th>application_id</th>\n",
       "      <th>attributed</th>\n",
       "      <th>device_os_version</th>\n",
       "      <th>device_brand</th>\n",
       "      <th>device_model</th>\n",
       "      <th>...</th>\n",
       "      <th>event_uuid</th>\n",
       "      <th>carrier</th>\n",
       "      <th>kind</th>\n",
       "      <th>device_os</th>\n",
       "      <th>wifi</th>\n",
       "      <th>connection_type</th>\n",
       "      <th>in_seconds</th>\n",
       "      <th>status_censored</th>\n",
       "      <th>last_seen</th>\n",
       "      <th>hour_day_dist</th>\n",
       "    </tr>\n",
       "  </thead>\n",
       "  <tbody>\n",
       "    <tr>\n",
       "      <th>0</th>\n",
       "      <td>143310</td>\n",
       "      <td>2019-04-18 00:00:03.523</td>\n",
       "      <td>1</td>\n",
       "      <td>1891515180541284343</td>\n",
       "      <td>7010373312409084835</td>\n",
       "      <td>210</td>\n",
       "      <td>False</td>\n",
       "      <td>NaN</td>\n",
       "      <td>NaN</td>\n",
       "      <td>NaN</td>\n",
       "      <td>...</td>\n",
       "      <td>47fff218-65b9-4a73-9cf3-60ce3d9b9ba0</td>\n",
       "      <td>NaN</td>\n",
       "      <td>event</td>\n",
       "      <td>NaN</td>\n",
       "      <td>False</td>\n",
       "      <td>NaN</td>\n",
       "      <td>39.503</td>\n",
       "      <td>True</td>\n",
       "      <td>3.523</td>\n",
       "      <td>0.302979</td>\n",
       "    </tr>\n",
       "    <tr>\n",
       "      <th>1</th>\n",
       "      <td>68409</td>\n",
       "      <td>2019-04-18 00:00:39.020</td>\n",
       "      <td>15</td>\n",
       "      <td>1891515180541284343</td>\n",
       "      <td>4382914005843137510</td>\n",
       "      <td>302</td>\n",
       "      <td>False</td>\n",
       "      <td>NaN</td>\n",
       "      <td>5.645692e+18</td>\n",
       "      <td>1.697802e+18</td>\n",
       "      <td>...</td>\n",
       "      <td>e5513632-bca3-430d-a90a-6dad87322f97</td>\n",
       "      <td>NaN</td>\n",
       "      <td>event</td>\n",
       "      <td>NaN</td>\n",
       "      <td>True</td>\n",
       "      <td>NaN</td>\n",
       "      <td>92.262</td>\n",
       "      <td>True</td>\n",
       "      <td>39.020</td>\n",
       "      <td>0.302979</td>\n",
       "    </tr>\n",
       "    <tr>\n",
       "      <th>2</th>\n",
       "      <td>1329714</td>\n",
       "      <td>2019-04-18 00:00:43.026</td>\n",
       "      <td>1</td>\n",
       "      <td>1891515180541284343</td>\n",
       "      <td>7010373312409084835</td>\n",
       "      <td>210</td>\n",
       "      <td>False</td>\n",
       "      <td>NaN</td>\n",
       "      <td>NaN</td>\n",
       "      <td>NaN</td>\n",
       "      <td>...</td>\n",
       "      <td>32274059-b41d-482f-a63c-a2f979f44b22</td>\n",
       "      <td>NaN</td>\n",
       "      <td>event</td>\n",
       "      <td>NaN</td>\n",
       "      <td>False</td>\n",
       "      <td>NaN</td>\n",
       "      <td>59.284</td>\n",
       "      <td>True</td>\n",
       "      <td>39.503</td>\n",
       "      <td>0.302979</td>\n",
       "    </tr>\n",
       "    <tr>\n",
       "      <th>3</th>\n",
       "      <td>49641</td>\n",
       "      <td>2019-04-18 00:00:59.773</td>\n",
       "      <td>23</td>\n",
       "      <td>1891515180541284343</td>\n",
       "      <td>5142365577351731029</td>\n",
       "      <td>155</td>\n",
       "      <td>False</td>\n",
       "      <td>4.584084e+18</td>\n",
       "      <td>NaN</td>\n",
       "      <td>8.855249e+18</td>\n",
       "      <td>...</td>\n",
       "      <td>6aa5978f-489a-4937-90ea-bbb7cb4d6ed2</td>\n",
       "      <td>NaN</td>\n",
       "      <td>event</td>\n",
       "      <td>NaN</td>\n",
       "      <td>False</td>\n",
       "      <td>NaN</td>\n",
       "      <td>14.072</td>\n",
       "      <td>True</td>\n",
       "      <td>59.773</td>\n",
       "      <td>0.302979</td>\n",
       "    </tr>\n",
       "    <tr>\n",
       "      <th>4</th>\n",
       "      <td>54723</td>\n",
       "      <td>2019-04-18 00:01:09.029</td>\n",
       "      <td>23</td>\n",
       "      <td>1494519392962156891</td>\n",
       "      <td>5337742991722970079</td>\n",
       "      <td>116</td>\n",
       "      <td>False</td>\n",
       "      <td>4.821386e+18</td>\n",
       "      <td>NaN</td>\n",
       "      <td>6.208879e+18</td>\n",
       "      <td>...</td>\n",
       "      <td>8954d70e-0a1b-4a6a-a4e2-4397bf331fba</td>\n",
       "      <td>NaN</td>\n",
       "      <td>event</td>\n",
       "      <td>NaN</td>\n",
       "      <td>False</td>\n",
       "      <td>NaN</td>\n",
       "      <td>3.521</td>\n",
       "      <td>True</td>\n",
       "      <td>69.029</td>\n",
       "      <td>0.302979</td>\n",
       "    </tr>\n",
       "  </tbody>\n",
       "</table>\n",
       "<p>5 rows × 23 columns</p>\n",
       "</div>"
      ],
      "text/plain": [
       "     index                 created  event_id             ref_type  \\\n",
       "0   143310 2019-04-18 00:00:03.523         1  1891515180541284343   \n",
       "1    68409 2019-04-18 00:00:39.020        15  1891515180541284343   \n",
       "2  1329714 2019-04-18 00:00:43.026         1  1891515180541284343   \n",
       "3    49641 2019-04-18 00:00:59.773        23  1891515180541284343   \n",
       "4    54723 2019-04-18 00:01:09.029        23  1494519392962156891   \n",
       "\n",
       "              ref_hash application_id  attributed  device_os_version  \\\n",
       "0  7010373312409084835            210       False                NaN   \n",
       "1  4382914005843137510            302       False                NaN   \n",
       "2  7010373312409084835            210       False                NaN   \n",
       "3  5142365577351731029            155       False       4.584084e+18   \n",
       "4  5337742991722970079            116       False       4.821386e+18   \n",
       "\n",
       "   device_brand  device_model      ...        \\\n",
       "0           NaN           NaN      ...         \n",
       "1  5.645692e+18  1.697802e+18      ...         \n",
       "2           NaN           NaN      ...         \n",
       "3           NaN  8.855249e+18      ...         \n",
       "4           NaN  6.208879e+18      ...         \n",
       "\n",
       "                             event_uuid carrier   kind device_os   wifi  \\\n",
       "0  47fff218-65b9-4a73-9cf3-60ce3d9b9ba0     NaN  event       NaN  False   \n",
       "1  e5513632-bca3-430d-a90a-6dad87322f97     NaN  event       NaN   True   \n",
       "2  32274059-b41d-482f-a63c-a2f979f44b22     NaN  event       NaN  False   \n",
       "3  6aa5978f-489a-4937-90ea-bbb7cb4d6ed2     NaN  event       NaN  False   \n",
       "4  8954d70e-0a1b-4a6a-a4e2-4397bf331fba     NaN  event       NaN  False   \n",
       "\n",
       "  connection_type in_seconds  status_censored last_seen  hour_day_dist  \n",
       "0             NaN     39.503             True     3.523       0.302979  \n",
       "1             NaN     92.262             True    39.020       0.302979  \n",
       "2             NaN     59.284             True    39.503       0.302979  \n",
       "3             NaN     14.072             True    59.773       0.302979  \n",
       "4             NaN      3.521             True    69.029       0.302979  \n",
       "\n",
       "[5 rows x 23 columns]"
      ]
     },
     "execution_count": 14,
     "metadata": {},
     "output_type": "execute_result"
    }
   ],
   "source": [
    "events_sample.head()"
   ]
  },
  {
   "cell_type": "code",
   "execution_count": 15,
   "metadata": {},
   "outputs": [
    {
     "name": "stdout",
     "output_type": "stream",
     "text": [
      "1\n",
      "(71573, 10)\n",
      "2\n",
      "3\n",
      "4\n",
      "6\n",
      "7\n",
      "8\n",
      "9\n"
     ]
    }
   ],
   "source": [
    "#some features\n",
    "install_cols = installs_sample.columns.tolist()\n",
    "print(1)\n",
    "#information about last installs and events\n",
    "convertions = installs_sample[['ref_hash','created','application_id','user_agent','wifi','kind','in_seconds','status_censored','last_seen','hour_day_dist']].append(events_sample[['ref_hash', 'created', 'application_id','user_agent','wifi','kind','in_seconds','status_censored','last_seen','hour_day_dist']], ignore_index=True)\n",
    "print(convertions.shape)\n",
    "print(2)\n",
    "\n",
    "#user agent\n",
    "convertions['user_agent'] = np.where(convertions['user_agent'].str.contains('Android', regex=False),'Android',convertions['user_agent'])\n",
    "convertions['user_agent'] = np.where(convertions['user_agent'].str.contains('Darwin', regex=False) | convertions['user_agent'].str.contains('iOS', regex=False),'iOS',convertions['user_agent'])\n",
    "print(3)\n",
    "\n",
    "# previus applications\n",
    "\n",
    "app_id_1 = convertions[['application_id','created','ref_hash']].copy()\n",
    "group_1 = pd.merge(convertions, app_id_1, on='ref_hash', how='inner')\n",
    "group_1 = group_1.loc[(group_1['created_x']>group_1['created_y']) | group_1['created_y'].isnull()]\n",
    "group_1['application_id'] = group_1['application_id_y']\n",
    "group_1['created'] = group_1['created_x']\n",
    "group_1.drop(columns=['application_id_y','created_x', 'application_id_x'], inplace=True)\n",
    "group_1 = group_1.loc[group_1['created_y']>group_1['created']-pd.DateOffset(7)]\n",
    "group_1 = pd.get_dummies(group_1,prefix_sep='=', dummy_na=True,columns=['application_id'],drop_first=True)\n",
    "app_id_1_columns = []\n",
    "for col in group_1.columns.tolist():\n",
    "    if col.startswith('application_id'):\n",
    "        app_id_1_columns.append(col)\n",
    "group_1 = group_1.groupby(['created','ref_hash']).agg({col:'sum' for col in app_id_1_columns})\n",
    "convertions = pd.merge(convertions, group_1, on=['created','ref_hash'], how='left')\n",
    "convertions['curr_app_id'] = convertions['application_id']\n",
    "convertions.drop(columns=['application_id'], inplace=True)\n",
    "print(4)\n",
    "\n",
    "\n",
    "\n",
    "convertions = pd.get_dummies(convertions,prefix_sep='=', dummy_na=True,columns=['curr_app_id','wifi', 'kind', 'user_agent'],drop_first=True)\n",
    "\n",
    "convertions.fillna(value={'application_id=nan':1,'kind=nan':1,'curr_app_id=nan':1}, inplace=True)\n",
    "print(6)\n",
    "convertions.fillna(value={col:0 for col in app_id_1_columns}, inplace=True)\n",
    "print(7)\n",
    "convertions = convertions.astype({col:'int32' for col in app_id_1_columns})\n",
    "print(8)\n",
    "convertions.reset_index(inplace=True, drop=True)\n",
    "print(9)\n"
   ]
  },
  {
   "cell_type": "code",
   "execution_count": 16,
   "metadata": {},
   "outputs": [
    {
     "data": {
      "text/html": [
       "<div>\n",
       "<style scoped>\n",
       "    .dataframe tbody tr th:only-of-type {\n",
       "        vertical-align: middle;\n",
       "    }\n",
       "\n",
       "    .dataframe tbody tr th {\n",
       "        vertical-align: top;\n",
       "    }\n",
       "\n",
       "    .dataframe thead th {\n",
       "        text-align: right;\n",
       "    }\n",
       "</style>\n",
       "<table border=\"1\" class=\"dataframe\">\n",
       "  <thead>\n",
       "    <tr style=\"text-align: right;\">\n",
       "      <th></th>\n",
       "      <th>ref_hash</th>\n",
       "      <th>created</th>\n",
       "      <th>in_seconds</th>\n",
       "      <th>status_censored</th>\n",
       "      <th>last_seen</th>\n",
       "      <th>hour_day_dist</th>\n",
       "      <th>application_id=116</th>\n",
       "      <th>application_id=117</th>\n",
       "      <th>application_id=121</th>\n",
       "      <th>application_id=122</th>\n",
       "      <th>...</th>\n",
       "      <th>kind=reengagement</th>\n",
       "      <th>kind=registration_complete</th>\n",
       "      <th>kind=session begin</th>\n",
       "      <th>kind=sessionbegin</th>\n",
       "      <th>kind=sign in</th>\n",
       "      <th>kind=startsessionplayback</th>\n",
       "      <th>kind=terms_agree_split</th>\n",
       "      <th>kind=nan</th>\n",
       "      <th>user_agent=iOS</th>\n",
       "      <th>user_agent=nan</th>\n",
       "    </tr>\n",
       "  </thead>\n",
       "  <tbody>\n",
       "    <tr>\n",
       "      <th>0</th>\n",
       "      <td>5142365577351731029</td>\n",
       "      <td>2019-04-18 00:00:23.583</td>\n",
       "      <td>259200.0</td>\n",
       "      <td>False</td>\n",
       "      <td>23.583</td>\n",
       "      <td>0.479167</td>\n",
       "      <td>0</td>\n",
       "      <td>0</td>\n",
       "      <td>0</td>\n",
       "      <td>0</td>\n",
       "      <td>...</td>\n",
       "      <td>0</td>\n",
       "      <td>0</td>\n",
       "      <td>0</td>\n",
       "      <td>0</td>\n",
       "      <td>0</td>\n",
       "      <td>0</td>\n",
       "      <td>0</td>\n",
       "      <td>1</td>\n",
       "      <td>0</td>\n",
       "      <td>0</td>\n",
       "    </tr>\n",
       "    <tr>\n",
       "      <th>1</th>\n",
       "      <td>6093271945346787320</td>\n",
       "      <td>2019-04-18 00:07:08.780</td>\n",
       "      <td>259200.0</td>\n",
       "      <td>False</td>\n",
       "      <td>428.780</td>\n",
       "      <td>0.479167</td>\n",
       "      <td>0</td>\n",
       "      <td>0</td>\n",
       "      <td>0</td>\n",
       "      <td>0</td>\n",
       "      <td>...</td>\n",
       "      <td>0</td>\n",
       "      <td>0</td>\n",
       "      <td>0</td>\n",
       "      <td>0</td>\n",
       "      <td>0</td>\n",
       "      <td>0</td>\n",
       "      <td>0</td>\n",
       "      <td>1</td>\n",
       "      <td>0</td>\n",
       "      <td>0</td>\n",
       "    </tr>\n",
       "    <tr>\n",
       "      <th>2</th>\n",
       "      <td>2412759270791360354</td>\n",
       "      <td>2019-04-18 00:10:15.899</td>\n",
       "      <td>259200.0</td>\n",
       "      <td>False</td>\n",
       "      <td>615.899</td>\n",
       "      <td>0.479167</td>\n",
       "      <td>0</td>\n",
       "      <td>0</td>\n",
       "      <td>0</td>\n",
       "      <td>0</td>\n",
       "      <td>...</td>\n",
       "      <td>0</td>\n",
       "      <td>0</td>\n",
       "      <td>0</td>\n",
       "      <td>0</td>\n",
       "      <td>0</td>\n",
       "      <td>0</td>\n",
       "      <td>0</td>\n",
       "      <td>1</td>\n",
       "      <td>0</td>\n",
       "      <td>0</td>\n",
       "    </tr>\n",
       "    <tr>\n",
       "      <th>3</th>\n",
       "      <td>1446104373415285607</td>\n",
       "      <td>2019-04-18 00:18:20.910</td>\n",
       "      <td>259200.0</td>\n",
       "      <td>False</td>\n",
       "      <td>1100.910</td>\n",
       "      <td>0.479167</td>\n",
       "      <td>0</td>\n",
       "      <td>0</td>\n",
       "      <td>0</td>\n",
       "      <td>0</td>\n",
       "      <td>...</td>\n",
       "      <td>0</td>\n",
       "      <td>0</td>\n",
       "      <td>0</td>\n",
       "      <td>0</td>\n",
       "      <td>0</td>\n",
       "      <td>0</td>\n",
       "      <td>0</td>\n",
       "      <td>0</td>\n",
       "      <td>0</td>\n",
       "      <td>0</td>\n",
       "    </tr>\n",
       "    <tr>\n",
       "      <th>4</th>\n",
       "      <td>1816719220052514987</td>\n",
       "      <td>2019-04-18 00:23:22.760</td>\n",
       "      <td>259200.0</td>\n",
       "      <td>False</td>\n",
       "      <td>1402.760</td>\n",
       "      <td>0.479167</td>\n",
       "      <td>0</td>\n",
       "      <td>0</td>\n",
       "      <td>0</td>\n",
       "      <td>0</td>\n",
       "      <td>...</td>\n",
       "      <td>0</td>\n",
       "      <td>0</td>\n",
       "      <td>0</td>\n",
       "      <td>0</td>\n",
       "      <td>0</td>\n",
       "      <td>0</td>\n",
       "      <td>0</td>\n",
       "      <td>1</td>\n",
       "      <td>0</td>\n",
       "      <td>0</td>\n",
       "    </tr>\n",
       "  </tbody>\n",
       "</table>\n",
       "<p>5 rows × 305 columns</p>\n",
       "</div>"
      ],
      "text/plain": [
       "              ref_hash                 created  in_seconds  status_censored  \\\n",
       "0  5142365577351731029 2019-04-18 00:00:23.583    259200.0            False   \n",
       "1  6093271945346787320 2019-04-18 00:07:08.780    259200.0            False   \n",
       "2  2412759270791360354 2019-04-18 00:10:15.899    259200.0            False   \n",
       "3  1446104373415285607 2019-04-18 00:18:20.910    259200.0            False   \n",
       "4  1816719220052514987 2019-04-18 00:23:22.760    259200.0            False   \n",
       "\n",
       "   last_seen  hour_day_dist  application_id=116  application_id=117  \\\n",
       "0     23.583       0.479167                   0                   0   \n",
       "1    428.780       0.479167                   0                   0   \n",
       "2    615.899       0.479167                   0                   0   \n",
       "3   1100.910       0.479167                   0                   0   \n",
       "4   1402.760       0.479167                   0                   0   \n",
       "\n",
       "   application_id=121  application_id=122       ...        kind=reengagement  \\\n",
       "0                   0                   0       ...                        0   \n",
       "1                   0                   0       ...                        0   \n",
       "2                   0                   0       ...                        0   \n",
       "3                   0                   0       ...                        0   \n",
       "4                   0                   0       ...                        0   \n",
       "\n",
       "   kind=registration_complete  kind=session begin  kind=sessionbegin  \\\n",
       "0                           0                   0                  0   \n",
       "1                           0                   0                  0   \n",
       "2                           0                   0                  0   \n",
       "3                           0                   0                  0   \n",
       "4                           0                   0                  0   \n",
       "\n",
       "   kind=sign in  kind=startsessionplayback  kind=terms_agree_split  kind=nan  \\\n",
       "0             0                          0                       0         1   \n",
       "1             0                          0                       0         1   \n",
       "2             0                          0                       0         1   \n",
       "3             0                          0                       0         0   \n",
       "4             0                          0                       0         1   \n",
       "\n",
       "   user_agent=iOS  user_agent=nan  \n",
       "0               0               0  \n",
       "1               0               0  \n",
       "2               0               0  \n",
       "3               0               0  \n",
       "4               0               0  \n",
       "\n",
       "[5 rows x 305 columns]"
      ]
     },
     "execution_count": 16,
     "metadata": {},
     "output_type": "execute_result"
    }
   ],
   "source": [
    "convertions.head()"
   ]
  },
  {
   "cell_type": "markdown",
   "metadata": {},
   "source": [
    "# Preparing the Target"
   ]
  },
  {
   "cell_type": "code",
   "execution_count": 6,
   "metadata": {},
   "outputs": [],
   "source": [
    "competencia_ids = pd.read_csv('data/target_competencia_ids.csv')\n",
    "competencia_ids['ref_hash'] = competencia_ids['ref_hash'].str.replace('_sc', '')\n",
    "competencia_ids['ref_hash'] = competencia_ids['ref_hash'].str.replace('_st', '')\n",
    "competencia_ids.drop_duplicates(inplace=True)"
   ]
  },
  {
   "cell_type": "markdown",
   "metadata": {},
   "source": [
    "# Target Auctions"
   ]
  },
  {
   "cell_type": "code",
   "execution_count": 7,
   "metadata": {},
   "outputs": [],
   "source": [
    "competencia_ids = pd.read_csv('data/target_competencia_ids.csv')\n",
    "competencia_ids['ref_hash'] = competencia_ids['ref_hash'].str.replace('_sc', '')\n",
    "competencia_ids['ref_hash'] = competencia_ids['ref_hash'].str.replace('_st', '')\n",
    "competencia_ids.drop_duplicates(inplace=True)\n",
    "competencia_ids = competencia_ids['ref_hash']"
   ]
  },
  {
   "cell_type": "code",
   "execution_count": 8,
   "metadata": {},
   "outputs": [
    {
     "data": {
      "text/plain": [
       "152"
      ]
     },
     "execution_count": 8,
     "metadata": {},
     "output_type": "execute_result"
    }
   ],
   "source": [
    "auctions_sample = auctions_df.loc[auctions_df['device_id'].isin(competencia_ids)].copy()\n",
    "installs_sample = installs_df.loc[installs_df['ref_hash'].isin(competencia_ids)].copy()\n",
    "events_sample = events_df.loc[events_df['ref_hash'].isin(competencia_ids)].copy()\n",
    "del auctions_df\n",
    "gc.collect()"
   ]
  },
  {
   "cell_type": "code",
   "execution_count": 9,
   "metadata": {},
   "outputs": [],
   "source": [
    "# calculate time in seconds\n",
    "auctions_sample.drop_duplicates(inplace=True)\n",
    "auctions_sample = auctions_sample.sort_values(by=['device_id','date'])\n",
    "#calculate previous time in seconds\n",
    "auctions_sample['date_prev'] = auctions_sample['date'].shift()\n",
    "auctions_sample['date_dif_prev'] = auctions_sample['date']- auctions_sample['date_prev']\n",
    "auctions_sample['device_id_prev'] = auctions_sample['device_id'].astype('object').shift()\n",
    "auctions_sample['date_dif_prev'] = pd.to_timedelta(np.where(auctions_sample['device_id_prev']==auctions_sample['device_id'], auctions_sample['date_dif_prev'], np.where(auctions_sample['date']-pd.DateOffset(3)<'2019-04-18 00:00:00', auctions_sample['date']-datetime.datetime(2019,4,18), pd.to_timedelta(3, unit='d'))))\n",
    "auctions_sample['last_seen'] = auctions_sample['date_dif_prev'].dt.total_seconds()\n",
    "auctions_sample.drop(['device_id_prev','date_dif_prev','date_prev'], axis='columns', inplace=True)\n",
    "auctions_sample = auctions_sample.sort_values(by=['date'])\n",
    "#get last date of all devices ids\n",
    "group_1 = auctions_sample.groupby(['device_id']).agg({'date': 'max'}).reset_index()\n",
    "auctions_sample = pd.merge(auctions_sample, group_1, on=['device_id', 'date'], how='inner')\n",
    "\n"
   ]
  },
  {
   "cell_type": "code",
   "execution_count": 10,
   "metadata": {},
   "outputs": [
    {
     "name": "stdout",
     "output_type": "stream",
     "text": [
      "1\n",
      "2\n",
      "3\n",
      "4\n",
      "5\n",
      "6\n",
      "7\n",
      "8\n",
      "9\n",
      "10\n",
      "11\n",
      "12\n",
      "13\n",
      "14\n",
      "15\n"
     ]
    },
    {
     "data": {
      "text/html": [
       "<div>\n",
       "<style scoped>\n",
       "    .dataframe tbody tr th:only-of-type {\n",
       "        vertical-align: middle;\n",
       "    }\n",
       "\n",
       "    .dataframe tbody tr th {\n",
       "        vertical-align: top;\n",
       "    }\n",
       "\n",
       "    .dataframe thead th {\n",
       "        text-align: right;\n",
       "    }\n",
       "</style>\n",
       "<table border=\"1\" class=\"dataframe\">\n",
       "  <thead>\n",
       "    <tr style=\"text-align: right;\">\n",
       "      <th></th>\n",
       "      <th>dia</th>\n",
       "      <th>hora</th>\n",
       "      <th>hour_day_dist</th>\n",
       "    </tr>\n",
       "  </thead>\n",
       "  <tbody>\n",
       "    <tr>\n",
       "      <th>0</th>\n",
       "      <td>18</td>\n",
       "      <td>0</td>\n",
       "      <td>0.004796</td>\n",
       "    </tr>\n",
       "    <tr>\n",
       "      <th>1</th>\n",
       "      <td>18</td>\n",
       "      <td>1</td>\n",
       "      <td>0.011990</td>\n",
       "    </tr>\n",
       "    <tr>\n",
       "      <th>2</th>\n",
       "      <td>18</td>\n",
       "      <td>2</td>\n",
       "      <td>0.004796</td>\n",
       "    </tr>\n",
       "    <tr>\n",
       "      <th>3</th>\n",
       "      <td>18</td>\n",
       "      <td>3</td>\n",
       "      <td>0.011990</td>\n",
       "    </tr>\n",
       "    <tr>\n",
       "      <th>4</th>\n",
       "      <td>18</td>\n",
       "      <td>4</td>\n",
       "      <td>0.007194</td>\n",
       "    </tr>\n",
       "  </tbody>\n",
       "</table>\n",
       "</div>"
      ],
      "text/plain": [
       "   dia  hora  hour_day_dist\n",
       "0   18     0       0.004796\n",
       "1   18     1       0.011990\n",
       "2   18     2       0.004796\n",
       "3   18     3       0.011990\n",
       "4   18     4       0.007194"
      ]
     },
     "metadata": {},
     "output_type": "display_data"
    },
    {
     "name": "stdout",
     "output_type": "stream",
     "text": [
      "(4037, 182)\n",
      "(4037, 181)\n",
      "16\n",
      "17\n",
      "18\n",
      "19\n"
     ]
    }
   ],
   "source": [
    "#some features\n",
    "auct_cols = auctions_sample.columns.tolist()\n",
    "print(1)\n",
    "#installs and evetns\n",
    "events_sample['kind'] = 'event'\n",
    "print(2)\n",
    "installs_sample['kind'] = installs_sample['kind'].str.replace(' ', '_').str.lower()\n",
    "print(3)\n",
    "#information about last installs and events\n",
    "applications = installs_sample[['ref_hash','created','application_id','kind']].append(events_sample[['ref_hash', 'date', 'application_id','kind']].rename(columns = {'date':'created'}), ignore_index=True)\n",
    "print(4)\n",
    "data_1 = pd.merge(auctions_sample, applications, left_on='device_id', right_on='ref_hash', how='left')\n",
    "print(5)\n",
    "#only previus installs or events\n",
    "data_1 = data_1.loc[(data_1['date']>data_1['created']) | data_1['created'].isnull()]\n",
    "print(6)\n",
    "\n",
    "# application_id feature by id\n",
    "app_id_1 = data_1[['application_id','kind']].copy()\n",
    "print(7)\n",
    "app_id_1 = pd.get_dummies(app_id_1, dummy_na=True, prefix_sep='=')\n",
    "print(8)\n",
    "data_1.drop(columns=['application_id'], inplace=True)\n",
    "print(9)\n",
    "data_1 = pd.merge(data_1, app_id_1, left_index=True, right_index=True, how='inner')\n",
    "print(10)\n",
    "\n",
    "app_id_1_columns = app_id_1.columns.tolist()\n",
    "print(11)\n",
    "\n",
    "group_1 = data_1.groupby(auct_cols).agg({col:'sum' for col in app_id_1_columns})\n",
    "print(12)\n",
    "group_1.reset_index(inplace=True)\n",
    "\n",
    "del installs_sample\n",
    "del events_sample\n",
    "gc.collect()\n",
    "print(13)\n",
    "auctions_sample = pd.merge(auctions_sample, group_1, on=['date','device_id','ref_type_id','source_id', 'last_seen'], how='left')\n",
    "print(14)\n",
    "auctions_sample = auctions_sample.astype({col:'float32' for col in app_id_1_columns})\n",
    "print(15)\n",
    "\n",
    "auctions_sample['hora'] = auctions_sample['date'].dt.hour\n",
    "auctions_sample['dia'] = auctions_sample['date'].dt.day\n",
    "pivot_auctions = auctions_sample.groupby(['dia','hora']).size().reset_index()\n",
    "pivot_auctions.columns = ['dia','hora', 'hour_day_dist']\n",
    "max_auctions = pivot_auctions['hour_day_dist'].max().max()\n",
    "pivot_auctions['hour_day_dist'] = pivot_auctions['hour_day_dist']/max_auctions\n",
    "display(pivot_auctions.head(5))\n",
    "print(auctions_sample.shape)\n",
    "auctions_sample = pd.merge(auctions_sample, pivot_auctions, on=['dia','hora'], how='left')\n",
    "auctions_sample.drop(columns=['hora','dia'], inplace=True)\n",
    "print(auctions_sample.shape)\n",
    "\n",
    "auctions_sample.fillna(value={'application_id=nan':1,'kind=nan':1}, inplace=True)\n",
    "print(16)\n",
    "auctions_sample.fillna(value={col:0 for col in app_id_1_columns}, inplace=True)\n",
    "print(17)\n",
    "auctions_sample = auctions_sample.astype({col:'int32' for col in app_id_1_columns})\n",
    "print(18)\n",
    "auctions_sample.reset_index(inplace=True, drop=True)\n",
    "print(19)\n"
   ]
  },
  {
   "cell_type": "code",
   "execution_count": 11,
   "metadata": {},
   "outputs": [],
   "source": [
    "#cols from auctions sample\n",
    "auctions_cols = ['application_id=101', 'application_id=116', 'application_id=117', 'application_id=121', 'application_id=122', 'application_id=123', 'application_id=126', 'application_id=128', 'application_id=129', 'application_id=13', 'application_id=133', 'application_id=135', 'application_id=14', 'application_id=140', 'application_id=143', 'application_id=145', 'application_id=147', 'application_id=153', 'application_id=155', 'application_id=158', 'application_id=159', 'application_id=161', 'application_id=163', 'application_id=165', 'application_id=167', 'application_id=170', 'application_id=175', 'application_id=180', 'application_id=185', 'application_id=187', 'application_id=188', 'application_id=19', 'application_id=194', 'application_id=196', 'application_id=197', 'application_id=200', 'application_id=203', 'application_id=21', 'application_id=210', 'application_id=212', 'application_id=214', 'application_id=218', 'application_id=226', 'application_id=230', 'application_id=232', 'application_id=256', 'application_id=26', 'application_id=261', 'application_id=263', 'application_id=265', 'application_id=268', 'application_id=269', 'application_id=27', 'application_id=274', 'application_id=279', 'application_id=289', 'application_id=291', 'application_id=3', 'application_id=30', 'application_id=301', 'application_id=302', 'application_id=305', 'application_id=308', 'application_id=309', 'application_id=31', 'application_id=311', 'application_id=327', 'application_id=330', 'application_id=339', 'application_id=34', 'application_id=35', 'application_id=36', 'application_id=39', 'application_id=4', 'application_id=42', 'application_id=45', 'application_id=49', 'application_id=54', 'application_id=55', 'application_id=56', 'application_id=57', 'application_id=62', 'application_id=65', 'application_id=66', 'application_id=68', 'application_id=70', 'application_id=71', 'application_id=72', 'application_id=75', 'application_id=77', 'application_id=78', 'application_id=80', 'application_id=81', 'application_id=86', 'application_id=87', 'application_id=94', 'application_id=96', 'application_id=nan', 'date', 'device_id', 'hour_day_dist', 'in_seconds', 'kind=01_launch', 'kind=account_summary_first_step', 'kind=added_personal_info', 'kind=af_app_opend', 'kind=af_app_opened', 'kind=af_search', 'kind=af_view_product', 'kind=app_open', 'kind=applaunch', 'kind=deeplink', 'kind=deeplink_open', 'kind=list_view', 'kind=login_success', 'kind=mobilesignup', 'kind=nan', 'kind=open', 'kind=pax_app_open', 'kind=product_view', 'kind=registration_complete', 'kind=sessionbegin', 'kind=sign_in', 'last_seen', 'ref_type_id', 'source_id', 'status_censored']\n"
   ]
  },
  {
   "cell_type": "code",
   "execution_count": 12,
   "metadata": {},
   "outputs": [],
   "source": [
    "for col in auctions_cols:\n",
    "    if not(col in auctions_sample.columns):\n",
    "        auctions_sample[col] = 0\n",
    "auctions_sample = auctions_sample[auctions_cols]"
   ]
  },
  {
   "cell_type": "code",
   "execution_count": 13,
   "metadata": {},
   "outputs": [
    {
     "data": {
      "text/plain": [
       "(4037, 127)"
      ]
     },
     "execution_count": 13,
     "metadata": {},
     "output_type": "execute_result"
    }
   ],
   "source": [
    "auctions_sample.shape"
   ]
  },
  {
   "cell_type": "code",
   "execution_count": 14,
   "metadata": {},
   "outputs": [
    {
     "data": {
      "text/plain": [
       "(4037,)"
      ]
     },
     "execution_count": 14,
     "metadata": {},
     "output_type": "execute_result"
    }
   ],
   "source": [
    "competencia_ids.shape"
   ]
  },
  {
   "cell_type": "code",
   "execution_count": 15,
   "metadata": {},
   "outputs": [],
   "source": [
    "#export to file\n",
    "auctions_sample.to_csv('data/auctions_target.csv', index=False) "
   ]
  },
  {
   "cell_type": "code",
   "execution_count": 16,
   "metadata": {},
   "outputs": [
    {
     "data": {
      "text/plain": [
       "251"
      ]
     },
     "execution_count": 16,
     "metadata": {},
     "output_type": "execute_result"
    }
   ],
   "source": [
    "del auctions_sample\n",
    "gc.collect()"
   ]
  },
  {
   "cell_type": "markdown",
   "metadata": {},
   "source": [
    "# Target Convertions"
   ]
  },
  {
   "cell_type": "code",
   "execution_count": 17,
   "metadata": {},
   "outputs": [],
   "source": [
    "installs_sample = installs_df.loc[installs_df['ref_hash'].isin(competencia_ids)].copy()\n",
    "events_sample = events_df.loc[events_df['ref_hash'].isin(competencia_ids)].copy()"
   ]
  },
  {
   "cell_type": "code",
   "execution_count": 18,
   "metadata": {},
   "outputs": [
    {
     "data": {
      "text/html": [
       "<div>\n",
       "<style scoped>\n",
       "    .dataframe tbody tr th:only-of-type {\n",
       "        vertical-align: middle;\n",
       "    }\n",
       "\n",
       "    .dataframe tbody tr th {\n",
       "        vertical-align: top;\n",
       "    }\n",
       "\n",
       "    .dataframe thead th {\n",
       "        text-align: right;\n",
       "    }\n",
       "</style>\n",
       "<table border=\"1\" class=\"dataframe\">\n",
       "  <thead>\n",
       "    <tr style=\"text-align: right;\">\n",
       "      <th></th>\n",
       "      <th>dia</th>\n",
       "      <th>hora</th>\n",
       "      <th>hour_day_dist</th>\n",
       "    </tr>\n",
       "  </thead>\n",
       "  <tbody>\n",
       "    <tr>\n",
       "      <th>0</th>\n",
       "      <td>18</td>\n",
       "      <td>0</td>\n",
       "      <td>0.514706</td>\n",
       "    </tr>\n",
       "    <tr>\n",
       "      <th>1</th>\n",
       "      <td>18</td>\n",
       "      <td>1</td>\n",
       "      <td>0.529412</td>\n",
       "    </tr>\n",
       "    <tr>\n",
       "      <th>2</th>\n",
       "      <td>18</td>\n",
       "      <td>2</td>\n",
       "      <td>0.823529</td>\n",
       "    </tr>\n",
       "    <tr>\n",
       "      <th>3</th>\n",
       "      <td>18</td>\n",
       "      <td>3</td>\n",
       "      <td>0.720588</td>\n",
       "    </tr>\n",
       "    <tr>\n",
       "      <th>4</th>\n",
       "      <td>18</td>\n",
       "      <td>4</td>\n",
       "      <td>0.397059</td>\n",
       "    </tr>\n",
       "  </tbody>\n",
       "</table>\n",
       "</div>"
      ],
      "text/plain": [
       "   dia  hora  hour_day_dist\n",
       "0   18     0       0.514706\n",
       "1   18     1       0.529412\n",
       "2   18     2       0.823529\n",
       "3   18     3       0.720588\n",
       "4   18     4       0.397059"
      ]
     },
     "metadata": {},
     "output_type": "display_data"
    }
   ],
   "source": [
    "#calculate previous time in seconds\n",
    "installs_sample = installs_sample.sort_values(by=['ref_hash','created'])\n",
    "installs_sample['date_prev'] = installs_sample['created'].shift()\n",
    "installs_sample['date_dif_prev'] = installs_sample['created']- installs_sample['date_prev']\n",
    "installs_sample['device_id_prev'] = installs_sample['ref_hash'].astype('object').shift()\n",
    "installs_sample['date_dif_prev'] = pd.to_timedelta(np.where(installs_sample['device_id_prev']==installs_sample['ref_hash'], installs_sample['date_dif_prev'], np.where(installs_sample['created']-pd.DateOffset(3)<'2019-04-18 00:00:00', installs_sample['created']-datetime.datetime(2019,4,18), pd.to_timedelta(3, unit='d'))))\n",
    "installs_sample['last_seen'] = installs_sample['date_dif_prev'].dt.total_seconds()\n",
    "installs_sample.drop(['device_id_prev','date_dif_prev','date_prev'], axis='columns', inplace=True)\n",
    "installs_sample = installs_sample.sort_values(by=['created'])\n",
    "\n",
    "#average time\n",
    "installs_sample['hora'] = installs_sample['created'].dt.hour\n",
    "installs_sample['dia'] = installs_sample['created'].dt.day\n",
    "pivot_auctions = installs_sample.groupby(['dia','hora']).size().reset_index()\n",
    "pivot_auctions.columns = ['dia','hora', 'hour_day_dist']\n",
    "max_auctions = pivot_auctions['hour_day_dist'].max().max()\n",
    "pivot_auctions['hour_day_dist'] = pivot_auctions['hour_day_dist']/max_auctions\n",
    "display(pivot_auctions.head(5))\n",
    "installs_sample = pd.merge(installs_sample, pivot_auctions, on=['dia','hora'], how='left')\n",
    "installs_sample.drop(columns=['hora','dia'], inplace=True)\n",
    "\n",
    "\n"
   ]
  },
  {
   "cell_type": "code",
   "execution_count": 19,
   "metadata": {},
   "outputs": [
    {
     "data": {
      "text/html": [
       "<div>\n",
       "<style scoped>\n",
       "    .dataframe tbody tr th:only-of-type {\n",
       "        vertical-align: middle;\n",
       "    }\n",
       "\n",
       "    .dataframe tbody tr th {\n",
       "        vertical-align: top;\n",
       "    }\n",
       "\n",
       "    .dataframe thead th {\n",
       "        text-align: right;\n",
       "    }\n",
       "</style>\n",
       "<table border=\"1\" class=\"dataframe\">\n",
       "  <thead>\n",
       "    <tr style=\"text-align: right;\">\n",
       "      <th></th>\n",
       "      <th>dia</th>\n",
       "      <th>hora</th>\n",
       "      <th>hour_day_dist</th>\n",
       "    </tr>\n",
       "  </thead>\n",
       "  <tbody>\n",
       "    <tr>\n",
       "      <th>0</th>\n",
       "      <td>18</td>\n",
       "      <td>0</td>\n",
       "      <td>0.332133</td>\n",
       "    </tr>\n",
       "    <tr>\n",
       "      <th>1</th>\n",
       "      <td>18</td>\n",
       "      <td>1</td>\n",
       "      <td>0.377138</td>\n",
       "    </tr>\n",
       "    <tr>\n",
       "      <th>2</th>\n",
       "      <td>18</td>\n",
       "      <td>2</td>\n",
       "      <td>0.504050</td>\n",
       "    </tr>\n",
       "    <tr>\n",
       "      <th>3</th>\n",
       "      <td>18</td>\n",
       "      <td>3</td>\n",
       "      <td>0.383438</td>\n",
       "    </tr>\n",
       "    <tr>\n",
       "      <th>4</th>\n",
       "      <td>18</td>\n",
       "      <td>4</td>\n",
       "      <td>0.372637</td>\n",
       "    </tr>\n",
       "  </tbody>\n",
       "</table>\n",
       "</div>"
      ],
      "text/plain": [
       "   dia  hora  hour_day_dist\n",
       "0   18     0       0.332133\n",
       "1   18     1       0.377138\n",
       "2   18     2       0.504050\n",
       "3   18     3       0.383438\n",
       "4   18     4       0.372637"
      ]
     },
     "metadata": {},
     "output_type": "display_data"
    }
   ],
   "source": [
    "#calculate previous time in seconds\n",
    "events_sample = events_sample.rename(columns = {'date':'created'}).sort_values(by=['ref_hash','created'])\n",
    "events_sample['date_prev'] = events_sample['created'].shift()\n",
    "events_sample['date_dif_prev'] = events_sample['created']- events_sample['date_prev']\n",
    "events_sample['device_id_prev'] = events_sample['ref_hash'].astype('object').shift()\n",
    "events_sample['date_dif_prev'] = pd.to_timedelta(np.where(events_sample['device_id_prev']==events_sample['ref_hash'], events_sample['date_dif_prev'], np.where(events_sample['created']-pd.DateOffset(3)<'2019-04-18 00:00:00', events_sample['created']-datetime.datetime(2019,4,18), pd.to_timedelta(3, unit='d'))))\n",
    "events_sample['last_seen'] = events_sample['date_dif_prev'].dt.total_seconds()\n",
    "events_sample.drop(['device_id_prev','date_dif_prev','date_prev'], axis='columns', inplace=True)\n",
    "events_sample = events_sample.sort_values(by=['created'])\n",
    "events_sample['user_agent']=np.nan\n",
    "events_sample['kind']='event' #it is hashed\n",
    "\n",
    "#average time\n",
    "events_sample['hora'] = events_sample['created'].dt.hour\n",
    "events_sample['dia'] = events_sample['created'].dt.day\n",
    "pivot_auctions = events_sample.groupby(['dia','hora']).size().reset_index()\n",
    "pivot_auctions.columns = ['dia','hora', 'hour_day_dist']\n",
    "max_auctions = pivot_auctions['hour_day_dist'].max().max()\n",
    "pivot_auctions['hour_day_dist'] = pivot_auctions['hour_day_dist']/max_auctions\n",
    "display(pivot_auctions.head(5))\n",
    "events_sample = pd.merge(events_sample, pivot_auctions, on=['dia','hora'], how='left')\n",
    "events_sample.drop(columns=['hora','dia'], inplace=True)\n",
    "\n"
   ]
  },
  {
   "cell_type": "code",
   "execution_count": 20,
   "metadata": {},
   "outputs": [
    {
     "name": "stdout",
     "output_type": "stream",
     "text": [
      "1\n",
      "2\n",
      "3\n",
      "4\n",
      "6\n",
      "7\n",
      "8\n",
      "9\n"
     ]
    }
   ],
   "source": [
    "#some features\n",
    "install_cols = installs_sample.columns.tolist()\n",
    "print(1)\n",
    "#information about last installs and events\n",
    "convertions = installs_sample[['ref_hash','created','application_id','user_agent','wifi','kind','last_seen','hour_day_dist']].append(events_sample[['ref_hash', 'created', 'application_id','user_agent','wifi','kind','last_seen','hour_day_dist']], ignore_index=True)\n",
    "\n",
    "print(2)\n",
    "\n",
    "#user agent\n",
    "convertions['user_agent'] = np.where(convertions['user_agent'].str.contains('Android', regex=False),'Android',convertions['user_agent'])\n",
    "convertions['user_agent'] = np.where(convertions['user_agent'].str.contains('Darwin', regex=False) | convertions['user_agent'].str.contains('iOS', regex=False),'iOS',convertions['user_agent'])\n",
    "print(3)\n",
    "\n",
    "# previus applications\n",
    "\n",
    "app_id_1 = convertions[['application_id','created','ref_hash']].copy()\n",
    "group_1 = pd.merge(convertions, app_id_1, on='ref_hash', how='inner')\n",
    "group_1 = group_1.loc[(group_1['created_x']>group_1['created_y']) | group_1['created_y'].isnull()]\n",
    "group_1['application_id'] = group_1['application_id_y']\n",
    "group_1['created'] = group_1['created_x']\n",
    "group_1.drop(columns=['application_id_y','created_x', 'application_id_x'], inplace=True)\n",
    "group_1 = group_1.loc[group_1['created_y']>group_1['created']-pd.DateOffset(7)]\n",
    "group_1 = pd.get_dummies(group_1,prefix_sep='=', dummy_na=True,columns=['application_id'],drop_first=True)\n",
    "app_id_1_columns = []\n",
    "for col in group_1.columns.tolist():\n",
    "    if col.startswith('application_id'):\n",
    "        app_id_1_columns.append(col)\n",
    "group_1 = group_1.groupby(['created','ref_hash']).agg({col:'sum' for col in app_id_1_columns})\n",
    "convertions = pd.merge(convertions, group_1, on=['created','ref_hash'], how='left')\n",
    "convertions['curr_app_id'] = convertions['application_id']\n",
    "convertions.drop(columns=['application_id'], inplace=True)\n",
    "print(4)\n",
    "\n",
    "\n",
    "\n",
    "convertions = pd.get_dummies(convertions,prefix_sep='=', dummy_na=True,columns=['curr_app_id','wifi', 'kind', 'user_agent'],drop_first=True)\n",
    "\n",
    "convertions.fillna(value={'application_id=nan':1,'kind=nan':1,'curr_app_id=nan':1}, inplace=True)\n",
    "print(6)\n",
    "convertions.fillna(value={col:0 for col in app_id_1_columns}, inplace=True)\n",
    "print(7)\n",
    "convertions = convertions.astype({col:'int32' for col in app_id_1_columns})\n",
    "print(8)\n",
    "convertions.reset_index(inplace=True, drop=True)\n",
    "print(9)\n"
   ]
  },
  {
   "cell_type": "code",
   "execution_count": 21,
   "metadata": {},
   "outputs": [
    {
     "name": "stdout",
     "output_type": "stream",
     "text": [
      "(83967, 315)\n",
      "(4037, 2)\n",
      "(4037, 315)\n"
     ]
    }
   ],
   "source": [
    "print(convertions.shape)\n",
    "\n",
    "# only last info\n",
    "convertions['ref_hash'] = convertions['ref_hash'].map(str)\n",
    "group_1 = convertions.groupby(['ref_hash']).agg({'created': 'max'}).reset_index()\n",
    "print(group_1.shape)\n",
    "convertions2 = pd.merge(convertions, group_1, on=['ref_hash','created'], how='inner')\n",
    "\n",
    "## delete duplicates\n",
    "convertions2=convertions2.sort_values('last_seen', ascending=False).drop_duplicates('ref_hash').sort_index()\n",
    "\n",
    "print(convertions2.shape)"
   ]
  },
  {
   "cell_type": "code",
   "execution_count": 22,
   "metadata": {},
   "outputs": [],
   "source": [
    "#cols from convertions sample\n",
    "convertions_cols = ['application_id=116', 'application_id=117', 'application_id=121', 'application_id=122', 'application_id=123', 'application_id=124', 'application_id=126', 'application_id=128', 'application_id=13', 'application_id=133', 'application_id=135', 'application_id=136', 'application_id=14', 'application_id=140', 'application_id=145', 'application_id=147', 'application_id=148', 'application_id=149', 'application_id=150', 'application_id=154', 'application_id=155', 'application_id=157', 'application_id=158', 'application_id=159', 'application_id=16', 'application_id=161', 'application_id=163', 'application_id=164', 'application_id=167', 'application_id=170', 'application_id=178', 'application_id=182', 'application_id=185', 'application_id=187', 'application_id=19', 'application_id=190', 'application_id=194', 'application_id=195', 'application_id=196', 'application_id=197', 'application_id=200', 'application_id=204', 'application_id=21', 'application_id=210', 'application_id=213', 'application_id=214', 'application_id=218', 'application_id=219', 'application_id=221', 'application_id=226', 'application_id=230', 'application_id=231', 'application_id=235', 'application_id=239', 'application_id=243', 'application_id=248', 'application_id=256', 'application_id=26', 'application_id=263', 'application_id=265', 'application_id=268', 'application_id=269', 'application_id=274', 'application_id=279', 'application_id=289', 'application_id=291', 'application_id=3', 'application_id=302', 'application_id=305', 'application_id=308', 'application_id=309', 'application_id=31', 'application_id=311', 'application_id=320', 'application_id=323', 'application_id=327', 'application_id=339', 'application_id=34', 'application_id=344', 'application_id=35', 'application_id=36', 'application_id=39', 'application_id=41', 'application_id=45', 'application_id=48', 'application_id=49', 'application_id=54', 'application_id=55', 'application_id=56', 'application_id=57', 'application_id=62', 'application_id=65', 'application_id=68', 'application_id=70', 'application_id=71', 'application_id=75', 'application_id=77', 'application_id=78', 'application_id=79', 'application_id=80', 'application_id=86', 'application_id=87', 'application_id=93', 'application_id=94', 'application_id=97', 'application_id=99', 'application_id=nan', 'created', 'curr_app_id=112', 'curr_app_id=116', 'curr_app_id=117', 'curr_app_id=121', 'curr_app_id=122', 'curr_app_id=123', 'curr_app_id=124', 'curr_app_id=126', 'curr_app_id=128', 'curr_app_id=129', 'curr_app_id=13', 'curr_app_id=133', 'curr_app_id=135', 'curr_app_id=136', 'curr_app_id=14', 'curr_app_id=140', 'curr_app_id=143', 'curr_app_id=145', 'curr_app_id=146', 'curr_app_id=147', 'curr_app_id=148', 'curr_app_id=149', 'curr_app_id=150', 'curr_app_id=154', 'curr_app_id=155', 'curr_app_id=157', 'curr_app_id=158', 'curr_app_id=159', 'curr_app_id=16', 'curr_app_id=161', 'curr_app_id=163', 'curr_app_id=164', 'curr_app_id=165', 'curr_app_id=167', 'curr_app_id=170', 'curr_app_id=174', 'curr_app_id=175', 'curr_app_id=178', 'curr_app_id=180', 'curr_app_id=182', 'curr_app_id=185', 'curr_app_id=187', 'curr_app_id=19', 'curr_app_id=190', 'curr_app_id=191', 'curr_app_id=194', 'curr_app_id=195', 'curr_app_id=196', 'curr_app_id=197', 'curr_app_id=200', 'curr_app_id=203', 'curr_app_id=204', 'curr_app_id=205', 'curr_app_id=21', 'curr_app_id=210', 'curr_app_id=212', 'curr_app_id=213', 'curr_app_id=214', 'curr_app_id=218', 'curr_app_id=219', 'curr_app_id=221', 'curr_app_id=226', 'curr_app_id=230', 'curr_app_id=231', 'curr_app_id=232', 'curr_app_id=234', 'curr_app_id=235', 'curr_app_id=237', 'curr_app_id=239', 'curr_app_id=243', 'curr_app_id=247', 'curr_app_id=248', 'curr_app_id=256', 'curr_app_id=26', 'curr_app_id=261', 'curr_app_id=263', 'curr_app_id=265', 'curr_app_id=267', 'curr_app_id=268', 'curr_app_id=269', 'curr_app_id=27', 'curr_app_id=274', 'curr_app_id=279', 'curr_app_id=282', 'curr_app_id=289', 'curr_app_id=291', 'curr_app_id=3', 'curr_app_id=30', 'curr_app_id=301', 'curr_app_id=302', 'curr_app_id=304', 'curr_app_id=305', 'curr_app_id=308', 'curr_app_id=309', 'curr_app_id=31', 'curr_app_id=311', 'curr_app_id=320', 'curr_app_id=323', 'curr_app_id=327', 'curr_app_id=336', 'curr_app_id=339', 'curr_app_id=34', 'curr_app_id=341', 'curr_app_id=344', 'curr_app_id=35', 'curr_app_id=36', 'curr_app_id=39', 'curr_app_id=4', 'curr_app_id=41', 'curr_app_id=45', 'curr_app_id=47', 'curr_app_id=48', 'curr_app_id=49', 'curr_app_id=54', 'curr_app_id=55', 'curr_app_id=56', 'curr_app_id=57', 'curr_app_id=62', 'curr_app_id=65', 'curr_app_id=66', 'curr_app_id=68', 'curr_app_id=70', 'curr_app_id=71', 'curr_app_id=72', 'curr_app_id=75', 'curr_app_id=77', 'curr_app_id=78', 'curr_app_id=79', 'curr_app_id=80', 'curr_app_id=81', 'curr_app_id=86', 'curr_app_id=87', 'curr_app_id=89', 'curr_app_id=93', 'curr_app_id=94', 'curr_app_id=96', 'curr_app_id=97', 'curr_app_id=99', 'curr_app_id=nan', 'hour_day_dist', 'in_seconds', 'kind=account_summary_first_step', 'kind=add_payment', 'kind=add_to_cart', 'kind=adjust_reinstall', 'kind=adjust_uninstall', 'kind=af app open', 'kind=af_app_opend', 'kind=af_app_opened', 'kind=af_content_view', 'kind=af_search', 'kind=af_view_list', 'kind=af_view_product', 'kind=app first start', 'kind=app launch', 'kind=app open', 'kind=app_alive', 'kind=app_launch', 'kind=app_open', 'kind=app_opened', 'kind=background_session', 'kind=content view', 'kind=deeplink', 'kind=deeplink_open', 'kind=event', 'kind=event_listingview_flight', 'kind=event_open_app', 'kind=install', 'kind=list view', 'kind=login', 'kind=login_success', 'kind=mobilesignup', 'kind=nan', 'kind=open', 'kind=opened_app', 'kind=pax_app_open', 'kind=pre_checkout', 'kind=product view', 'kind=product_open', 'kind=product_preview', 'kind=reattribution', 'kind=reengagement', 'kind=registration_complete', 'kind=session begin', 'kind=sessionbegin', 'kind=sign in', 'kind=startsessionplayback', 'kind=terms_agree_split', 'last_seen', 'ref_hash', 'status_censored', 'user_agent=iOS', 'user_agent=nan', 'wifi=True', 'wifi=false', 'wifi=nan', 'wifi=true']\n"
   ]
  },
  {
   "cell_type": "code",
   "execution_count": 23,
   "metadata": {},
   "outputs": [],
   "source": [
    "for col in convertions_cols:\n",
    "    if not(col in convertions2.columns):\n",
    "        convertions2[col] = 0\n",
    "convertions2 = convertions2[convertions_cols]"
   ]
  },
  {
   "cell_type": "code",
   "execution_count": 24,
   "metadata": {},
   "outputs": [],
   "source": [
    "#export to file\n",
    "convertions2.to_csv('data/convertions_target.csv', index=False) "
   ]
  },
  {
   "cell_type": "markdown",
   "metadata": {},
   "source": [
    "## Neural Network solution\n",
    "\n",
    "### Hasta aquí la preparación de las entradas del modelo planteado para la solución. Debido a la limitación de capacidad de procesamiento en nuestro equipos, el modelo de NN usado y continuación de esta solución, se encuentra en la plataforma de Google Colab.\n",
    "https://colab.research.google.com/drive/1IACAqFw7FxZLtyjbz7bYC_u6Z4MOMONR\n",
    "    "
   ]
  },
  {
   "cell_type": "code",
   "execution_count": null,
   "metadata": {},
   "outputs": [],
   "source": []
  },
  {
   "cell_type": "code",
   "execution_count": null,
   "metadata": {},
   "outputs": [],
   "source": []
  }
 ],
 "metadata": {
  "kernelspec": {
   "display_name": "Python 3",
   "language": "python",
   "name": "python3"
  },
  "language_info": {
   "codemirror_mode": {
    "name": "ipython",
    "version": 3
   },
   "file_extension": ".py",
   "mimetype": "text/x-python",
   "name": "python",
   "nbconvert_exporter": "python",
   "pygments_lexer": "ipython3",
   "version": "3.7.1"
  }
 },
 "nbformat": 4,
 "nbformat_minor": 2
}
